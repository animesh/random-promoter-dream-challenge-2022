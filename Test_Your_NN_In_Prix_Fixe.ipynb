{
 "cells": [
  {
   "cell_type": "code",
   "execution_count": 12,
   "id": "02a9aaaf-ef58-4783-8c76-934620833a6a",
   "metadata": {},
   "outputs": [],
   "source": [
    "import torch.nn as nn\n",
    "from torchinfo import summary"
   ]
  },
  {
   "cell_type": "markdown",
   "id": "43d03c07-c6b0-4e72-85ff-d85ab31ae786",
   "metadata": {},
   "source": [
    "# Required code for ResNet"
   ]
  },
  {
   "cell_type": "code",
   "execution_count": 11,
   "id": "fe4805cb-d73b-4b59-8263-3b4bf479f650",
   "metadata": {},
   "outputs": [],
   "source": [
    "class ResidualBlock(nn.Module):\n",
    "    def __init__(self, in_channels, out_channels, stride = 1, downsample = None):\n",
    "        super(ResidualBlock, self).__init__()\n",
    "        self.conv1 = nn.Sequential(\n",
    "                        nn.Conv1d(in_channels, out_channels, kernel_size = 3, stride = stride, padding = 1),\n",
    "                        nn.BatchNorm1d(out_channels),\n",
    "                        nn.ReLU())\n",
    "        self.conv2 = nn.Sequential(\n",
    "                        nn.Conv1d(out_channels, out_channels, kernel_size = 3, stride = 1, padding = 1),\n",
    "                        nn.BatchNorm1d(out_channels))\n",
    "        self.downsample = downsample\n",
    "        self.relu = nn.ReLU()\n",
    "        self.out_channels = out_channels\n",
    "        \n",
    "    def forward(self, x):\n",
    "        residual = x\n",
    "        out = self.conv1(x)\n",
    "        out = self.conv2(out)\n",
    "        if self.downsample:\n",
    "            residual = self.downsample(x)\n",
    "        out += residual\n",
    "        out = self.relu(out)\n",
    "        return out"
   ]
  },
  {
   "cell_type": "markdown",
   "id": "4b3b89cf-d03f-4ec6-bbe6-80ea405c1f25",
   "metadata": {},
   "source": [
    "# Implementing FirstLayersBlock"
   ]
  },
  {
   "cell_type": "code",
   "execution_count": 70,
   "id": "5d05fbf5-2f82-4a58-b6c7-a7a902771618",
   "metadata": {},
   "outputs": [],
   "source": [
    "from prixfixe.prixfixe import FirstLayersBlock\n",
    "\n",
    "class WrongResnetFirstLayersBlock(FirstLayersBlock):\n",
    "    def __init__(self, \n",
    "                 in_channels: int, \n",
    "                 out_channels: int, \n",
    "                 seqsize: int):\n",
    "        super().__init__(in_channels=in_channels,\n",
    "                         out_channels=out_channels,\n",
    "                         seqsize=seqsize)\n",
    "        kernel_size = 7\n",
    "        stride = 1\n",
    "        padding = \"same\"\n",
    "\n",
    "        self.conv1 = nn.Sequential(\n",
    "                        nn.Conv1d(in_channels,\n",
    "                                  out_channels,\n",
    "                                  kernel_size = kernel_size,\n",
    "                                  stride = stride, \n",
    "                                  padding = padding),\n",
    "                        nn.BatchNorm1d(64),\n",
    "                        nn.ReLU())"
   ]
  },
  {
   "cell_type": "markdown",
   "id": "d0a7c813-42b6-46e5-8ce8-1ad70c6c1ade",
   "metadata": {},
   "source": [
    "##### In this scenario, we failed to implement several methods required for FirstLayersBlock. Abstract class won't allow us to use such a module"
   ]
  },
  {
   "cell_type": "code",
   "execution_count": 71,
   "id": "85f087ea-dbf0-4c94-adc4-89f1caadc73d",
   "metadata": {},
   "outputs": [
    {
     "ename": "TypeError",
     "evalue": "Can't instantiate abstract class WrongResnetFirstLayersBlock with abstract method forward",
     "output_type": "error",
     "traceback": [
      "\u001b[0;31m---------------------------------------------------------------------------\u001b[0m",
      "\u001b[0;31mTypeError\u001b[0m                                 Traceback (most recent call last)",
      "Cell \u001b[0;32mIn[71], line 1\u001b[0m\n\u001b[0;32m----> 1\u001b[0m \u001b[43mWrongResnetFirstLayersBlock\u001b[49m\u001b[43m(\u001b[49m\u001b[43min_channels\u001b[49m\u001b[38;5;241;43m=\u001b[39;49m\u001b[38;5;241;43m4\u001b[39;49m\u001b[43m,\u001b[49m\n\u001b[1;32m      2\u001b[0m \u001b[43m                       \u001b[49m\u001b[43mout_channels\u001b[49m\u001b[38;5;241;43m=\u001b[39;49m\u001b[38;5;241;43m64\u001b[39;49m\u001b[43m,\u001b[49m\u001b[43m \u001b[49m\n\u001b[1;32m      3\u001b[0m \u001b[43m                       \u001b[49m\u001b[43mseqsize\u001b[49m\u001b[38;5;241;43m=\u001b[39;49m\u001b[38;5;241;43m110\u001b[39;49m\u001b[43m)\u001b[49m\n",
      "\u001b[0;31mTypeError\u001b[0m: Can't instantiate abstract class WrongResnetFirstLayersBlock with abstract method forward"
     ]
    }
   ],
   "source": [
    "WrongResnetFirstLayersBlock(in_channels=4,\n",
    "                       out_channels=64, \n",
    "                       seqsize=110)"
   ]
  },
  {
   "cell_type": "code",
   "execution_count": 74,
   "id": "00021b2e-d203-4ea2-8079-169088b69671",
   "metadata": {},
   "outputs": [],
   "source": [
    "from prixfixe.prixfixe import FirstLayersBlock\n",
    "\n",
    "class ResnetFirstLayersBlock(FirstLayersBlock):\n",
    "    def __init__(self, \n",
    "                 in_channels: int, \n",
    "                 out_channels: int, \n",
    "                 seqsize: int):\n",
    "        super().__init__(in_channels=in_channels,\n",
    "                         out_channels=out_channels,\n",
    "                         seqsize=seqsize)\n",
    "        kernel_size = 7\n",
    "        stride = 1\n",
    "        padding = \"same\"\n",
    "\n",
    "        self.conv1 = nn.Sequential(\n",
    "                        nn.Conv1d(in_channels,\n",
    "                                  out_channels,\n",
    "                                  kernel_size = kernel_size,\n",
    "                                  stride = stride, \n",
    "                                  padding = padding),\n",
    "                        nn.BatchNorm1d(out_channels),\n",
    "                        nn.ReLU())\n",
    "    def forward(self, x):\n",
    "        x = self.conv1(x)\n",
    "        return x"
   ]
  },
  {
   "cell_type": "code",
   "execution_count": 76,
   "id": "0263bdf9-8cb3-4f30-ac02-e3e35ddfc17c",
   "metadata": {},
   "outputs": [
    {
     "data": {
      "text/plain": [
       "==========================================================================================\n",
       "Layer (type:depth-idx)                   Output Shape              Param #\n",
       "==========================================================================================\n",
       "ResnetFirstLayersBlock                   [1, 256, 110]             --\n",
       "├─Sequential: 1-1                        [1, 256, 110]             --\n",
       "│    └─Conv1d: 2-1                       [1, 256, 110]             7,424\n",
       "│    └─BatchNorm1d: 2-2                  [1, 256, 110]             512\n",
       "│    └─ReLU: 2-3                         [1, 256, 110]             --\n",
       "==========================================================================================\n",
       "Total params: 7,936\n",
       "Trainable params: 7,936\n",
       "Non-trainable params: 0\n",
       "Total mult-adds (M): 0.82\n",
       "==========================================================================================\n",
       "Input size (MB): 0.00\n",
       "Forward/backward pass size (MB): 0.45\n",
       "Params size (MB): 0.03\n",
       "Estimated Total Size (MB): 0.48\n",
       "=========================================================================================="
      ]
     },
     "execution_count": 76,
     "metadata": {},
     "output_type": "execute_result"
    }
   ],
   "source": [
    "first = ResnetFirstLayersBlock(in_channels=4,\n",
    "                       out_channels=256, \n",
    "                       seqsize=110)\n",
    "summary(first, (1, 4, 110))"
   ]
  },
  {
   "cell_type": "markdown",
   "id": "d3e10a0d-d430-4e11-a09a-1e06d877b7a7",
   "metadata": {},
   "source": [
    "# Implementing CoreBlock"
   ]
  },
  {
   "cell_type": "code",
   "execution_count": 77,
   "id": "58ef7baf-be6f-4f3c-9f89-98792113dca8",
   "metadata": {},
   "outputs": [],
   "source": [
    "from prixfixe.prixfixe import CoreBlock\n",
    "\n",
    "class ResNetCoreBlock(CoreBlock):\n",
    "    def __init__(self, \n",
    "                 in_channels: int, \n",
    "                 out_channels: int, \n",
    "                 seqsize: int):\n",
    "        super().__init__(in_channels=in_channels,\n",
    "              out_channels=out_channels,\n",
    "              seqsize=seqsize)\n",
    "        block =  ResidualBlock\n",
    "        layers =  [3,4,6,3]\n",
    "        self.inplanes = 64\n",
    "        self.layer0 = self._make_layer(block, 64, layers[0], stride = 1)\n",
    "        self.layer1 = self._make_layer(block, 128, layers[1], stride = 2)\n",
    "        self.layer2 = self._make_layer(block, 256, layers[2], stride = 2)\n",
    "        self.layer3 = self._make_layer(block, out_channels, layers[3], stride = 2)\n",
    "    \n",
    "    def _make_layer(self, block, planes, blocks, stride=1):\n",
    "        downsample = None\n",
    "        if stride != 1 or self.inplanes != planes:\n",
    "            \n",
    "            downsample = nn.Sequential(\n",
    "                nn.Conv1d(self.inplanes, planes, kernel_size=1, stride=stride),\n",
    "                nn.BatchNorm1d(planes),\n",
    "            )\n",
    "        layers = []\n",
    "        layers.append(block(self.inplanes, planes, stride, downsample))\n",
    "        self.inplanes = planes\n",
    "        for i in range(1, blocks):\n",
    "            layers.append(block(self.inplanes, planes))\n",
    "\n",
    "        return nn.Sequential(*layers)\n",
    "    \n",
    "    def forward(self, x):\n",
    "        x = self.layer0(x)\n",
    "        x = self.layer1(x)\n",
    "        x = self.layer2(x)\n",
    "        x = self.layer3(x)\n",
    "        return x"
   ]
  },
  {
   "cell_type": "code",
   "execution_count": 82,
   "id": "c88e7d0b-6d3c-4f58-9b73-004ce3b8b686",
   "metadata": {},
   "outputs": [
    {
     "data": {
      "text/plain": [
       "==========================================================================================\n",
       "Layer (type:depth-idx)                   Output Shape              Param #\n",
       "==========================================================================================\n",
       "ResNetCoreBlock                          [1, 512, 14]              --\n",
       "├─Sequential: 1-1                        [1, 64, 110]              --\n",
       "│    └─ResidualBlock: 2-1                [1, 64, 110]              --\n",
       "│    │    └─Sequential: 3-1              [1, 64, 110]              12,480\n",
       "│    │    └─Sequential: 3-2              [1, 64, 110]              12,480\n",
       "│    │    └─ReLU: 3-3                    [1, 64, 110]              --\n",
       "│    └─ResidualBlock: 2-2                [1, 64, 110]              --\n",
       "│    │    └─Sequential: 3-4              [1, 64, 110]              12,480\n",
       "│    │    └─Sequential: 3-5              [1, 64, 110]              12,480\n",
       "│    │    └─ReLU: 3-6                    [1, 64, 110]              --\n",
       "│    └─ResidualBlock: 2-3                [1, 64, 110]              --\n",
       "│    │    └─Sequential: 3-7              [1, 64, 110]              12,480\n",
       "│    │    └─Sequential: 3-8              [1, 64, 110]              12,480\n",
       "│    │    └─ReLU: 3-9                    [1, 64, 110]              --\n",
       "├─Sequential: 1-2                        [1, 128, 55]              --\n",
       "│    └─ResidualBlock: 2-4                [1, 128, 55]              --\n",
       "│    │    └─Sequential: 3-10             [1, 128, 55]              24,960\n",
       "│    │    └─Sequential: 3-11             [1, 128, 55]              49,536\n",
       "│    │    └─Sequential: 3-12             [1, 128, 55]              8,576\n",
       "│    │    └─ReLU: 3-13                   [1, 128, 55]              --\n",
       "│    └─ResidualBlock: 2-5                [1, 128, 55]              --\n",
       "│    │    └─Sequential: 3-14             [1, 128, 55]              49,536\n",
       "│    │    └─Sequential: 3-15             [1, 128, 55]              49,536\n",
       "│    │    └─ReLU: 3-16                   [1, 128, 55]              --\n",
       "│    └─ResidualBlock: 2-6                [1, 128, 55]              --\n",
       "│    │    └─Sequential: 3-17             [1, 128, 55]              49,536\n",
       "│    │    └─Sequential: 3-18             [1, 128, 55]              49,536\n",
       "│    │    └─ReLU: 3-19                   [1, 128, 55]              --\n",
       "│    └─ResidualBlock: 2-7                [1, 128, 55]              --\n",
       "│    │    └─Sequential: 3-20             [1, 128, 55]              49,536\n",
       "│    │    └─Sequential: 3-21             [1, 128, 55]              49,536\n",
       "│    │    └─ReLU: 3-22                   [1, 128, 55]              --\n",
       "├─Sequential: 1-3                        [1, 256, 28]              --\n",
       "│    └─ResidualBlock: 2-8                [1, 256, 28]              --\n",
       "│    │    └─Sequential: 3-23             [1, 256, 28]              99,072\n",
       "│    │    └─Sequential: 3-24             [1, 256, 28]              197,376\n",
       "│    │    └─Sequential: 3-25             [1, 256, 28]              33,536\n",
       "│    │    └─ReLU: 3-26                   [1, 256, 28]              --\n",
       "│    └─ResidualBlock: 2-9                [1, 256, 28]              --\n",
       "│    │    └─Sequential: 3-27             [1, 256, 28]              197,376\n",
       "│    │    └─Sequential: 3-28             [1, 256, 28]              197,376\n",
       "│    │    └─ReLU: 3-29                   [1, 256, 28]              --\n",
       "│    └─ResidualBlock: 2-10               [1, 256, 28]              --\n",
       "│    │    └─Sequential: 3-30             [1, 256, 28]              197,376\n",
       "│    │    └─Sequential: 3-31             [1, 256, 28]              197,376\n",
       "│    │    └─ReLU: 3-32                   [1, 256, 28]              --\n",
       "│    └─ResidualBlock: 2-11               [1, 256, 28]              --\n",
       "│    │    └─Sequential: 3-33             [1, 256, 28]              197,376\n",
       "│    │    └─Sequential: 3-34             [1, 256, 28]              197,376\n",
       "│    │    └─ReLU: 3-35                   [1, 256, 28]              --\n",
       "│    └─ResidualBlock: 2-12               [1, 256, 28]              --\n",
       "│    │    └─Sequential: 3-36             [1, 256, 28]              197,376\n",
       "│    │    └─Sequential: 3-37             [1, 256, 28]              197,376\n",
       "│    │    └─ReLU: 3-38                   [1, 256, 28]              --\n",
       "│    └─ResidualBlock: 2-13               [1, 256, 28]              --\n",
       "│    │    └─Sequential: 3-39             [1, 256, 28]              197,376\n",
       "│    │    └─Sequential: 3-40             [1, 256, 28]              197,376\n",
       "│    │    └─ReLU: 3-41                   [1, 256, 28]              --\n",
       "├─Sequential: 1-4                        [1, 512, 14]              --\n",
       "│    └─ResidualBlock: 2-14               [1, 512, 14]              --\n",
       "│    │    └─Sequential: 3-42             [1, 512, 14]              394,752\n",
       "│    │    └─Sequential: 3-43             [1, 512, 14]              787,968\n",
       "│    │    └─Sequential: 3-44             [1, 512, 14]              132,608\n",
       "│    │    └─ReLU: 3-45                   [1, 512, 14]              --\n",
       "│    └─ResidualBlock: 2-15               [1, 512, 14]              --\n",
       "│    │    └─Sequential: 3-46             [1, 512, 14]              787,968\n",
       "│    │    └─Sequential: 3-47             [1, 512, 14]              787,968\n",
       "│    │    └─ReLU: 3-48                   [1, 512, 14]              --\n",
       "│    └─ResidualBlock: 2-16               [1, 512, 14]              --\n",
       "│    │    └─Sequential: 3-49             [1, 512, 14]              787,968\n",
       "│    │    └─Sequential: 3-50             [1, 512, 14]              787,968\n",
       "│    │    └─ReLU: 3-51                   [1, 512, 14]              --\n",
       "==========================================================================================\n",
       "Total params: 7,226,112\n",
       "Trainable params: 7,226,112\n",
       "Non-trainable params: 0\n",
       "Total mult-adds (M): 155.72\n",
       "==========================================================================================\n",
       "Input size (MB): 0.03\n",
       "Forward/backward pass size (MB): 3.98\n",
       "Params size (MB): 28.90\n",
       "Estimated Total Size (MB): 32.92\n",
       "=========================================================================================="
      ]
     },
     "execution_count": 82,
     "metadata": {},
     "output_type": "execute_result"
    }
   ],
   "source": [
    "core = ResNetCoreBlock(in_channels=64, \n",
    "               out_channels=512,\n",
    "               seqsize=110)\n",
    "\n",
    "summary(core, (1, 64, 110))"
   ]
  },
  {
   "cell_type": "markdown",
   "id": "ac095d2a-bc83-4e3c-b4bc-243dc36d03c2",
   "metadata": {},
   "source": [
    "# Implementing FinalLayersBlock"
   ]
  },
  {
   "cell_type": "code",
   "execution_count": 83,
   "id": "05d3ebc6-007f-4b8d-8192-e0bf1476a516",
   "metadata": {},
   "outputs": [],
   "source": [
    "from prixfixe.prixfixe import FinalLayersBlock\n",
    "\n",
    "class WrongResNetFinalLayersBlock(FinalLayersBlock):\n",
    "    def __init__(self, \n",
    "                 in_channels: int, \n",
    "                 seqsize: int):\n",
    "        super().__init__(in_channels=in_channels,\n",
    "                         seqsize=seqsize)\n",
    "        \n",
    "        self.avgpool = nn.AvgPool1d(1) # global average pooling\n",
    "        self.linear = nn.Sequential(\n",
    "              nn.Linear(in_channels, in_channels),\n",
    "              nn.ReLU(),\n",
    "              nn.Linear(in_channels, 1)\n",
    "            )\n",
    "\n",
    "    def forward(self, x):\n",
    "        x = self.avgpool(x)\n",
    "        x = x.view(x.size(0), -1)\n",
    "        x = self.linear(x)\n",
    "        return x"
   ]
  },
  {
   "cell_type": "code",
   "execution_count": 85,
   "id": "6955e669-47a5-4974-8274-2d2bd8d7ad18",
   "metadata": {},
   "outputs": [
    {
     "ename": "TypeError",
     "evalue": "Can't instantiate abstract class WrongResNetFinalLayersBlock with abstract method train_step",
     "output_type": "error",
     "traceback": [
      "\u001b[0;31m---------------------------------------------------------------------------\u001b[0m",
      "\u001b[0;31mTypeError\u001b[0m                                 Traceback (most recent call last)",
      "Cell \u001b[0;32mIn[85], line 1\u001b[0m\n\u001b[0;32m----> 1\u001b[0m \u001b[43mWrongResNetFinalLayersBlock\u001b[49m\u001b[43m(\u001b[49m\u001b[43min_channels\u001b[49m\u001b[38;5;241;43m=\u001b[39;49m\u001b[38;5;241;43m512\u001b[39;49m\u001b[43m,\u001b[49m\u001b[43m \u001b[49m\u001b[43mseqsize\u001b[49m\u001b[38;5;241;43m=\u001b[39;49m\u001b[38;5;241;43m110\u001b[39;49m\u001b[43m)\u001b[49m\n",
      "\u001b[0;31mTypeError\u001b[0m: Can't instantiate abstract class WrongResNetFinalLayersBlock with abstract method train_step"
     ]
    }
   ],
   "source": [
    "WrongResNetFinalLayersBlock(in_channels=512, seqsize=110)"
   ]
  },
  {
   "cell_type": "markdown",
   "id": "6e7c308a-1985-4b8d-9647-ca83b6f27b76",
   "metadata": {},
   "source": [
    "##### _FinalLayersBlock_ must implement loss calculation logic, so we have to define train_step (for other blocks the default implementation was used)"
   ]
  },
  {
   "cell_type": "code",
   "execution_count": 86,
   "id": "7368272a-342d-4955-b438-8392fc28b68a",
   "metadata": {},
   "outputs": [],
   "source": [
    "import torch\n",
    "from typing import Any \n",
    "\n",
    "from prixfixe.prixfixe import FinalLayersBlock\n",
    "\n",
    "class ResNetFinalLayersBlock(FinalLayersBlock):\n",
    "    def __init__(self, \n",
    "                 in_channels: int, \n",
    "                 seqsize: int):\n",
    "        super().__init__(in_channels=in_channels,\n",
    "                         seqsize=seqsize)\n",
    "        \n",
    "        self.avgpool = nn.AvgPool1d(1) # global average pooling\n",
    "        self.linear = nn.Sequential(\n",
    "              nn.Linear(in_channels * self.seqsize, in_channels),\n",
    "              nn.ReLU(),\n",
    "              nn.Linear(in_channels, 1)\n",
    "            )\n",
    "        self.criterion = torch.nn.MSELoss()\n",
    "\n",
    "    def forward(self, x):\n",
    "        x = self.avgpool(x)\n",
    "        x = x.view(x.size(0), -1)\n",
    "        x = self.linear(x)\n",
    "        return x\n",
    "    \n",
    "    def train_step(self, batch: dict[str, Any]) -> tuple[torch.Tensor, torch.Tensor]:\n",
    "        x = batch[\"x\"].to(self.device)\n",
    "        y_pred = self.forward(x)\n",
    "        y = batch[\"y\"].to(self.device)\n",
    "        loss = self.criterion(y, y_pred)\n",
    "        \n",
    "        return y, loss"
   ]
  },
  {
   "cell_type": "code",
   "execution_count": 87,
   "id": "e8c8acc0-36ce-4aae-841b-ea097ff2033d",
   "metadata": {},
   "outputs": [
    {
     "data": {
      "text/plain": [
       "==========================================================================================\n",
       "Layer (type:depth-idx)                   Output Shape              Param #\n",
       "==========================================================================================\n",
       "ResNetFinalLayersBlock                   [1, 1]                    --\n",
       "├─AvgPool1d: 1-1                         [1, 512, 110]             --\n",
       "├─Sequential: 1-2                        [1, 1]                    --\n",
       "│    └─Linear: 2-1                       [1, 512]                  28,836,352\n",
       "│    └─ReLU: 2-2                         [1, 512]                  --\n",
       "│    └─Linear: 2-3                       [1, 1]                    513\n",
       "==========================================================================================\n",
       "Total params: 28,836,865\n",
       "Trainable params: 28,836,865\n",
       "Non-trainable params: 0\n",
       "Total mult-adds (M): 28.84\n",
       "==========================================================================================\n",
       "Input size (MB): 0.23\n",
       "Forward/backward pass size (MB): 0.00\n",
       "Params size (MB): 115.35\n",
       "Estimated Total Size (MB): 115.58\n",
       "=========================================================================================="
      ]
     },
     "execution_count": 87,
     "metadata": {},
     "output_type": "execute_result"
    }
   ],
   "source": [
    "final = ResNetFinalLayersBlock(in_channels=512, seqsize=110)\n",
    "summary(final, (1, 512, 110))"
   ]
  },
  {
   "cell_type": "markdown",
   "id": "7d538937-af8a-4ca2-94a5-a6a3eb9faf22",
   "metadata": {},
   "source": [
    "# Joining blocks in PrixFixe"
   ]
  },
  {
   "cell_type": "code",
   "execution_count": 88,
   "id": "4f354627-12f7-4c98-a39c-d9806fafef41",
   "metadata": {},
   "outputs": [],
   "source": [
    "from prixfixe.prixfixe import PrixFixeNet"
   ]
  },
  {
   "cell_type": "markdown",
   "id": "f631e7c2-4dd7-4d1c-981d-0b7ac1b3033c",
   "metadata": {},
   "source": [
    "##### Pay attention to the fact that _FirstLayersBlock_ and _CoreBlock_ have the \".infer_outseqsize()” method to allow passing this information to the next blocks in the pipeline. This method is already implemented in abstract class so there is no need for teams to rewrite it"
   ]
  },
  {
   "cell_type": "code",
   "execution_count": 90,
   "id": "a29bcbfb-1bb4-497d-b492-3d1e35320393",
   "metadata": {},
   "outputs": [],
   "source": [
    "first = ResnetFirstLayersBlock(in_channels=4,\n",
    "                               out_channels=64,\n",
    "                               seqsize=150)\n",
    "core = ResNetCoreBlock(in_channels=first.out_channels,\n",
    "                       out_channels=512,\n",
    "                       seqsize=first.infer_outseqsize())\n",
    "final = ResNetFinalLayersBlock(in_channels=core.out_channels,\n",
    "                               seqsize=core.infer_outseqsize())\n",
    "resnet = PrixFixeNet(first=first,\n",
    "            core=core,\n",
    "            final=final,\n",
    "            generator=torch.Generator())"
   ]
  },
  {
   "cell_type": "markdown",
   "id": "f1e93330-2bf9-42b0-ae11-15dcc49e59fe",
   "metadata": {},
   "source": [
    "##### We can check the correctness of the final model"
   ]
  },
  {
   "cell_type": "code",
   "execution_count": 91,
   "id": "1d285fc6-e62c-4917-b2b6-a0f822351605",
   "metadata": {},
   "outputs": [
    {
     "name": "stdout",
     "output_type": "stream",
     "text": [
      "Checking forward pass\n",
      "Forward is OK\n",
      "Checking training step\n",
      "Training step is OK\n"
     ]
    }
   ],
   "source": [
    "resnet.check()"
   ]
  },
  {
   "cell_type": "code",
   "execution_count": 92,
   "id": "d259a054-164c-4a02-81d9-37de8eb78acf",
   "metadata": {},
   "outputs": [
    {
     "data": {
      "text/plain": [
       "===============================================================================================\n",
       "Layer (type:depth-idx)                        Output Shape              Param #\n",
       "===============================================================================================\n",
       "PrixFixeNet                                   [1, 1]                    --\n",
       "├─ResnetFirstLayersBlock: 1-1                 --                        --\n",
       "│    └─Sequential: 2-1                        [1, 64, 150]              --\n",
       "│    │    └─Conv1d: 3-1                       [1, 64, 150]              1,856\n",
       "│    │    └─BatchNorm1d: 3-2                  [1, 64, 150]              128\n",
       "│    │    └─ReLU: 3-3                         [1, 64, 150]              --\n",
       "├─ResNetCoreBlock: 1-2                        --                        --\n",
       "│    └─Sequential: 2-2                        [1, 64, 150]              --\n",
       "│    │    └─ResidualBlock: 3-4                [1, 64, 150]              24,960\n",
       "│    │    └─ResidualBlock: 3-5                [1, 64, 150]              24,960\n",
       "│    │    └─ResidualBlock: 3-6                [1, 64, 150]              24,960\n",
       "│    └─Sequential: 2-3                        [1, 128, 75]              --\n",
       "│    │    └─ResidualBlock: 3-7                [1, 128, 75]              83,072\n",
       "│    │    └─ResidualBlock: 3-8                [1, 128, 75]              99,072\n",
       "│    │    └─ResidualBlock: 3-9                [1, 128, 75]              99,072\n",
       "│    │    └─ResidualBlock: 3-10               [1, 128, 75]              99,072\n",
       "│    └─Sequential: 2-4                        [1, 256, 38]              --\n",
       "│    │    └─ResidualBlock: 3-11               [1, 256, 38]              329,984\n",
       "│    │    └─ResidualBlock: 3-12               [1, 256, 38]              394,752\n",
       "│    │    └─ResidualBlock: 3-13               [1, 256, 38]              394,752\n",
       "│    │    └─ResidualBlock: 3-14               [1, 256, 38]              394,752\n",
       "│    │    └─ResidualBlock: 3-15               [1, 256, 38]              394,752\n",
       "│    │    └─ResidualBlock: 3-16               [1, 256, 38]              394,752\n",
       "│    └─Sequential: 2-5                        [1, 512, 19]              --\n",
       "│    │    └─ResidualBlock: 3-17               [1, 512, 19]              1,315,328\n",
       "│    │    └─ResidualBlock: 3-18               [1, 512, 19]              1,575,936\n",
       "│    │    └─ResidualBlock: 3-19               [1, 512, 19]              1,575,936\n",
       "├─ResNetFinalLayersBlock: 1-3                 --                        --\n",
       "│    └─AvgPool1d: 2-6                         [1, 512, 19]              --\n",
       "│    └─Sequential: 2-7                        [1, 1]                    --\n",
       "│    │    └─Linear: 3-20                      [1, 512]                  4,981,248\n",
       "│    │    └─ReLU: 3-21                        [1, 512]                  --\n",
       "│    │    └─Linear: 3-22                      [1, 1]                    513\n",
       "===============================================================================================\n",
       "Total params: 12,209,857\n",
       "Trainable params: 12,209,857\n",
       "Non-trainable params: 0\n",
       "Total mult-adds (M): 216.77\n",
       "===============================================================================================\n",
       "Input size (MB): 0.00\n",
       "Forward/backward pass size (MB): 5.57\n",
       "Params size (MB): 48.84\n",
       "Estimated Total Size (MB): 54.42\n",
       "==============================================================================================="
      ]
     },
     "execution_count": 92,
     "metadata": {},
     "output_type": "execute_result"
    }
   ],
   "source": [
    "summary(resnet, (1, 4, 150))"
   ]
  },
  {
   "cell_type": "markdown",
   "id": "a4c3b7a2-3682-498d-82a4-8363a4090c68",
   "metadata": {},
   "source": [
    "##### And check if it is compatible with blocks from other teams."
   ]
  },
  {
   "cell_type": "code",
   "execution_count": 96,
   "id": "165138f6-4c9b-4f80-9881-ca96330232d6",
   "metadata": {},
   "outputs": [],
   "source": [
    "from prixfixe.autosome import AutosomeCoreBlock\n",
    "\n",
    "first = ResnetFirstLayersBlock(in_channels=4,\n",
    "                               out_channels=256,\n",
    "                               seqsize=150)\n",
    "core =  AutosomeCoreBlock(in_channels=first.out_channels,\n",
    "                       out_channels=64,\n",
    "                       seqsize=first.infer_outseqsize())\n",
    "final = ResNetFinalLayersBlock(in_channels=core.out_channels,\n",
    "                               seqsize=core.infer_outseqsize())\n",
    "resnet_with_autosome_core_block = PrixFixeNet(first=first,\n",
    "            core=core,\n",
    "            final=final,\n",
    "            generator=torch.Generator())"
   ]
  },
  {
   "cell_type": "code",
   "execution_count": 97,
   "id": "8739b6f7-d301-497d-a3b1-43c5287109b5",
   "metadata": {},
   "outputs": [
    {
     "name": "stdout",
     "output_type": "stream",
     "text": [
      "Checking forward pass\n",
      "Forward is OK\n",
      "Checking training step\n",
      "Training step is OK\n"
     ]
    }
   ],
   "source": [
    "resnet_with_autosome_core_block.check()"
   ]
  },
  {
   "cell_type": "code",
   "execution_count": 98,
   "id": "1e1ecbc0-f37f-4de7-8e6d-78fdf5e5d003",
   "metadata": {},
   "outputs": [
    {
     "data": {
      "text/plain": [
       "===============================================================================================\n",
       "Layer (type:depth-idx)                        Output Shape              Param #\n",
       "===============================================================================================\n",
       "PrixFixeNet                                   [1, 1]                    --\n",
       "├─ResnetFirstLayersBlock: 1-1                 --                        --\n",
       "│    └─Sequential: 2-1                        [1, 256, 150]             --\n",
       "│    │    └─Conv1d: 3-1                       [1, 256, 150]             7,424\n",
       "│    │    └─BatchNorm1d: 3-2                  [1, 256, 150]             512\n",
       "│    │    └─ReLU: 3-3                         [1, 256, 150]             --\n",
       "├─AutosomeCoreBlock: 1-2                      --                        --\n",
       "│    └─ModuleDict: 2-2                        --                        --\n",
       "│    │    └─Sequential: 3-4                   [1, 256, 150]             337,984\n",
       "│    │    └─Sequential: 3-5                   [1, 128, 150]             459,008\n",
       "│    │    └─Sequential: 3-6                   [1, 128, 150]             173,856\n",
       "│    │    └─Sequential: 3-7                   [1, 128, 150]             229,632\n",
       "│    │    └─Sequential: 3-8                   [1, 128, 150]             87,072\n",
       "│    │    └─Sequential: 3-9                   [1, 64, 150]              114,816\n",
       "│    │    └─Sequential: 3-10                  [1, 64, 150]              45,968\n",
       "│    │    └─Sequential: 3-11                  [1, 64, 150]              57,472\n",
       "│    │    └─Sequential: 3-12                  [1, 64, 150]              45,968\n",
       "│    │    └─Sequential: 3-13                  [1, 64, 150]              57,472\n",
       "│    │    └─Sequential: 3-14                  [1, 64, 150]              45,968\n",
       "│    │    └─Sequential: 3-15                  [1, 64, 150]              57,472\n",
       "├─ResNetFinalLayersBlock: 1-3                 --                        --\n",
       "│    └─AvgPool1d: 2-3                         [1, 64, 150]              --\n",
       "│    └─Sequential: 2-4                        [1, 1]                    --\n",
       "│    │    └─Linear: 3-16                      [1, 64]                   614,464\n",
       "│    │    └─ReLU: 3-17                        [1, 64]                   --\n",
       "│    │    └─Linear: 3-18                      [1, 1]                    65\n",
       "===============================================================================================\n",
       "Total params: 2,335,153\n",
       "Trainable params: 2,335,153\n",
       "Non-trainable params: 0\n",
       "Total mult-adds (M): 235.97\n",
       "===============================================================================================\n",
       "Input size (MB): 0.00\n",
       "Forward/backward pass size (MB): 13.38\n",
       "Params size (MB): 9.34\n",
       "Estimated Total Size (MB): 22.72\n",
       "==============================================================================================="
      ]
     },
     "execution_count": 98,
     "metadata": {},
     "output_type": "execute_result"
    }
   ],
   "source": [
    "summary(resnet_with_autosome_core_block, (1, 4, 150))"
   ]
  },
  {
   "cell_type": "code",
   "execution_count": 99,
   "id": "e751fea7-89e0-4872-bd8c-52bb778ebebf",
   "metadata": {},
   "outputs": [],
   "source": [
    "from prixfixe.bhi import BHICoreBlock\n",
    "\n",
    "first = ResnetFirstLayersBlock(in_channels=4,\n",
    "                               out_channels=256,\n",
    "                               seqsize=150)\n",
    "core =  BHICoreBlock(\n",
    "    in_channels = first.out_channels,\n",
    "    out_channels = 320,\n",
    "    seqsize = first.infer_outseqsize(),\n",
    "    lstm_hidden_channels = 320,\n",
    "    kernel_sizes = [9, 15],\n",
    "    pool_size = 1,\n",
    "    dropout1 = 0.2,\n",
    "    dropout2 = 0.5\n",
    "    )\n",
    "final = ResNetFinalLayersBlock(in_channels=core.out_channels,\n",
    "                               seqsize=core.infer_outseqsize())\n",
    "resnet_with_bhi_core_block = PrixFixeNet(first=first,\n",
    "            core=core,\n",
    "            final=final,\n",
    "            generator=torch.Generator())"
   ]
  },
  {
   "cell_type": "code",
   "execution_count": 100,
   "id": "3b018039-1912-4b7a-a284-fd14c0f2e50d",
   "metadata": {},
   "outputs": [
    {
     "name": "stdout",
     "output_type": "stream",
     "text": [
      "Checking forward pass\n",
      "Forward is OK\n",
      "Checking training step\n",
      "Training step is OK\n"
     ]
    }
   ],
   "source": [
    "resnet_with_bhi_core_block.check()"
   ]
  },
  {
   "cell_type": "code",
   "execution_count": 101,
   "id": "f15797f3-a060-4f1f-a416-dcfd40bf72f7",
   "metadata": {},
   "outputs": [
    {
     "data": {
      "text/plain": [
       "==========================================================================================\n",
       "Layer (type:depth-idx)                   Output Shape              Param #\n",
       "==========================================================================================\n",
       "PrixFixeNet                              [1, 1]                    --\n",
       "├─ResnetFirstLayersBlock: 1-1            --                        --\n",
       "│    └─Sequential: 2-1                   [1, 256, 150]             --\n",
       "│    │    └─Conv1d: 3-1                  [1, 256, 150]             7,424\n",
       "│    │    └─BatchNorm1d: 3-2             [1, 256, 150]             512\n",
       "│    │    └─ReLU: 3-3                    [1, 256, 150]             --\n",
       "├─BHICoreBlock: 1-2                      --                        --\n",
       "│    └─LSTM: 2-2                         [1, 150, 640]             1,479,680\n",
       "│    └─ModuleList: 2-3                   --                        --\n",
       "│    │    └─ConvBlock: 3-4               [1, 160, 150]             921,760\n",
       "│    │    └─ConvBlock: 3-5               [1, 160, 150]             1,536,160\n",
       "│    └─Dropout: 2-4                      [1, 320, 150]             --\n",
       "├─ResNetFinalLayersBlock: 1-3            --                        --\n",
       "│    └─AvgPool1d: 2-5                    [1, 320, 150]             --\n",
       "│    └─Sequential: 2-6                   [1, 1]                    --\n",
       "│    │    └─Linear: 3-6                  [1, 320]                  15,360,320\n",
       "│    │    └─ReLU: 3-7                    [1, 320]                  --\n",
       "│    │    └─Linear: 3-8                  [1, 1]                    321\n",
       "==========================================================================================\n",
       "Total params: 19,306,177\n",
       "Trainable params: 19,306,177\n",
       "Non-trainable params: 0\n",
       "Total mult-adds (M): 607.11\n",
       "==========================================================================================\n",
       "Input size (MB): 0.00\n",
       "Forward/backward pass size (MB): 1.77\n",
       "Params size (MB): 77.22\n",
       "Estimated Total Size (MB): 79.00\n",
       "=========================================================================================="
      ]
     },
     "execution_count": 101,
     "metadata": {},
     "output_type": "execute_result"
    }
   ],
   "source": [
    "summary(resnet_with_bhi_core_block, (1, 4, 150))"
   ]
  }
 ],
 "metadata": {
  "kernelspec": {
   "display_name": "Python 3 (ipykernel)",
   "language": "python",
   "name": "python3"
  },
  "language_info": {
   "codemirror_mode": {
    "name": "ipython",
    "version": 3
   },
   "file_extension": ".py",
   "mimetype": "text/x-python",
   "name": "python",
   "nbconvert_exporter": "python",
   "pygments_lexer": "ipython3",
   "version": "3.10.9"
  }
 },
 "nbformat": 4,
 "nbformat_minor": 5
}
