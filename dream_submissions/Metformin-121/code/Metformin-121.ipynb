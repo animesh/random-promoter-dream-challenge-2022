{
 "cells": [
  {
   "cell_type": "markdown",
   "metadata": {
    "id": "oYBeKVGPUNTp"
   },
   "source": [
    "# Importing Packages and Basic Parameters"
   ]
  },
  {
   "cell_type": "code",
   "execution_count": 2,
   "metadata": {
    "colab": {
     "base_uri": "https://localhost:8080/"
    },
    "executionInfo": {
     "elapsed": 3935,
     "status": "ok",
     "timestamp": 1659163291220,
     "user": {
      "displayName": "陳在民",
      "userId": "06446248106010065052"
     },
     "user_tz": -480
    },
    "id": "RP4d3pgkUNTq",
    "outputId": "860390e2-73cf-47ee-e37d-393c35fb9640"
   },
   "outputs": [
    {
     "name": "stderr",
     "output_type": "stream",
     "text": [
      "Using TensorFlow backend.\n"
     ]
    }
   ],
   "source": [
    "import numpy as np\n",
    "import pandas as pd\n",
    "import tensorflow as tf\n",
    "import os\n",
    "import scipy.io as sio\n",
    "import pickle\n",
    "import matplotlib.pyplot as plt\n",
    "import keras\n",
    "# import random as rn\n",
    "\n",
    "from scipy import stats\n",
    "from os import listdir\n",
    "from tensorflow.python.client import device_lib\n",
    "from keras.models import Sequential, load_model\n",
    "from keras.layers import Add, GRU,CuDNNGRU, Bidirectional, LeakyReLU, Dense, Dropout, Input, Convolution1D, Layer, Concatenate, BatchNormalization, Reshape, Flatten, Activation\n",
    "from keras.callbacks import ModelCheckpoint, LearningRateScheduler, EarlyStopping\n",
    "from keras.models import Model\n",
    "from keras import regularizers, initializers, constraints\n",
    "from keras import backend as K\n",
    "from sklearn.model_selection import StratifiedKFold\n",
    "from sklearn.metrics import f1_score\n",
    "from sklearn.metrics import accuracy_score\n",
    "from sklearn.metrics import roc_auc_score\n",
    "from keras.losses import categorical_crossentropy, mean_squared_error\n",
    "from keras.utils import plot_model\n",
    "from tqdm import tqdm\n",
    "from rdkit import Chem\n",
    "random_seed = 34\n",
    "batch_size = 64*32\n",
    "num_classes = 1\n",
    "epochs = 30"
   ]
  },
  {
   "cell_type": "code",
   "execution_count": 6,
   "metadata": {
    "colab": {
     "base_uri": "https://localhost:8080/",
     "height": 206
    },
    "executionInfo": {
     "elapsed": 9704,
     "status": "ok",
     "timestamp": 1659163321206,
     "user": {
      "displayName": "陳在民",
      "userId": "06446248106010065052"
     },
     "user_tz": -480
    },
    "id": "6q-nrUj0xE48",
    "outputId": "8340aba0-be8c-487a-ee59-8b20f5b72fbe"
   },
   "outputs": [
    {
     "data": {
      "text/html": [
       "\n",
       "  <div id=\"df-0c465046-792e-4ac3-bd12-81ae3bda5653\">\n",
       "    <div class=\"colab-df-container\">\n",
       "      <div>\n",
       "<style scoped>\n",
       "    .dataframe tbody tr th:only-of-type {\n",
       "        vertical-align: middle;\n",
       "    }\n",
       "\n",
       "    .dataframe tbody tr th {\n",
       "        vertical-align: top;\n",
       "    }\n",
       "\n",
       "    .dataframe thead th {\n",
       "        text-align: right;\n",
       "    }\n",
       "</style>\n",
       "<table border=\"1\" class=\"dataframe\">\n",
       "  <thead>\n",
       "    <tr style=\"text-align: right;\">\n",
       "      <th></th>\n",
       "      <th>0</th>\n",
       "      <th>1</th>\n",
       "    </tr>\n",
       "  </thead>\n",
       "  <tbody>\n",
       "    <tr>\n",
       "      <th>0</th>\n",
       "      <td>TGCATTTTTTTCACATCTCTTTGCCACGGGGTGAAGGATAGGATGG...</td>\n",
       "      <td>11.0</td>\n",
       "    </tr>\n",
       "    <tr>\n",
       "      <th>1</th>\n",
       "      <td>TGCATTTTTTTCACATCTATGTTGCGTTAGAACGATATTGGAACAC...</td>\n",
       "      <td>6.0</td>\n",
       "    </tr>\n",
       "    <tr>\n",
       "      <th>2</th>\n",
       "      <td>TGCATTTTTTTCACATCTGTGAAGAATATCAGCTTTCAATCGTATT...</td>\n",
       "      <td>8.0</td>\n",
       "    </tr>\n",
       "    <tr>\n",
       "      <th>3</th>\n",
       "      <td>TGCATTTTTTTCACATCAATCCGAGATATCTGTTGATAAACTTACC...</td>\n",
       "      <td>9.0</td>\n",
       "    </tr>\n",
       "    <tr>\n",
       "      <th>4</th>\n",
       "      <td>TGCATTTTTTTCACATCAAGTTATCTGGTGTACGTTTTCTCGTATA...</td>\n",
       "      <td>12.0</td>\n",
       "    </tr>\n",
       "  </tbody>\n",
       "</table>\n",
       "</div>\n",
       "      <button class=\"colab-df-convert\" onclick=\"convertToInteractive('df-0c465046-792e-4ac3-bd12-81ae3bda5653')\"\n",
       "              title=\"Convert this dataframe to an interactive table.\"\n",
       "              style=\"display:none;\">\n",
       "        \n",
       "  <svg xmlns=\"http://www.w3.org/2000/svg\" height=\"24px\"viewBox=\"0 0 24 24\"\n",
       "       width=\"24px\">\n",
       "    <path d=\"M0 0h24v24H0V0z\" fill=\"none\"/>\n",
       "    <path d=\"M18.56 5.44l.94 2.06.94-2.06 2.06-.94-2.06-.94-.94-2.06-.94 2.06-2.06.94zm-11 1L8.5 8.5l.94-2.06 2.06-.94-2.06-.94L8.5 2.5l-.94 2.06-2.06.94zm10 10l.94 2.06.94-2.06 2.06-.94-2.06-.94-.94-2.06-.94 2.06-2.06.94z\"/><path d=\"M17.41 7.96l-1.37-1.37c-.4-.4-.92-.59-1.43-.59-.52 0-1.04.2-1.43.59L10.3 9.45l-7.72 7.72c-.78.78-.78 2.05 0 2.83L4 21.41c.39.39.9.59 1.41.59.51 0 1.02-.2 1.41-.59l7.78-7.78 2.81-2.81c.8-.78.8-2.07 0-2.86zM5.41 20L4 18.59l7.72-7.72 1.47 1.35L5.41 20z\"/>\n",
       "  </svg>\n",
       "      </button>\n",
       "      \n",
       "  <style>\n",
       "    .colab-df-container {\n",
       "      display:flex;\n",
       "      flex-wrap:wrap;\n",
       "      gap: 12px;\n",
       "    }\n",
       "\n",
       "    .colab-df-convert {\n",
       "      background-color: #E8F0FE;\n",
       "      border: none;\n",
       "      border-radius: 50%;\n",
       "      cursor: pointer;\n",
       "      display: none;\n",
       "      fill: #1967D2;\n",
       "      height: 32px;\n",
       "      padding: 0 0 0 0;\n",
       "      width: 32px;\n",
       "    }\n",
       "\n",
       "    .colab-df-convert:hover {\n",
       "      background-color: #E2EBFA;\n",
       "      box-shadow: 0px 1px 2px rgba(60, 64, 67, 0.3), 0px 1px 3px 1px rgba(60, 64, 67, 0.15);\n",
       "      fill: #174EA6;\n",
       "    }\n",
       "\n",
       "    [theme=dark] .colab-df-convert {\n",
       "      background-color: #3B4455;\n",
       "      fill: #D2E3FC;\n",
       "    }\n",
       "\n",
       "    [theme=dark] .colab-df-convert:hover {\n",
       "      background-color: #434B5C;\n",
       "      box-shadow: 0px 1px 3px 1px rgba(0, 0, 0, 0.15);\n",
       "      filter: drop-shadow(0px 1px 2px rgba(0, 0, 0, 0.3));\n",
       "      fill: #FFFFFF;\n",
       "    }\n",
       "  </style>\n",
       "\n",
       "      <script>\n",
       "        const buttonEl =\n",
       "          document.querySelector('#df-0c465046-792e-4ac3-bd12-81ae3bda5653 button.colab-df-convert');\n",
       "        buttonEl.style.display =\n",
       "          google.colab.kernel.accessAllowed ? 'block' : 'none';\n",
       "\n",
       "        async function convertToInteractive(key) {\n",
       "          const element = document.querySelector('#df-0c465046-792e-4ac3-bd12-81ae3bda5653');\n",
       "          const dataTable =\n",
       "            await google.colab.kernel.invokeFunction('convertToInteractive',\n",
       "                                                     [key], {});\n",
       "          if (!dataTable) return;\n",
       "\n",
       "          const docLinkHtml = 'Like what you see? Visit the ' +\n",
       "            '<a target=\"_blank\" href=https://colab.research.google.com/notebooks/data_table.ipynb>data table notebook</a>'\n",
       "            + ' to learn more about interactive tables.';\n",
       "          element.innerHTML = '';\n",
       "          dataTable['output_type'] = 'display_data';\n",
       "          await google.colab.output.renderOutput(dataTable, element);\n",
       "          const docLink = document.createElement('div');\n",
       "          docLink.innerHTML = docLinkHtml;\n",
       "          element.appendChild(docLink);\n",
       "        }\n",
       "      </script>\n",
       "    </div>\n",
       "  </div>\n",
       "  "
      ],
      "text/plain": [
       "                                                   0     1\n",
       "0  TGCATTTTTTTCACATCTCTTTGCCACGGGGTGAAGGATAGGATGG...  11.0\n",
       "1  TGCATTTTTTTCACATCTATGTTGCGTTAGAACGATATTGGAACAC...   6.0\n",
       "2  TGCATTTTTTTCACATCTGTGAAGAATATCAGCTTTCAATCGTATT...   8.0\n",
       "3  TGCATTTTTTTCACATCAATCCGAGATATCTGTTGATAAACTTACC...   9.0\n",
       "4  TGCATTTTTTTCACATCAAGTTATCTGGTGTACGTTTTCTCGTATA...  12.0"
      ]
     },
     "execution_count": 6,
     "metadata": {},
     "output_type": "execute_result"
    }
   ],
   "source": [
    "train_raw = pd.read_csv('train_sequences.txt', delimiter = '\\t', header=None)\n",
    "train_raw.head()"
   ]
  },
  {
   "cell_type": "code",
   "execution_count": 7,
   "metadata": {
    "colab": {
     "base_uri": "https://localhost:8080/",
     "height": 206
    },
    "executionInfo": {
     "elapsed": 89,
     "status": "ok",
     "timestamp": 1659163321222,
     "user": {
      "displayName": "陳在民",
      "userId": "06446248106010065052"
     },
     "user_tz": -480
    },
    "id": "ZDz7uKeMuvfY",
    "outputId": "dff5864c-8997-4425-9bd5-c66a80ab0b6b"
   },
   "outputs": [
    {
     "data": {
      "text/html": [
       "\n",
       "  <div id=\"df-f6083631-f4b7-40b3-be96-bbe66e93f8c0\">\n",
       "    <div class=\"colab-df-container\">\n",
       "      <div>\n",
       "<style scoped>\n",
       "    .dataframe tbody tr th:only-of-type {\n",
       "        vertical-align: middle;\n",
       "    }\n",
       "\n",
       "    .dataframe tbody tr th {\n",
       "        vertical-align: top;\n",
       "    }\n",
       "\n",
       "    .dataframe thead th {\n",
       "        text-align: right;\n",
       "    }\n",
       "</style>\n",
       "<table border=\"1\" class=\"dataframe\">\n",
       "  <thead>\n",
       "    <tr style=\"text-align: right;\">\n",
       "      <th></th>\n",
       "      <th>0</th>\n",
       "      <th>1</th>\n",
       "    </tr>\n",
       "  </thead>\n",
       "  <tbody>\n",
       "    <tr>\n",
       "      <th>6739253</th>\n",
       "      <td>TGCATTTTTTTCACATCCCGATTCAGCAAAATTGGTGGTTATTCTC...</td>\n",
       "      <td>11.000000</td>\n",
       "    </tr>\n",
       "    <tr>\n",
       "      <th>6739254</th>\n",
       "      <td>TGCATTTTTTTCACATCGTCGGCGCGAGGTACGGGAGGGCCCGACA...</td>\n",
       "      <td>14.000000</td>\n",
       "    </tr>\n",
       "    <tr>\n",
       "      <th>6739255</th>\n",
       "      <td>TGCATTTTTTTCACATCACGGAGTGGATGCTTGAAATCAAGAACAC...</td>\n",
       "      <td>5.223988</td>\n",
       "    </tr>\n",
       "    <tr>\n",
       "      <th>6739256</th>\n",
       "      <td>TGCATTTTTTTCACATCAGTCCGCCGAGCAAAGGTTTGTTATTTAT...</td>\n",
       "      <td>12.000000</td>\n",
       "    </tr>\n",
       "    <tr>\n",
       "      <th>6739257</th>\n",
       "      <td>TGCATTTTTTTCACATCTTCTTTTTTATTATATGTGTGATGCGCTC...</td>\n",
       "      <td>10.463105</td>\n",
       "    </tr>\n",
       "  </tbody>\n",
       "</table>\n",
       "</div>\n",
       "      <button class=\"colab-df-convert\" onclick=\"convertToInteractive('df-f6083631-f4b7-40b3-be96-bbe66e93f8c0')\"\n",
       "              title=\"Convert this dataframe to an interactive table.\"\n",
       "              style=\"display:none;\">\n",
       "        \n",
       "  <svg xmlns=\"http://www.w3.org/2000/svg\" height=\"24px\"viewBox=\"0 0 24 24\"\n",
       "       width=\"24px\">\n",
       "    <path d=\"M0 0h24v24H0V0z\" fill=\"none\"/>\n",
       "    <path d=\"M18.56 5.44l.94 2.06.94-2.06 2.06-.94-2.06-.94-.94-2.06-.94 2.06-2.06.94zm-11 1L8.5 8.5l.94-2.06 2.06-.94-2.06-.94L8.5 2.5l-.94 2.06-2.06.94zm10 10l.94 2.06.94-2.06 2.06-.94-2.06-.94-.94-2.06-.94 2.06-2.06.94z\"/><path d=\"M17.41 7.96l-1.37-1.37c-.4-.4-.92-.59-1.43-.59-.52 0-1.04.2-1.43.59L10.3 9.45l-7.72 7.72c-.78.78-.78 2.05 0 2.83L4 21.41c.39.39.9.59 1.41.59.51 0 1.02-.2 1.41-.59l7.78-7.78 2.81-2.81c.8-.78.8-2.07 0-2.86zM5.41 20L4 18.59l7.72-7.72 1.47 1.35L5.41 20z\"/>\n",
       "  </svg>\n",
       "      </button>\n",
       "      \n",
       "  <style>\n",
       "    .colab-df-container {\n",
       "      display:flex;\n",
       "      flex-wrap:wrap;\n",
       "      gap: 12px;\n",
       "    }\n",
       "\n",
       "    .colab-df-convert {\n",
       "      background-color: #E8F0FE;\n",
       "      border: none;\n",
       "      border-radius: 50%;\n",
       "      cursor: pointer;\n",
       "      display: none;\n",
       "      fill: #1967D2;\n",
       "      height: 32px;\n",
       "      padding: 0 0 0 0;\n",
       "      width: 32px;\n",
       "    }\n",
       "\n",
       "    .colab-df-convert:hover {\n",
       "      background-color: #E2EBFA;\n",
       "      box-shadow: 0px 1px 2px rgba(60, 64, 67, 0.3), 0px 1px 3px 1px rgba(60, 64, 67, 0.15);\n",
       "      fill: #174EA6;\n",
       "    }\n",
       "\n",
       "    [theme=dark] .colab-df-convert {\n",
       "      background-color: #3B4455;\n",
       "      fill: #D2E3FC;\n",
       "    }\n",
       "\n",
       "    [theme=dark] .colab-df-convert:hover {\n",
       "      background-color: #434B5C;\n",
       "      box-shadow: 0px 1px 3px 1px rgba(0, 0, 0, 0.15);\n",
       "      filter: drop-shadow(0px 1px 2px rgba(0, 0, 0, 0.3));\n",
       "      fill: #FFFFFF;\n",
       "    }\n",
       "  </style>\n",
       "\n",
       "      <script>\n",
       "        const buttonEl =\n",
       "          document.querySelector('#df-f6083631-f4b7-40b3-be96-bbe66e93f8c0 button.colab-df-convert');\n",
       "        buttonEl.style.display =\n",
       "          google.colab.kernel.accessAllowed ? 'block' : 'none';\n",
       "\n",
       "        async function convertToInteractive(key) {\n",
       "          const element = document.querySelector('#df-f6083631-f4b7-40b3-be96-bbe66e93f8c0');\n",
       "          const dataTable =\n",
       "            await google.colab.kernel.invokeFunction('convertToInteractive',\n",
       "                                                     [key], {});\n",
       "          if (!dataTable) return;\n",
       "\n",
       "          const docLinkHtml = 'Like what you see? Visit the ' +\n",
       "            '<a target=\"_blank\" href=https://colab.research.google.com/notebooks/data_table.ipynb>data table notebook</a>'\n",
       "            + ' to learn more about interactive tables.';\n",
       "          element.innerHTML = '';\n",
       "          dataTable['output_type'] = 'display_data';\n",
       "          await google.colab.output.renderOutput(dataTable, element);\n",
       "          const docLink = document.createElement('div');\n",
       "          docLink.innerHTML = docLinkHtml;\n",
       "          element.appendChild(docLink);\n",
       "        }\n",
       "      </script>\n",
       "    </div>\n",
       "  </div>\n",
       "  "
      ],
      "text/plain": [
       "                                                         0          1\n",
       "6739253  TGCATTTTTTTCACATCCCGATTCAGCAAAATTGGTGGTTATTCTC...  11.000000\n",
       "6739254  TGCATTTTTTTCACATCGTCGGCGCGAGGTACGGGAGGGCCCGACA...  14.000000\n",
       "6739255  TGCATTTTTTTCACATCACGGAGTGGATGCTTGAAATCAAGAACAC...   5.223988\n",
       "6739256  TGCATTTTTTTCACATCAGTCCGCCGAGCAAAGGTTTGTTATTTAT...  12.000000\n",
       "6739257  TGCATTTTTTTCACATCTTCTTTTTTATTATATGTGTGATGCGCTC...  10.463105"
      ]
     },
     "execution_count": 7,
     "metadata": {},
     "output_type": "execute_result"
    }
   ],
   "source": [
    "train_raw.tail()"
   ]
  },
  {
   "cell_type": "code",
   "execution_count": 8,
   "metadata": {
    "colab": {
     "base_uri": "https://localhost:8080/"
    },
    "executionInfo": {
     "elapsed": 87,
     "status": "ok",
     "timestamp": 1659163321229,
     "user": {
      "displayName": "陳在民",
      "userId": "06446248106010065052"
     },
     "user_tz": -480
    },
    "id": "jRypjT8Axzp-",
    "outputId": "aae8213a-72d2-4908-83cb-e8c2ceb53173"
   },
   "outputs": [
    {
     "data": {
      "text/plain": [
       "(17.0, 0.0)"
      ]
     },
     "execution_count": 8,
     "metadata": {},
     "output_type": "execute_result"
    }
   ],
   "source": [
    "train_raw[1].max(), train_raw[1].min()"
   ]
  },
  {
   "cell_type": "code",
   "execution_count": 9,
   "metadata": {
    "colab": {
     "base_uri": "https://localhost:8080/"
    },
    "executionInfo": {
     "elapsed": 76,
     "status": "ok",
     "timestamp": 1659163321233,
     "user": {
      "displayName": "陳在民",
      "userId": "06446248106010065052"
     },
     "user_tz": -480
    },
    "id": "wl_-ygGt5Pdw",
    "outputId": "1672d455-7999-4f2d-e71c-29ba471114ac"
   },
   "outputs": [
    {
     "data": {
      "text/plain": [
       "11.0"
      ]
     },
     "execution_count": 9,
     "metadata": {},
     "output_type": "execute_result"
    }
   ],
   "source": [
    "train_raw[1].median()"
   ]
  },
  {
   "cell_type": "code",
   "execution_count": 10,
   "metadata": {
    "colab": {
     "base_uri": "https://localhost:8080/"
    },
    "executionInfo": {
     "elapsed": 89,
     "status": "ok",
     "timestamp": 1659163321252,
     "user": {
      "displayName": "陳在民",
      "userId": "06446248106010065052"
     },
     "user_tz": -480
    },
    "id": "iHGftoaoE5a-",
    "outputId": "7542ecc6-ca36-4851-bf48-bf96729d8a85"
   },
   "outputs": [
    {
     "data": {
      "text/plain": [
       "6739258"
      ]
     },
     "execution_count": 10,
     "metadata": {},
     "output_type": "execute_result"
    }
   ],
   "source": [
    "len(train_raw[0])"
   ]
  },
  {
   "cell_type": "code",
   "execution_count": 12,
   "metadata": {
    "colab": {
     "base_uri": "https://localhost:8080/",
     "height": 206
    },
    "executionInfo": {
     "elapsed": 86,
     "status": "ok",
     "timestamp": 1659163321256,
     "user": {
      "displayName": "陳在民",
      "userId": "06446248106010065052"
     },
     "user_tz": -480
    },
    "id": "zLX7bIr6zYGI",
    "outputId": "b5088f1b-2c70-4f43-8a8b-a58ff8b4a1db"
   },
   "outputs": [
    {
     "data": {
      "text/html": [
       "\n",
       "  <div id=\"df-2cd94361-0346-4eae-aad5-ff4a76f9ddc9\">\n",
       "    <div class=\"colab-df-container\">\n",
       "      <div>\n",
       "<style scoped>\n",
       "    .dataframe tbody tr th:only-of-type {\n",
       "        vertical-align: middle;\n",
       "    }\n",
       "\n",
       "    .dataframe tbody tr th {\n",
       "        vertical-align: top;\n",
       "    }\n",
       "\n",
       "    .dataframe thead th {\n",
       "        text-align: right;\n",
       "    }\n",
       "</style>\n",
       "<table border=\"1\" class=\"dataframe\">\n",
       "  <thead>\n",
       "    <tr style=\"text-align: right;\">\n",
       "      <th></th>\n",
       "      <th>0</th>\n",
       "      <th>1</th>\n",
       "    </tr>\n",
       "  </thead>\n",
       "  <tbody>\n",
       "    <tr>\n",
       "      <th>0</th>\n",
       "      <td>TGCATTTTTTTCACATCAAAAAAAAAAAAAAAAAAAAAAACTAGCA...</td>\n",
       "      <td>NaN</td>\n",
       "    </tr>\n",
       "    <tr>\n",
       "      <th>1</th>\n",
       "      <td>TGCATTTTTTTCACATCAAAAAAAAAAAAAAAAAAAGAAAACGAGC...</td>\n",
       "      <td>NaN</td>\n",
       "    </tr>\n",
       "    <tr>\n",
       "      <th>2</th>\n",
       "      <td>TGCATTTTTTTCACATCAAAAAAAAAAAAAAAAAAAGAAAACGAGC...</td>\n",
       "      <td>NaN</td>\n",
       "    </tr>\n",
       "    <tr>\n",
       "      <th>3</th>\n",
       "      <td>TGCATTTTTTTCACATCAAAAAAAAAAAAAAAAAAAGAAAACGAGC...</td>\n",
       "      <td>NaN</td>\n",
       "    </tr>\n",
       "    <tr>\n",
       "      <th>4</th>\n",
       "      <td>TGCATTTTTTTCACATCAAAAAAAAAAAAAAAAAAAGAAAACGAGC...</td>\n",
       "      <td>NaN</td>\n",
       "    </tr>\n",
       "  </tbody>\n",
       "</table>\n",
       "</div>\n",
       "      <button class=\"colab-df-convert\" onclick=\"convertToInteractive('df-2cd94361-0346-4eae-aad5-ff4a76f9ddc9')\"\n",
       "              title=\"Convert this dataframe to an interactive table.\"\n",
       "              style=\"display:none;\">\n",
       "        \n",
       "  <svg xmlns=\"http://www.w3.org/2000/svg\" height=\"24px\"viewBox=\"0 0 24 24\"\n",
       "       width=\"24px\">\n",
       "    <path d=\"M0 0h24v24H0V0z\" fill=\"none\"/>\n",
       "    <path d=\"M18.56 5.44l.94 2.06.94-2.06 2.06-.94-2.06-.94-.94-2.06-.94 2.06-2.06.94zm-11 1L8.5 8.5l.94-2.06 2.06-.94-2.06-.94L8.5 2.5l-.94 2.06-2.06.94zm10 10l.94 2.06.94-2.06 2.06-.94-2.06-.94-.94-2.06-.94 2.06-2.06.94z\"/><path d=\"M17.41 7.96l-1.37-1.37c-.4-.4-.92-.59-1.43-.59-.52 0-1.04.2-1.43.59L10.3 9.45l-7.72 7.72c-.78.78-.78 2.05 0 2.83L4 21.41c.39.39.9.59 1.41.59.51 0 1.02-.2 1.41-.59l7.78-7.78 2.81-2.81c.8-.78.8-2.07 0-2.86zM5.41 20L4 18.59l7.72-7.72 1.47 1.35L5.41 20z\"/>\n",
       "  </svg>\n",
       "      </button>\n",
       "      \n",
       "  <style>\n",
       "    .colab-df-container {\n",
       "      display:flex;\n",
       "      flex-wrap:wrap;\n",
       "      gap: 12px;\n",
       "    }\n",
       "\n",
       "    .colab-df-convert {\n",
       "      background-color: #E8F0FE;\n",
       "      border: none;\n",
       "      border-radius: 50%;\n",
       "      cursor: pointer;\n",
       "      display: none;\n",
       "      fill: #1967D2;\n",
       "      height: 32px;\n",
       "      padding: 0 0 0 0;\n",
       "      width: 32px;\n",
       "    }\n",
       "\n",
       "    .colab-df-convert:hover {\n",
       "      background-color: #E2EBFA;\n",
       "      box-shadow: 0px 1px 2px rgba(60, 64, 67, 0.3), 0px 1px 3px 1px rgba(60, 64, 67, 0.15);\n",
       "      fill: #174EA6;\n",
       "    }\n",
       "\n",
       "    [theme=dark] .colab-df-convert {\n",
       "      background-color: #3B4455;\n",
       "      fill: #D2E3FC;\n",
       "    }\n",
       "\n",
       "    [theme=dark] .colab-df-convert:hover {\n",
       "      background-color: #434B5C;\n",
       "      box-shadow: 0px 1px 3px 1px rgba(0, 0, 0, 0.15);\n",
       "      filter: drop-shadow(0px 1px 2px rgba(0, 0, 0, 0.3));\n",
       "      fill: #FFFFFF;\n",
       "    }\n",
       "  </style>\n",
       "\n",
       "      <script>\n",
       "        const buttonEl =\n",
       "          document.querySelector('#df-2cd94361-0346-4eae-aad5-ff4a76f9ddc9 button.colab-df-convert');\n",
       "        buttonEl.style.display =\n",
       "          google.colab.kernel.accessAllowed ? 'block' : 'none';\n",
       "\n",
       "        async function convertToInteractive(key) {\n",
       "          const element = document.querySelector('#df-2cd94361-0346-4eae-aad5-ff4a76f9ddc9');\n",
       "          const dataTable =\n",
       "            await google.colab.kernel.invokeFunction('convertToInteractive',\n",
       "                                                     [key], {});\n",
       "          if (!dataTable) return;\n",
       "\n",
       "          const docLinkHtml = 'Like what you see? Visit the ' +\n",
       "            '<a target=\"_blank\" href=https://colab.research.google.com/notebooks/data_table.ipynb>data table notebook</a>'\n",
       "            + ' to learn more about interactive tables.';\n",
       "          element.innerHTML = '';\n",
       "          dataTable['output_type'] = 'display_data';\n",
       "          await google.colab.output.renderOutput(dataTable, element);\n",
       "          const docLink = document.createElement('div');\n",
       "          docLink.innerHTML = docLinkHtml;\n",
       "          element.appendChild(docLink);\n",
       "        }\n",
       "      </script>\n",
       "    </div>\n",
       "  </div>\n",
       "  "
      ],
      "text/plain": [
       "                                                   0   1\n",
       "0  TGCATTTTTTTCACATCAAAAAAAAAAAAAAAAAAAAAAACTAGCA... NaN\n",
       "1  TGCATTTTTTTCACATCAAAAAAAAAAAAAAAAAAAGAAAACGAGC... NaN\n",
       "2  TGCATTTTTTTCACATCAAAAAAAAAAAAAAAAAAAGAAAACGAGC... NaN\n",
       "3  TGCATTTTTTTCACATCAAAAAAAAAAAAAAAAAAAGAAAACGAGC... NaN\n",
       "4  TGCATTTTTTTCACATCAAAAAAAAAAAAAAAAAAAGAAAACGAGC... NaN"
      ]
     },
     "execution_count": 12,
     "metadata": {},
     "output_type": "execute_result"
    }
   ],
   "source": [
    "test_raw = pd.read_csv('test_sequences.txt', delimiter = '\\t', header=None)\n",
    "test_raw.head()"
   ]
  },
  {
   "cell_type": "code",
   "execution_count": 13,
   "metadata": {
    "colab": {
     "base_uri": "https://localhost:8080/",
     "height": 206
    },
    "executionInfo": {
     "elapsed": 490,
     "status": "ok",
     "timestamp": 1659163321663,
     "user": {
      "displayName": "陳在民",
      "userId": "06446248106010065052"
     },
     "user_tz": -480
    },
    "id": "i-B4y8pPuy-P",
    "outputId": "d6ff1672-7e71-4584-db61-ab90a5fd4a43"
   },
   "outputs": [
    {
     "data": {
      "text/html": [
       "\n",
       "  <div id=\"df-cd8d369f-48c2-4a40-9b02-87a4065756bb\">\n",
       "    <div class=\"colab-df-container\">\n",
       "      <div>\n",
       "<style scoped>\n",
       "    .dataframe tbody tr th:only-of-type {\n",
       "        vertical-align: middle;\n",
       "    }\n",
       "\n",
       "    .dataframe tbody tr th {\n",
       "        vertical-align: top;\n",
       "    }\n",
       "\n",
       "    .dataframe thead th {\n",
       "        text-align: right;\n",
       "    }\n",
       "</style>\n",
       "<table border=\"1\" class=\"dataframe\">\n",
       "  <thead>\n",
       "    <tr style=\"text-align: right;\">\n",
       "      <th></th>\n",
       "      <th>0</th>\n",
       "      <th>1</th>\n",
       "    </tr>\n",
       "  </thead>\n",
       "  <tbody>\n",
       "    <tr>\n",
       "      <th>71098</th>\n",
       "      <td>TGCATTTTTTTCACATCTTTTTTTTCTTCGTACATAGTGACGGGAC...</td>\n",
       "      <td>NaN</td>\n",
       "    </tr>\n",
       "    <tr>\n",
       "      <th>71099</th>\n",
       "      <td>TGCATTTTTTTCACATCTTTTTTTTCTTCGTACATAGTGACGGGAC...</td>\n",
       "      <td>NaN</td>\n",
       "    </tr>\n",
       "    <tr>\n",
       "      <th>71100</th>\n",
       "      <td>TGCATTTTTTTCACATCTTTTTTTTCTTCGTACATAGTGACGGGAC...</td>\n",
       "      <td>NaN</td>\n",
       "    </tr>\n",
       "    <tr>\n",
       "      <th>71101</th>\n",
       "      <td>TGCATTTTTTTCACATCTTTTTTTTCTTCGTACATAGTGACGGGAC...</td>\n",
       "      <td>NaN</td>\n",
       "    </tr>\n",
       "    <tr>\n",
       "      <th>71102</th>\n",
       "      <td>TGCATTTTTTTCACATCTTTTTTTTCTTCGTACATAGTGACGGGAC...</td>\n",
       "      <td>NaN</td>\n",
       "    </tr>\n",
       "  </tbody>\n",
       "</table>\n",
       "</div>\n",
       "      <button class=\"colab-df-convert\" onclick=\"convertToInteractive('df-cd8d369f-48c2-4a40-9b02-87a4065756bb')\"\n",
       "              title=\"Convert this dataframe to an interactive table.\"\n",
       "              style=\"display:none;\">\n",
       "        \n",
       "  <svg xmlns=\"http://www.w3.org/2000/svg\" height=\"24px\"viewBox=\"0 0 24 24\"\n",
       "       width=\"24px\">\n",
       "    <path d=\"M0 0h24v24H0V0z\" fill=\"none\"/>\n",
       "    <path d=\"M18.56 5.44l.94 2.06.94-2.06 2.06-.94-2.06-.94-.94-2.06-.94 2.06-2.06.94zm-11 1L8.5 8.5l.94-2.06 2.06-.94-2.06-.94L8.5 2.5l-.94 2.06-2.06.94zm10 10l.94 2.06.94-2.06 2.06-.94-2.06-.94-.94-2.06-.94 2.06-2.06.94z\"/><path d=\"M17.41 7.96l-1.37-1.37c-.4-.4-.92-.59-1.43-.59-.52 0-1.04.2-1.43.59L10.3 9.45l-7.72 7.72c-.78.78-.78 2.05 0 2.83L4 21.41c.39.39.9.59 1.41.59.51 0 1.02-.2 1.41-.59l7.78-7.78 2.81-2.81c.8-.78.8-2.07 0-2.86zM5.41 20L4 18.59l7.72-7.72 1.47 1.35L5.41 20z\"/>\n",
       "  </svg>\n",
       "      </button>\n",
       "      \n",
       "  <style>\n",
       "    .colab-df-container {\n",
       "      display:flex;\n",
       "      flex-wrap:wrap;\n",
       "      gap: 12px;\n",
       "    }\n",
       "\n",
       "    .colab-df-convert {\n",
       "      background-color: #E8F0FE;\n",
       "      border: none;\n",
       "      border-radius: 50%;\n",
       "      cursor: pointer;\n",
       "      display: none;\n",
       "      fill: #1967D2;\n",
       "      height: 32px;\n",
       "      padding: 0 0 0 0;\n",
       "      width: 32px;\n",
       "    }\n",
       "\n",
       "    .colab-df-convert:hover {\n",
       "      background-color: #E2EBFA;\n",
       "      box-shadow: 0px 1px 2px rgba(60, 64, 67, 0.3), 0px 1px 3px 1px rgba(60, 64, 67, 0.15);\n",
       "      fill: #174EA6;\n",
       "    }\n",
       "\n",
       "    [theme=dark] .colab-df-convert {\n",
       "      background-color: #3B4455;\n",
       "      fill: #D2E3FC;\n",
       "    }\n",
       "\n",
       "    [theme=dark] .colab-df-convert:hover {\n",
       "      background-color: #434B5C;\n",
       "      box-shadow: 0px 1px 3px 1px rgba(0, 0, 0, 0.15);\n",
       "      filter: drop-shadow(0px 1px 2px rgba(0, 0, 0, 0.3));\n",
       "      fill: #FFFFFF;\n",
       "    }\n",
       "  </style>\n",
       "\n",
       "      <script>\n",
       "        const buttonEl =\n",
       "          document.querySelector('#df-cd8d369f-48c2-4a40-9b02-87a4065756bb button.colab-df-convert');\n",
       "        buttonEl.style.display =\n",
       "          google.colab.kernel.accessAllowed ? 'block' : 'none';\n",
       "\n",
       "        async function convertToInteractive(key) {\n",
       "          const element = document.querySelector('#df-cd8d369f-48c2-4a40-9b02-87a4065756bb');\n",
       "          const dataTable =\n",
       "            await google.colab.kernel.invokeFunction('convertToInteractive',\n",
       "                                                     [key], {});\n",
       "          if (!dataTable) return;\n",
       "\n",
       "          const docLinkHtml = 'Like what you see? Visit the ' +\n",
       "            '<a target=\"_blank\" href=https://colab.research.google.com/notebooks/data_table.ipynb>data table notebook</a>'\n",
       "            + ' to learn more about interactive tables.';\n",
       "          element.innerHTML = '';\n",
       "          dataTable['output_type'] = 'display_data';\n",
       "          await google.colab.output.renderOutput(dataTable, element);\n",
       "          const docLink = document.createElement('div');\n",
       "          docLink.innerHTML = docLinkHtml;\n",
       "          element.appendChild(docLink);\n",
       "        }\n",
       "      </script>\n",
       "    </div>\n",
       "  </div>\n",
       "  "
      ],
      "text/plain": [
       "                                                       0   1\n",
       "71098  TGCATTTTTTTCACATCTTTTTTTTCTTCGTACATAGTGACGGGAC... NaN\n",
       "71099  TGCATTTTTTTCACATCTTTTTTTTCTTCGTACATAGTGACGGGAC... NaN\n",
       "71100  TGCATTTTTTTCACATCTTTTTTTTCTTCGTACATAGTGACGGGAC... NaN\n",
       "71101  TGCATTTTTTTCACATCTTTTTTTTCTTCGTACATAGTGACGGGAC... NaN\n",
       "71102  TGCATTTTTTTCACATCTTTTTTTTCTTCGTACATAGTGACGGGAC... NaN"
      ]
     },
     "execution_count": 13,
     "metadata": {},
     "output_type": "execute_result"
    }
   ],
   "source": [
    "test_raw.tail()"
   ]
  },
  {
   "cell_type": "markdown",
   "metadata": {
    "id": "YSlcCnm4UNTr"
   },
   "source": [
    "# Data Combining"
   ]
  },
  {
   "cell_type": "code",
   "execution_count": null,
   "metadata": {
    "id": "8BDDby4D7TQO"
   },
   "outputs": [],
   "source": [
    "AGCTNTable = {'T':[1,0,0,0], 'C':[0,1,0,0], 'G':[0,0,1,0], 'A':[0,0,0,1],'N':[1,1,1,1]}\n",
    "AGCTNTable_c = {'A':[1,0,0,0], 'G':[0,1,0,0], 'C':[0,0,1,0], 'T':[0,0,0,1],'N':[1,1,1,1]}\n",
    "maxLength = 142\n",
    "train_all = np.zeros((len(train_raw[0]),maxLength,4), dtype='uint8')\n",
    "train_all_c = np.zeros((len(train_raw[0]),maxLength,4), dtype='uint8')\n",
    "for i in tqdm(range(len(train_raw[0]))):\n",
    "    tempLength = len(train_raw[0][i])\n",
    "    for j in range(tempLength):\n",
    "        train_all[i,maxLength-tempLength+j,:] = AGCTNTable[train_raw[0][i][j]]\n",
    "        train_all_c[i,maxLength-tempLength+j,:] = AGCTNTable_c[train_raw[0][i][-j-1]]\n",
    "train_all.shape, train_all_c.shape"
   ]
  },
  {
   "cell_type": "code",
   "execution_count": null,
   "metadata": {
    "id": "QZ_LP03VML-U"
   },
   "outputs": [],
   "source": [
    "np.save('train_allX',train_all)\n",
    "np.save('train_allX_c',train_all_c)\n",
    "np.save('train_allY',train_raw[1].values)"
   ]
  },
  {
   "cell_type": "code",
   "execution_count": null,
   "metadata": {
    "id": "uSZH4gjFfhMD"
   },
   "outputs": [],
   "source": [
    "AGCTNTable = {'T':[1,0,0,0], 'C':[0,1,0,0], 'G':[0,0,1,0], 'A':[0,0,0,1],'N':[1,1,1,1]}\n",
    "AGCTNTable_c = {'A':[1,0,0,0], 'G':[0,1,0,0], 'C':[0,0,1,0], 'T':[0,0,0,1],'N':[1,1,1,1]}\n",
    "maxLength = 142\n",
    "test_all = np.zeros((len(test_raw[0]),maxLength,4), dtype='uint8')\n",
    "test_all_c = np.zeros((len(test_raw[0]),maxLength,4), dtype='uint8')\n",
    "for i in tqdm(range(len(test_raw[0]))):\n",
    "    tempLength = len(test_raw[0][i])\n",
    "    for j in range(tempLength):\n",
    "        test_all[i,maxLength-tempLength+j,:] = AGCTNTable[test_raw[0][i][j]]\n",
    "        test_all_c[i,maxLength-tempLength+j,:] = AGCTNTable[test_raw[0][i][-j-1]]\n",
    "test_all.shape, test_all_c.shape"
   ]
  },
  {
   "cell_type": "code",
   "execution_count": null,
   "metadata": {
    "id": "nRckvijhfxTN"
   },
   "outputs": [],
   "source": [
    "np.save('test_allX',test_all)\n",
    "np.save('test_allX_c',test_all_c)"
   ]
  },
  {
   "cell_type": "markdown",
   "metadata": {
    "id": "0Er75pGLUNT1"
   },
   "source": [
    "# Data Preprocessing"
   ]
  },
  {
   "cell_type": "code",
   "execution_count": 29,
   "metadata": {
    "colab": {
     "base_uri": "https://localhost:8080/"
    },
    "executionInfo": {
     "elapsed": 5355,
     "status": "ok",
     "timestamp": 1659164879895,
     "user": {
      "displayName": "陳在民",
      "userId": "06446248106010065052"
     },
     "user_tz": -480
    },
    "id": "H0305VM98JcP",
    "outputId": "59fbb351-fcaa-4e56-cf4f-beae3a17c677"
   },
   "outputs": [
    {
     "data": {
      "text/plain": [
       "((6739258, 142, 4), (6739258,))"
      ]
     },
     "execution_count": 29,
     "metadata": {},
     "output_type": "execute_result"
    }
   ],
   "source": [
    "X_list = np.load('train_allX.npy')\n",
    "# X_list_c = np.load('./gdrive/MyDrive/ColabDrive/train_allX_c.npy')\n",
    "Y_list = np.load('train_allY.npy')\n",
    "X_list.shape, Y_list.shape"
   ]
  },
  {
   "cell_type": "code",
   "execution_count": 30,
   "metadata": {
    "colab": {
     "base_uri": "https://localhost:8080/"
    },
    "executionInfo": {
     "elapsed": 17,
     "status": "ok",
     "timestamp": 1659164881390,
     "user": {
      "displayName": "陳在民",
      "userId": "06446248106010065052"
     },
     "user_tz": -480
    },
    "id": "I6CUH8_QUNT2",
    "outputId": "f10b5a6d-ec95-420b-9b67-d2651a56b8fa"
   },
   "outputs": [
    {
     "data": {
      "text/plain": [
       "0.7727272727272727"
      ]
     },
     "execution_count": 30,
     "metadata": {},
     "output_type": "execute_result"
    }
   ],
   "source": [
    "medianY = np.median(Y_list)\n",
    "Y_list = Y_list/(2*medianY)\n",
    "np.max(Y_list)"
   ]
  },
  {
   "cell_type": "markdown",
   "metadata": {
    "id": "LR9SbQmxUNT3"
   },
   "source": [
    "# CPU and GPU Checking"
   ]
  },
  {
   "cell_type": "code",
   "execution_count": 31,
   "metadata": {
    "colab": {
     "base_uri": "https://localhost:8080/"
    },
    "executionInfo": {
     "elapsed": 711,
     "status": "ok",
     "timestamp": 1659164885823,
     "user": {
      "displayName": "陳在民",
      "userId": "06446248106010065052"
     },
     "user_tz": -480
    },
    "id": "sjFbFJ3wUNT4",
    "outputId": "b365cde5-f751-4e7c-ae6a-34205d9575d0"
   },
   "outputs": [
    {
     "name": "stdout",
     "output_type": "stream",
     "text": [
      "Device mapping:\n",
      "/job:localhost/replica:0/task:0/device:XLA_CPU:0 -> device: XLA_CPU device\n",
      "/job:localhost/replica:0/task:0/device:XLA_GPU:0 -> device: XLA_GPU device\n",
      "/job:localhost/replica:0/task:0/device:GPU:0 -> device: 0, name: Tesla P100-PCIE-16GB, pci bus id: 0000:00:04.0, compute capability: 6.0\n",
      "\n",
      "[name: \"/device:CPU:0\"\n",
      "device_type: \"CPU\"\n",
      "memory_limit: 268435456\n",
      "locality {\n",
      "}\n",
      "incarnation: 12227944869408220547\n",
      ", name: \"/device:XLA_CPU:0\"\n",
      "device_type: \"XLA_CPU\"\n",
      "memory_limit: 17179869184\n",
      "locality {\n",
      "}\n",
      "incarnation: 7984620458453171024\n",
      "physical_device_desc: \"device: XLA_CPU device\"\n",
      ", name: \"/device:XLA_GPU:0\"\n",
      "device_type: \"XLA_GPU\"\n",
      "memory_limit: 17179869184\n",
      "locality {\n",
      "}\n",
      "incarnation: 286826605362200211\n",
      "physical_device_desc: \"device: XLA_GPU device\"\n",
      ", name: \"/device:GPU:0\"\n",
      "device_type: \"GPU\"\n",
      "memory_limit: 15964005991\n",
      "locality {\n",
      "  bus_id: 1\n",
      "  links {\n",
      "  }\n",
      "}\n",
      "incarnation: 6041425920576494438\n",
      "physical_device_desc: \"device: 0, name: Tesla P100-PCIE-16GB, pci bus id: 0000:00:04.0, compute capability: 6.0\"\n",
      "]\n"
     ]
    }
   ],
   "source": [
    "sess = tf.Session(config=tf.ConfigProto(log_device_placement=True))\n",
    "print(device_lib.list_local_devices())"
   ]
  },
  {
   "cell_type": "markdown",
   "metadata": {
    "id": "bdcF8s5hUNT5"
   },
   "source": [
    "# Defining Evaluating Function"
   ]
  },
  {
   "cell_type": "code",
   "execution_count": 16,
   "metadata": {
    "executionInfo": {
     "elapsed": 422,
     "status": "ok",
     "timestamp": 1659163379604,
     "user": {
      "displayName": "陳在民",
      "userId": "06446248106010065052"
     },
     "user_tz": -480
    },
    "id": "c7S7JQZBxmJW"
   },
   "outputs": [],
   "source": [
    "def coeff_determination(y_true, y_pred):\n",
    "  SS_res =  K.sum(K.square( y_true-y_pred )) \n",
    "  SS_tot = K.sum(K.square( y_true - K.mean(y_true) ) ) \n",
    "  return ( 1 - SS_res/(SS_tot + K.epsilon()) )\n",
    "\n",
    "def coeff_determination_loss(y_true, y_pred):\n",
    "  SS_res =  K.sum(K.square( y_true-y_pred )) \n",
    "  SS_tot = K.sum(K.square( y_true - K.mean(y_true) ) ) \n",
    "  return -( 1 - SS_res/(SS_tot + K.epsilon()) )\n"
   ]
  },
  {
   "cell_type": "markdown",
   "metadata": {
    "id": "GItNSxPkUNT5"
   },
   "source": [
    "# Defining Attention Layer"
   ]
  },
  {
   "cell_type": "code",
   "execution_count": 17,
   "metadata": {
    "executionInfo": {
     "elapsed": 15,
     "status": "ok",
     "timestamp": 1659163385425,
     "user": {
      "displayName": "陳在民",
      "userId": "06446248106010065052"
     },
     "user_tz": -480
    },
    "id": "qXRewo4OUNT6"
   },
   "outputs": [],
   "source": [
    "def dot_product(x, kernel):\n",
    "    if K.backend() == 'tensorflow':\n",
    "        return K.squeeze(K.dot(x, K.expand_dims(kernel)), axis=-1)\n",
    "    else:\n",
    "        return K.dot(x, kernel)\n",
    "    \n",
    "class AttentionWithContext(Layer):\n",
    "    def __init__(self,\n",
    "                 W_regularizer=None, u_regularizer=None, b_regularizer=None,\n",
    "                 W_constraint=None, u_constraint=None, b_constraint=None,\n",
    "                 bias=True, **kwargs): \n",
    "        self.supports_masking = True\n",
    "        self.init = initializers.get('glorot_uniform') \n",
    "        self.W_regularizer = regularizers.get(W_regularizer)\n",
    "        self.u_regularizer = regularizers.get(u_regularizer)\n",
    "        self.b_regularizer = regularizers.get(b_regularizer) \n",
    "        self.W_constraint = constraints.get(W_constraint)\n",
    "        self.u_constraint = constraints.get(u_constraint)\n",
    "        self.b_constraint = constraints.get(b_constraint) \n",
    "        self.bias = bias\n",
    "        super(AttentionWithContext, self).__init__(**kwargs)\n",
    " \n",
    "    def build(self, input_shape):\n",
    "        assert len(input_shape) == 3\n",
    "        self.W = self.add_weight(shape=(input_shape[-1], input_shape[-1],),\n",
    "                                 initializer=self.init,\n",
    "                                 name='{}_W'.format(self.name),\n",
    "                                 regularizer=self.W_regularizer,\n",
    "                                 constraint=self.W_constraint)\n",
    "        if self.bias:\n",
    "            self.b = self.add_weight(shape=(input_shape[-1],),\n",
    "                                     initializer='zero',\n",
    "                                     name='{}_b'.format(self.name),\n",
    "                                     regularizer=self.b_regularizer,\n",
    "                                     constraint=self.b_constraint) \n",
    "            self.u = self.add_weight(shape=(input_shape[-1],),\n",
    "                                 initializer=self.init,\n",
    "                                 name='{}_u'.format(self.name),\n",
    "                                 regularizer=self.u_regularizer,\n",
    "                                 constraint=self.u_constraint) \n",
    "        super(AttentionWithContext, self).build(input_shape)\n",
    " \n",
    "    def compute_mask(self, input, input_mask=None):\n",
    "        return None\n",
    " \n",
    "    def call(self, x, mask=None):\n",
    "        uit = dot_product(x, self.W) \n",
    "        if self.bias:\n",
    "            uit += self.b \n",
    "        uit = K.tanh(uit)\n",
    "        ait = dot_product(uit, self.u) \n",
    "        a = K.exp(ait)\n",
    "        if mask is not None:\n",
    "            a *= K.cast(mask, K.floatx())\n",
    "        a /= K.cast(K.sum(a, axis=1, keepdims=True) + K.epsilon(), K.floatx()) \n",
    "        a = K.expand_dims(a)\n",
    "        weighted_input = x * a\n",
    "        return K.sum(weighted_input, axis=1)\n",
    " \n",
    "    def compute_output_shape(self, input_shape):\n",
    "        return input_shape[0], input_shape[-1]"
   ]
  },
  {
   "cell_type": "markdown",
   "metadata": {
    "id": "b9eUNRx1UNT-"
   },
   "source": [
    "# Model structure"
   ]
  },
  {
   "cell_type": "code",
   "execution_count": 18,
   "metadata": {
    "colab": {
     "base_uri": "https://localhost:8080/"
    },
    "executionInfo": {
     "elapsed": 2134,
     "status": "ok",
     "timestamp": 1659163394571,
     "user": {
      "displayName": "陳在民",
      "userId": "06446248106010065052"
     },
     "user_tz": -480
    },
    "id": "F3EcT3RyUx74",
    "outputId": "4a1636d9-87b7-4eae-ab01-022e17b7e851"
   },
   "outputs": [
    {
     "name": "stdout",
     "output_type": "stream",
     "text": [
      "WARNING:tensorflow:From /tensorflow-1.15.2/python3.7/tensorflow_core/python/ops/resource_variable_ops.py:1630: calling BaseResourceVariable.__init__ (from tensorflow.python.ops.resource_variable_ops) with constraint is deprecated and will be removed in a future version.\n",
      "Instructions for updating:\n",
      "If using Keras pass *_constraint arguments to layers.\n",
      "Model: \"model_1\"\n",
      "_________________________________________________________________\n",
      "Layer (type)                 Output Shape              Param #   \n",
      "=================================================================\n",
      "main_input (InputLayer)      (None, 142, 4)            0         \n",
      "_________________________________________________________________\n",
      "bidirectional_1 (Bidirection (None, 142, 128)          26880     \n",
      "_________________________________________________________________\n",
      "bidirectional_2 (Bidirection (None, 142, 128)          74496     \n",
      "_________________________________________________________________\n",
      "bidirectional_3 (Bidirection (None, 142, 128)          74496     \n",
      "_________________________________________________________________\n",
      "bidirectional_4 (Bidirection (None, 142, 128)          74496     \n",
      "_________________________________________________________________\n",
      "bidirectional_5 (Bidirection (None, 142, 128)          74496     \n",
      "_________________________________________________________________\n",
      "bidirectional_6 (Bidirection (None, 142, 128)          74496     \n",
      "_________________________________________________________________\n",
      "bidirectional_7 (Bidirection (None, 142, 128)          74496     \n",
      "_________________________________________________________________\n",
      "bidirectional_8 (Bidirection (None, 142, 128)          74496     \n",
      "_________________________________________________________________\n",
      "attention_with_context_1 (At (None, 128)               16640     \n",
      "_________________________________________________________________\n",
      "batch_normalization_1 (Batch (None, 128)               512       \n",
      "_________________________________________________________________\n",
      "leaky_re_lu_1 (LeakyReLU)    (None, 128)               0         \n",
      "_________________________________________________________________\n",
      "dropout_1 (Dropout)          (None, 128)               0         \n",
      "_________________________________________________________________\n",
      "dense_1 (Dense)              (None, 1)                 129       \n",
      "=================================================================\n",
      "Total params: 565,633\n",
      "Trainable params: 565,377\n",
      "Non-trainable params: 256\n",
      "_________________________________________________________________\n",
      "None\n"
     ]
    }
   ],
   "source": [
    "#model structure\n",
    "def MetforNet121(length):\n",
    "    # outputAttentions = []\n",
    "    main_input = Input(shape=(length,4), dtype='float32', name='main_input')\n",
    "    x = Bidirectional(CuDNNGRU(64,return_sequences=True,return_state=False))(main_input)\n",
    "    x = Bidirectional(CuDNNGRU(64,return_sequences=True,return_state=False))(x)\n",
    "    x = Bidirectional(CuDNNGRU(64,return_sequences=True,return_state=False))(x)\n",
    "    x = Bidirectional(CuDNNGRU(64,return_sequences=True,return_state=False))(x)\n",
    "    x = Bidirectional(CuDNNGRU(64,return_sequences=True,return_state=False))(x)\n",
    "    x = Bidirectional(CuDNNGRU(64,return_sequences=True,return_state=False))(x)\n",
    "    x = Bidirectional(CuDNNGRU(64,return_sequences=True,return_state=False))(x)\n",
    "    x = Bidirectional(CuDNNGRU(64,return_sequences=True,return_state=False))(x)\n",
    "        \n",
    "    x = AttentionWithContext()(x)\n",
    "    x = BatchNormalization()(x)\n",
    "    x = LeakyReLU(alpha=0.3)(x)\n",
    "    x = Dropout(0.2)(x)\n",
    "    # x = Convolution1D(1, 1, padding='same')(x)\n",
    "    # x = Flatten()(x)\n",
    "    main_output = Dense(num_classes, activation='sigmoid')(x)\n",
    "    return Model(inputs=main_input, outputs=main_output)\n",
    "model = MetforNet121(142)\n",
    "print(model.summary())"
   ]
  },
  {
   "cell_type": "code",
   "execution_count": null,
   "metadata": {
    "colab": {
     "base_uri": "https://localhost:8080/"
    },
    "executionInfo": {
     "elapsed": 54560650,
     "status": "ok",
     "timestamp": 1659126616468,
     "user": {
      "displayName": "陳在民",
      "userId": "06446248106010065052"
     },
     "user_tz": -480
    },
    "id": "LhCh2FybjdJH",
    "outputId": "1e27106e-be2b-4843-9726-68174a24d0a6"
   },
   "outputs": [
    {
     "name": "stdout",
     "output_type": "stream",
     "text": [
      "WARNING:tensorflow:From /tensorflow-1.15.2/python3.7/keras/backend/tensorflow_backend.py:422: The name tf.global_variables is deprecated. Please use tf.compat.v1.global_variables instead.\n",
      "\n",
      "Train on 6000000 samples, validate on 739258 samples\n",
      "Epoch 1/30\n",
      "6000000/6000000 [==============================] - 1819s 303us/step - loss: 0.0070 - mean_squared_error: 0.0070 - coeff_determination: 0.3967 - val_loss: 0.0651 - val_mean_squared_error: 0.0651 - val_coeff_determination: -4.6250\n",
      "\n",
      "Epoch 00001: val_loss improved from inf to 0.06507, saving model to ./gdrive/MyDrive/ColabDrive/expression_f4_b32_full_gru_8_coeff_determination_loss\n",
      "Epoch 2/30\n",
      "6000000/6000000 [==============================] - 1812s 302us/step - loss: 0.0061 - mean_squared_error: 0.0061 - coeff_determination: 0.4788 - val_loss: 0.0069 - val_mean_squared_error: 0.0069 - val_coeff_determination: 0.4028\n",
      "\n",
      "Epoch 00002: val_loss improved from 0.06507 to 0.00692, saving model to ./gdrive/MyDrive/ColabDrive/expression_f4_b32_full_gru_8_coeff_determination_loss\n",
      "Epoch 3/30\n",
      "6000000/6000000 [==============================] - 1820s 303us/step - loss: 0.0057 - mean_squared_error: 0.0057 - coeff_determination: 0.5051 - val_loss: 0.0202 - val_mean_squared_error: 0.0202 - val_coeff_determination: -0.7457\n",
      "\n",
      "Epoch 00003: val_loss did not improve from 0.00692\n",
      "Epoch 4/30\n",
      "6000000/6000000 [==============================] - 1819s 303us/step - loss: 0.0056 - mean_squared_error: 0.0056 - coeff_determination: 0.5213 - val_loss: 0.0079 - val_mean_squared_error: 0.0079 - val_coeff_determination: 0.3143\n",
      "\n",
      "Epoch 00004: val_loss did not improve from 0.00692\n",
      "Epoch 5/30\n",
      "6000000/6000000 [==============================] - 1826s 304us/step - loss: 0.0054 - mean_squared_error: 0.0054 - coeff_determination: 0.5342 - val_loss: 0.0056 - val_mean_squared_error: 0.0056 - val_coeff_determination: 0.5151\n",
      "\n",
      "Epoch 00005: val_loss improved from 0.00692 to 0.00561, saving model to ./gdrive/MyDrive/ColabDrive/expression_f4_b32_full_gru_8_coeff_determination_loss\n",
      "Epoch 6/30\n",
      "6000000/6000000 [==============================] - 1817s 303us/step - loss: 0.0053 - mean_squared_error: 0.0053 - coeff_determination: 0.5423 - val_loss: 0.0053 - val_mean_squared_error: 0.0053 - val_coeff_determination: 0.5398\n",
      "\n",
      "Epoch 00006: val_loss improved from 0.00561 to 0.00533, saving model to ./gdrive/MyDrive/ColabDrive/expression_f4_b32_full_gru_8_coeff_determination_loss\n",
      "Epoch 7/30\n",
      "6000000/6000000 [==============================] - 1822s 304us/step - loss: 0.0053 - mean_squared_error: 0.0053 - coeff_determination: 0.5466 - val_loss: 0.0056 - val_mean_squared_error: 0.0056 - val_coeff_determination: 0.5169\n",
      "\n",
      "Epoch 00007: val_loss did not improve from 0.00533\n",
      "Epoch 8/30\n",
      "6000000/6000000 [==============================] - 1815s 303us/step - loss: 0.0052 - mean_squared_error: 0.0052 - coeff_determination: 0.5499 - val_loss: 0.0065 - val_mean_squared_error: 0.0065 - val_coeff_determination: 0.4391\n",
      "\n",
      "Epoch 00008: val_loss did not improve from 0.00533\n",
      "Epoch 9/30\n",
      "6000000/6000000 [==============================] - 1822s 304us/step - loss: 0.0052 - mean_squared_error: 0.0052 - coeff_determination: 0.5528 - val_loss: 0.0053 - val_mean_squared_error: 0.0053 - val_coeff_determination: 0.5400\n",
      "\n",
      "Epoch 00009: val_loss improved from 0.00533 to 0.00533, saving model to ./gdrive/MyDrive/ColabDrive/expression_f4_b32_full_gru_8_coeff_determination_loss\n",
      "Epoch 10/30\n",
      "6000000/6000000 [==============================] - 1816s 303us/step - loss: 0.0052 - mean_squared_error: 0.0052 - coeff_determination: 0.5551 - val_loss: 0.0067 - val_mean_squared_error: 0.0067 - val_coeff_determination: 0.4241\n",
      "\n",
      "Epoch 00010: val_loss did not improve from 0.00533\n",
      "Epoch 11/30\n",
      "6000000/6000000 [==============================] - 1821s 304us/step - loss: 0.0051 - mean_squared_error: 0.0051 - coeff_determination: 0.5573 - val_loss: 0.0053 - val_mean_squared_error: 0.0053 - val_coeff_determination: 0.5383\n",
      "\n",
      "Epoch 00011: val_loss did not improve from 0.00533\n",
      "Epoch 12/30\n",
      "6000000/6000000 [==============================] - 1816s 303us/step - loss: 0.0051 - mean_squared_error: 0.0051 - coeff_determination: 0.5592 - val_loss: 0.0053 - val_mean_squared_error: 0.0053 - val_coeff_determination: 0.5403\n",
      "\n",
      "Epoch 00012: val_loss improved from 0.00533 to 0.00532, saving model to ./gdrive/MyDrive/ColabDrive/expression_f4_b32_full_gru_8_coeff_determination_loss\n",
      "Epoch 13/30\n",
      "6000000/6000000 [==============================] - 1824s 304us/step - loss: 0.0051 - mean_squared_error: 0.0051 - coeff_determination: 0.5610 - val_loss: 0.0056 - val_mean_squared_error: 0.0056 - val_coeff_determination: 0.5177\n",
      "\n",
      "Epoch 00013: val_loss did not improve from 0.00532\n",
      "Epoch 14/30\n",
      "6000000/6000000 [==============================] - 1816s 303us/step - loss: 0.0051 - mean_squared_error: 0.0051 - coeff_determination: 0.5628 - val_loss: 0.0059 - val_mean_squared_error: 0.0059 - val_coeff_determination: 0.4894\n",
      "\n",
      "Epoch 00014: val_loss did not improve from 0.00532\n",
      "Epoch 15/30\n",
      "6000000/6000000 [==============================] - 1822s 304us/step - loss: 0.0051 - mean_squared_error: 0.0051 - coeff_determination: 0.5645 - val_loss: 0.0054 - val_mean_squared_error: 0.0054 - val_coeff_determination: 0.5334\n",
      "\n",
      "Epoch 00015: val_loss did not improve from 0.00532\n",
      "Epoch 16/30\n",
      "6000000/6000000 [==============================] - 1815s 303us/step - loss: 0.0050 - mean_squared_error: 0.0050 - coeff_determination: 0.5660 - val_loss: 0.0053 - val_mean_squared_error: 0.0053 - val_coeff_determination: 0.5383\n",
      "\n",
      "Epoch 00016: val_loss did not improve from 0.00532\n",
      "Epoch 17/30\n",
      "6000000/6000000 [==============================] - 1822s 304us/step - loss: 0.0050 - mean_squared_error: 0.0050 - coeff_determination: 0.5674 - val_loss: 0.0060 - val_mean_squared_error: 0.0060 - val_coeff_determination: 0.4845\n",
      "\n",
      "Epoch 00017: val_loss did not improve from 0.00532\n",
      "Epoch 18/30\n",
      "6000000/6000000 [==============================] - 1815s 303us/step - loss: 0.0050 - mean_squared_error: 0.0050 - coeff_determination: 0.5690 - val_loss: 0.0064 - val_mean_squared_error: 0.0064 - val_coeff_determination: 0.4493\n",
      "\n",
      "Epoch 00018: val_loss did not improve from 0.00532\n",
      "Epoch 19/30\n",
      "6000000/6000000 [==============================] - 1823s 304us/step - loss: 0.0050 - mean_squared_error: 0.0050 - coeff_determination: 0.5703 - val_loss: 0.0053 - val_mean_squared_error: 0.0053 - val_coeff_determination: 0.5436\n",
      "\n",
      "Epoch 00019: val_loss improved from 0.00532 to 0.00528, saving model to ./gdrive/MyDrive/ColabDrive/expression_f4_b32_full_gru_8_coeff_determination_loss\n",
      "Epoch 20/30\n",
      "6000000/6000000 [==============================] - 1816s 303us/step - loss: 0.0050 - mean_squared_error: 0.0050 - coeff_determination: 0.5716 - val_loss: 0.0053 - val_mean_squared_error: 0.0053 - val_coeff_determination: 0.5460\n",
      "\n",
      "Epoch 00020: val_loss improved from 0.00528 to 0.00526, saving model to ./gdrive/MyDrive/ColabDrive/expression_f4_b32_full_gru_8_coeff_determination_loss\n",
      "Epoch 21/30\n",
      "6000000/6000000 [==============================] - 1821s 303us/step - loss: 0.0050 - mean_squared_error: 0.0050 - coeff_determination: 0.5728 - val_loss: 0.0054 - val_mean_squared_error: 0.0054 - val_coeff_determination: 0.5372\n",
      "\n",
      "Epoch 00021: val_loss did not improve from 0.00526\n",
      "Epoch 22/30\n",
      "6000000/6000000 [==============================] - 1815s 302us/step - loss: 0.0049 - mean_squared_error: 0.0049 - coeff_determination: 0.5740 - val_loss: 0.0054 - val_mean_squared_error: 0.0054 - val_coeff_determination: 0.5340\n",
      "\n",
      "Epoch 00022: val_loss did not improve from 0.00526\n",
      "Epoch 23/30\n",
      "6000000/6000000 [==============================] - 1821s 303us/step - loss: 0.0050 - mean_squared_error: 0.0050 - coeff_determination: 0.5731 - val_loss: 0.0059 - val_mean_squared_error: 0.0059 - val_coeff_determination: 0.4931\n",
      "\n",
      "Epoch 00023: val_loss did not improve from 0.00526\n",
      "Epoch 24/30\n",
      "6000000/6000000 [==============================] - 1813s 302us/step - loss: 0.0049 - mean_squared_error: 0.0049 - coeff_determination: 0.5746 - val_loss: 0.0053 - val_mean_squared_error: 0.0053 - val_coeff_determination: 0.5403\n",
      "\n",
      "Epoch 00024: val_loss did not improve from 0.00526\n",
      "Epoch 25/30\n",
      "6000000/6000000 [==============================] - 1819s 303us/step - loss: 0.0049 - mean_squared_error: 0.0049 - coeff_determination: 0.5763 - val_loss: 0.0055 - val_mean_squared_error: 0.0055 - val_coeff_determination: 0.5286\n",
      "\n",
      "Epoch 00025: val_loss did not improve from 0.00526\n",
      "Epoch 26/30\n",
      "6000000/6000000 [==============================] - 1812s 302us/step - loss: 0.0049 - mean_squared_error: 0.0049 - coeff_determination: 0.5771 - val_loss: 0.0053 - val_mean_squared_error: 0.0053 - val_coeff_determination: 0.5410\n",
      "\n",
      "Epoch 00026: val_loss did not improve from 0.00526\n",
      "Epoch 27/30\n",
      "6000000/6000000 [==============================] - 1819s 303us/step - loss: 0.0049 - mean_squared_error: 0.0049 - coeff_determination: 0.5779 - val_loss: 0.0059 - val_mean_squared_error: 0.0059 - val_coeff_determination: 0.4869\n",
      "\n",
      "Epoch 00027: val_loss did not improve from 0.00526\n",
      "Epoch 28/30\n",
      "6000000/6000000 [==============================] - 1813s 302us/step - loss: 0.0050 - mean_squared_error: 0.0050 - coeff_determination: 0.5732 - val_loss: 0.0055 - val_mean_squared_error: 0.0055 - val_coeff_determination: 0.5263\n",
      "\n",
      "Epoch 00028: val_loss did not improve from 0.00526\n",
      "Epoch 29/30\n",
      "6000000/6000000 [==============================] - 1820s 303us/step - loss: 0.0049 - mean_squared_error: 0.0049 - coeff_determination: 0.5775 - val_loss: 0.0076 - val_mean_squared_error: 0.0076 - val_coeff_determination: 0.3415\n",
      "\n",
      "Epoch 00029: val_loss did not improve from 0.00526\n",
      "Epoch 30/30\n",
      "6000000/6000000 [==============================] - 1814s 302us/step - loss: 0.0049 - mean_squared_error: 0.0049 - coeff_determination: 0.5754 - val_loss: 0.0058 - val_mean_squared_error: 0.0058 - val_coeff_determination: 0.4949\n",
      "\n",
      "Epoch 00030: val_loss did not improve from 0.00526\n"
     ]
    }
   ],
   "source": [
    "maxLength = 142\n",
    "model_name = 'expression_f4_b32_full_gru_8_coeff_determination_loss'\n",
    "x_train_from_train = X_list[:6000000,:,:]\n",
    "x_val_from_train = X_list[6000000:6739258,:,:]\n",
    "# x_train_from_train_c = X_list_c[:6000000]\n",
    "# x_val_from_train_c = X_list_c[6000000:6739258]\n",
    "y_train_from_train = Y_list[:6000000]\n",
    "y_val_from_train = Y_list[6000000:6739258]\n",
    "model = MetforNet121(maxLength)\n",
    "# model.load_weights('./gdrive/MyDrive/ColabDrive/expression_f4_b128')\n",
    "\n",
    "opt = keras.optimizers.Adam()\n",
    "model.compile(loss=mean_squared_error,\n",
    "              optimizer=opt,\n",
    "              metrics=[mean_squared_error,coeff_determination])\n",
    "checkpointer = ModelCheckpoint(model_name, verbose=1, save_best_only=True)\n",
    "model_history = model.fit( x_train_from_train, y_train_from_train,\n",
    "                          batch_size=batch_size, epochs=epochs, verbose=1, callbacks=[checkpointer],\n",
    "                          validation_data=(x_val_from_train, y_val_from_train), class_weight = 'auto')\n",
    "file = open(model_name+'_history.pickle', 'wb')\n",
    "pickle.dump(model.history.history, file)\n",
    "file.close()"
   ]
  },
  {
   "cell_type": "markdown",
   "metadata": {
    "id": "2KDBvPfr7Gqv"
   },
   "source": [
    "#Predicting Validation"
   ]
  },
  {
   "cell_type": "code",
   "execution_count": 20,
   "metadata": {
    "colab": {
     "base_uri": "https://localhost:8080/"
    },
    "executionInfo": {
     "elapsed": 1081433,
     "status": "ok",
     "timestamp": 1659164564544,
     "user": {
      "displayName": "陳在民",
      "userId": "06446248106010065052"
     },
     "user_tz": -480
    },
    "id": "o5oK0Hqqdk8J",
    "outputId": "9ebbaa68-4399-4d19-8203-5d405c7f6ab8"
   },
   "outputs": [
    {
     "name": "stdout",
     "output_type": "stream",
     "text": [
      "WARNING:tensorflow:From /tensorflow-1.15.2/python3.7/keras/backend/tensorflow_backend.py:422: The name tf.global_variables is deprecated. Please use tf.compat.v1.global_variables instead.\n",
      "\n"
     ]
    },
    {
     "data": {
      "text/plain": [
       "(739258, 1)"
      ]
     },
     "execution_count": 20,
     "metadata": {},
     "output_type": "execute_result"
    }
   ],
   "source": [
    "maxLength = 142\n",
    "model_name = 'expression_f4_b32_full_gru_8_coeff_determination_loss'\n",
    "# x_train_from_train = X_list[:6000000,:,:]\n",
    "x_val_from_train = X_list[6000000:6739258,:,:]\n",
    "# x_train_from_train_c = X_list_c[:6000000]\n",
    "# x_val_from_train_c = X_list_c[6000000:6739258]\n",
    "model = MetforNet121(maxLength)\n",
    "model.load_weights(model_name)\n",
    "y_predict_val_from_train = model.predict(x_val_from_train)\n",
    "\n",
    "# y_predict_val_from_train = model.predict([x_val_from_train,x_val_from_train_c])\n",
    "y_predict_val_from_train.shape"
   ]
  },
  {
   "cell_type": "code",
   "execution_count": 33,
   "metadata": {
    "executionInfo": {
     "elapsed": 345,
     "status": "ok",
     "timestamp": 1659164961109,
     "user": {
      "displayName": "陳在民",
      "userId": "06446248106010065052"
     },
     "user_tz": -480
    },
    "id": "X-p7-k1178Ta"
   },
   "outputs": [],
   "source": [
    "y_train_from_train = Y_list[:6000000]\n",
    "y_val_from_train = Y_list[6000000:6739258]"
   ]
  },
  {
   "cell_type": "code",
   "execution_count": 34,
   "metadata": {
    "colab": {
     "base_uri": "https://localhost:8080/",
     "height": 295
    },
    "executionInfo": {
     "elapsed": 1504,
     "status": "ok",
     "timestamp": 1659164963792,
     "user": {
      "displayName": "陳在民",
      "userId": "06446248106010065052"
     },
     "user_tz": -480
    },
    "id": "5tw_npII2PH_",
    "outputId": "778b6e17-fd97-4a6d-cae3-e2a4a47e8d45"
   },
   "outputs": [
    {
     "data": {
      "image/png": "[encoded data removed]",
      "text/plain": [
       "<Figure size 432x288 with 1 Axes>"
      ]
     },
     "metadata": {
      "needs_background": "light"
     },
     "output_type": "display_data"
    }
   ],
   "source": [
    "plt.scatter(y_val_from_train,y_predict_val_from_train,c=\"blue\")\n",
    "plt.xlabel(\"Ground Truth\")\n",
    "plt.ylabel(\"Prediction\")\n",
    "plt.title(\"Validation Correlation Plot\")\n",
    "plt.show()"
   ]
  },
  {
   "cell_type": "markdown",
   "metadata": {
    "id": "p6r2Or127M1K"
   },
   "source": [
    "#Predicting Test"
   ]
  },
  {
   "cell_type": "code",
   "execution_count": 35,
   "metadata": {
    "executionInfo": {
     "elapsed": 525,
     "status": "ok",
     "timestamp": 1659164969860,
     "user": {
      "displayName": "陳在民",
      "userId": "06446248106010065052"
     },
     "user_tz": -480
    },
    "id": "nxD5nzuRfYHT"
   },
   "outputs": [],
   "source": [
    "X_list_test = np.load('test_allX.npy')\n",
    "# X_list_test_c = np.load('./gdrive/MyDrive/ColabDrive/test_allX_c.npy')\n",
    "# X_list_test_m = np.concatenate([X_list_test,X_list_test_c], axis = -2)\n",
    "# X_list_test.shape, X_list_test_c.shape, X_list_test_m.shape"
   ]
  },
  {
   "cell_type": "code",
   "execution_count": 36,
   "metadata": {
    "colab": {
     "base_uri": "https://localhost:8080/"
    },
    "executionInfo": {
     "elapsed": 104282,
     "status": "ok",
     "timestamp": 1659165076535,
     "user": {
      "displayName": "陳在民",
      "userId": "06446248106010065052"
     },
     "user_tz": -480
    },
    "id": "lgVfi77SgP7f",
    "outputId": "e90060d9-a3f2-4464-9ef0-07ad657138b4"
   },
   "outputs": [
    {
     "data": {
      "text/plain": [
       "(71103, 1)"
      ]
     },
     "execution_count": 36,
     "metadata": {},
     "output_type": "execute_result"
    }
   ],
   "source": [
    "Y_predict_list_test = model.predict(X_list_test[:,:,:])\n",
    "Y_predict_list_test.shape"
   ]
  },
  {
   "cell_type": "code",
   "execution_count": 37,
   "metadata": {
    "colab": {
     "base_uri": "https://localhost:8080/",
     "height": 206
    },
    "executionInfo": {
     "elapsed": 86,
     "status": "ok",
     "timestamp": 1659165076552,
     "user": {
      "displayName": "陳在民",
      "userId": "06446248106010065052"
     },
     "user_tz": -480
    },
    "id": "D-i_4AopgJK0",
    "outputId": "b3d034f8-a59c-4e57-bd1c-84b8c84e4f76"
   },
   "outputs": [
    {
     "data": {
      "text/html": [
       "\n",
       "  <div id=\"df-f8dce1c1-6960-405a-a2ec-7ae69ebf6669\">\n",
       "    <div class=\"colab-df-container\">\n",
       "      <div>\n",
       "<style scoped>\n",
       "    .dataframe tbody tr th:only-of-type {\n",
       "        vertical-align: middle;\n",
       "    }\n",
       "\n",
       "    .dataframe tbody tr th {\n",
       "        vertical-align: top;\n",
       "    }\n",
       "\n",
       "    .dataframe thead th {\n",
       "        text-align: right;\n",
       "    }\n",
       "</style>\n",
       "<table border=\"1\" class=\"dataframe\">\n",
       "  <thead>\n",
       "    <tr style=\"text-align: right;\">\n",
       "      <th></th>\n",
       "      <th>0</th>\n",
       "      <th>1</th>\n",
       "    </tr>\n",
       "  </thead>\n",
       "  <tbody>\n",
       "    <tr>\n",
       "      <th>0</th>\n",
       "      <td>TGCATTTTTTTCACATCAAAAAAAAAAAAAAAAAAAAAAACTAGCA...</td>\n",
       "      <td>0.517249</td>\n",
       "    </tr>\n",
       "    <tr>\n",
       "      <th>1</th>\n",
       "      <td>TGCATTTTTTTCACATCAAAAAAAAAAAAAAAAAAAGAAAACGAGC...</td>\n",
       "      <td>0.507149</td>\n",
       "    </tr>\n",
       "    <tr>\n",
       "      <th>2</th>\n",
       "      <td>TGCATTTTTTTCACATCAAAAAAAAAAAAAAAAAAAGAAAACGAGC...</td>\n",
       "      <td>0.490074</td>\n",
       "    </tr>\n",
       "    <tr>\n",
       "      <th>3</th>\n",
       "      <td>TGCATTTTTTTCACATCAAAAAAAAAAAAAAAAAAAGAAAACGAGC...</td>\n",
       "      <td>0.477438</td>\n",
       "    </tr>\n",
       "    <tr>\n",
       "      <th>4</th>\n",
       "      <td>TGCATTTTTTTCACATCAAAAAAAAAAAAAAAAAAAGAAAACGAGC...</td>\n",
       "      <td>0.526502</td>\n",
       "    </tr>\n",
       "  </tbody>\n",
       "</table>\n",
       "</div>\n",
       "      <button class=\"colab-df-convert\" onclick=\"convertToInteractive('df-f8dce1c1-6960-405a-a2ec-7ae69ebf6669')\"\n",
       "              title=\"Convert this dataframe to an interactive table.\"\n",
       "              style=\"display:none;\">\n",
       "        \n",
       "  <svg xmlns=\"http://www.w3.org/2000/svg\" height=\"24px\"viewBox=\"0 0 24 24\"\n",
       "       width=\"24px\">\n",
       "    <path d=\"M0 0h24v24H0V0z\" fill=\"none\"/>\n",
       "    <path d=\"M18.56 5.44l.94 2.06.94-2.06 2.06-.94-2.06-.94-.94-2.06-.94 2.06-2.06.94zm-11 1L8.5 8.5l.94-2.06 2.06-.94-2.06-.94L8.5 2.5l-.94 2.06-2.06.94zm10 10l.94 2.06.94-2.06 2.06-.94-2.06-.94-.94-2.06-.94 2.06-2.06.94z\"/><path d=\"M17.41 7.96l-1.37-1.37c-.4-.4-.92-.59-1.43-.59-.52 0-1.04.2-1.43.59L10.3 9.45l-7.72 7.72c-.78.78-.78 2.05 0 2.83L4 21.41c.39.39.9.59 1.41.59.51 0 1.02-.2 1.41-.59l7.78-7.78 2.81-2.81c.8-.78.8-2.07 0-2.86zM5.41 20L4 18.59l7.72-7.72 1.47 1.35L5.41 20z\"/>\n",
       "  </svg>\n",
       "      </button>\n",
       "      \n",
       "  <style>\n",
       "    .colab-df-container {\n",
       "      display:flex;\n",
       "      flex-wrap:wrap;\n",
       "      gap: 12px;\n",
       "    }\n",
       "\n",
       "    .colab-df-convert {\n",
       "      background-color: #E8F0FE;\n",
       "      border: none;\n",
       "      border-radius: 50%;\n",
       "      cursor: pointer;\n",
       "      display: none;\n",
       "      fill: #1967D2;\n",
       "      height: 32px;\n",
       "      padding: 0 0 0 0;\n",
       "      width: 32px;\n",
       "    }\n",
       "\n",
       "    .colab-df-convert:hover {\n",
       "      background-color: #E2EBFA;\n",
       "      box-shadow: 0px 1px 2px rgba(60, 64, 67, 0.3), 0px 1px 3px 1px rgba(60, 64, 67, 0.15);\n",
       "      fill: #174EA6;\n",
       "    }\n",
       "\n",
       "    [theme=dark] .colab-df-convert {\n",
       "      background-color: #3B4455;\n",
       "      fill: #D2E3FC;\n",
       "    }\n",
       "\n",
       "    [theme=dark] .colab-df-convert:hover {\n",
       "      background-color: #434B5C;\n",
       "      box-shadow: 0px 1px 3px 1px rgba(0, 0, 0, 0.15);\n",
       "      filter: drop-shadow(0px 1px 2px rgba(0, 0, 0, 0.3));\n",
       "      fill: #FFFFFF;\n",
       "    }\n",
       "  </style>\n",
       "\n",
       "      <script>\n",
       "        const buttonEl =\n",
       "          document.querySelector('#df-f8dce1c1-6960-405a-a2ec-7ae69ebf6669 button.colab-df-convert');\n",
       "        buttonEl.style.display =\n",
       "          google.colab.kernel.accessAllowed ? 'block' : 'none';\n",
       "\n",
       "        async function convertToInteractive(key) {\n",
       "          const element = document.querySelector('#df-f8dce1c1-6960-405a-a2ec-7ae69ebf6669');\n",
       "          const dataTable =\n",
       "            await google.colab.kernel.invokeFunction('convertToInteractive',\n",
       "                                                     [key], {});\n",
       "          if (!dataTable) return;\n",
       "\n",
       "          const docLinkHtml = 'Like what you see? Visit the ' +\n",
       "            '<a target=\"_blank\" href=https://colab.research.google.com/notebooks/data_table.ipynb>data table notebook</a>'\n",
       "            + ' to learn more about interactive tables.';\n",
       "          element.innerHTML = '';\n",
       "          dataTable['output_type'] = 'display_data';\n",
       "          await google.colab.output.renderOutput(dataTable, element);\n",
       "          const docLink = document.createElement('div');\n",
       "          docLink.innerHTML = docLinkHtml;\n",
       "          element.appendChild(docLink);\n",
       "        }\n",
       "      </script>\n",
       "    </div>\n",
       "  </div>\n",
       "  "
      ],
      "text/plain": [
       "                                                   0         1\n",
       "0  TGCATTTTTTTCACATCAAAAAAAAAAAAAAAAAAAAAAACTAGCA...  0.517249\n",
       "1  TGCATTTTTTTCACATCAAAAAAAAAAAAAAAAAAAGAAAACGAGC...  0.507149\n",
       "2  TGCATTTTTTTCACATCAAAAAAAAAAAAAAAAAAAGAAAACGAGC...  0.490074\n",
       "3  TGCATTTTTTTCACATCAAAAAAAAAAAAAAAAAAAGAAAACGAGC...  0.477438\n",
       "4  TGCATTTTTTTCACATCAAAAAAAAAAAAAAAAAAAGAAAACGAGC...  0.526502"
      ]
     },
     "execution_count": 37,
     "metadata": {},
     "output_type": "execute_result"
    }
   ],
   "source": [
    "test_raw[1] = Y_predict_list_test\n",
    "test_raw.head()"
   ]
  },
  {
   "cell_type": "code",
   "execution_count": 38,
   "metadata": {
    "executionInfo": {
     "elapsed": 78,
     "status": "ok",
     "timestamp": 1659165076562,
     "user": {
      "displayName": "陳在民",
      "userId": "06446248106010065052"
     },
     "user_tz": -480
    },
    "id": "MqzzfHqqgtpH"
   },
   "outputs": [],
   "source": [
    "test_raw.to_csv('test_sequences_simon_22.txt', sep='\\t', header=False, index=False)"
   ]
  },
  {
   "cell_type": "code",
   "execution_count": 39,
   "metadata": {
    "colab": {
     "base_uri": "https://localhost:8080/",
     "height": 206
    },
    "executionInfo": {
     "elapsed": 546,
     "status": "ok",
     "timestamp": 1659165077040,
     "user": {
      "displayName": "陳在民",
      "userId": "06446248106010065052"
     },
     "user_tz": -480
    },
    "id": "wHQgVIwofVU3",
    "outputId": "e730c3c5-13d4-4216-c563-48b99d0bff19"
   },
   "outputs": [
    {
     "data": {
      "text/html": [
       "\n",
       "  <div id=\"df-8c2f09d3-4128-47ca-b027-f61427a4ad85\">\n",
       "    <div class=\"colab-df-container\">\n",
       "      <div>\n",
       "<style scoped>\n",
       "    .dataframe tbody tr th:only-of-type {\n",
       "        vertical-align: middle;\n",
       "    }\n",
       "\n",
       "    .dataframe tbody tr th {\n",
       "        vertical-align: top;\n",
       "    }\n",
       "\n",
       "    .dataframe thead th {\n",
       "        text-align: right;\n",
       "    }\n",
       "</style>\n",
       "<table border=\"1\" class=\"dataframe\">\n",
       "  <thead>\n",
       "    <tr style=\"text-align: right;\">\n",
       "      <th></th>\n",
       "      <th>0</th>\n",
       "      <th>1</th>\n",
       "    </tr>\n",
       "  </thead>\n",
       "  <tbody>\n",
       "    <tr>\n",
       "      <th>0</th>\n",
       "      <td>TGCATTTTTTTCACATCAAAAAAAAAAAAAAAAAAAAAAACTAGCA...</td>\n",
       "      <td>0.517249</td>\n",
       "    </tr>\n",
       "    <tr>\n",
       "      <th>1</th>\n",
       "      <td>TGCATTTTTTTCACATCAAAAAAAAAAAAAAAAAAAGAAAACGAGC...</td>\n",
       "      <td>0.507149</td>\n",
       "    </tr>\n",
       "    <tr>\n",
       "      <th>2</th>\n",
       "      <td>TGCATTTTTTTCACATCAAAAAAAAAAAAAAAAAAAGAAAACGAGC...</td>\n",
       "      <td>0.490074</td>\n",
       "    </tr>\n",
       "    <tr>\n",
       "      <th>3</th>\n",
       "      <td>TGCATTTTTTTCACATCAAAAAAAAAAAAAAAAAAAGAAAACGAGC...</td>\n",
       "      <td>0.477438</td>\n",
       "    </tr>\n",
       "    <tr>\n",
       "      <th>4</th>\n",
       "      <td>TGCATTTTTTTCACATCAAAAAAAAAAAAAAAAAAAGAAAACGAGC...</td>\n",
       "      <td>0.526502</td>\n",
       "    </tr>\n",
       "  </tbody>\n",
       "</table>\n",
       "</div>\n",
       "      <button class=\"colab-df-convert\" onclick=\"convertToInteractive('df-8c2f09d3-4128-47ca-b027-f61427a4ad85')\"\n",
       "              title=\"Convert this dataframe to an interactive table.\"\n",
       "              style=\"display:none;\">\n",
       "        \n",
       "  <svg xmlns=\"http://www.w3.org/2000/svg\" height=\"24px\"viewBox=\"0 0 24 24\"\n",
       "       width=\"24px\">\n",
       "    <path d=\"M0 0h24v24H0V0z\" fill=\"none\"/>\n",
       "    <path d=\"M18.56 5.44l.94 2.06.94-2.06 2.06-.94-2.06-.94-.94-2.06-.94 2.06-2.06.94zm-11 1L8.5 8.5l.94-2.06 2.06-.94-2.06-.94L8.5 2.5l-.94 2.06-2.06.94zm10 10l.94 2.06.94-2.06 2.06-.94-2.06-.94-.94-2.06-.94 2.06-2.06.94z\"/><path d=\"M17.41 7.96l-1.37-1.37c-.4-.4-.92-.59-1.43-.59-.52 0-1.04.2-1.43.59L10.3 9.45l-7.72 7.72c-.78.78-.78 2.05 0 2.83L4 21.41c.39.39.9.59 1.41.59.51 0 1.02-.2 1.41-.59l7.78-7.78 2.81-2.81c.8-.78.8-2.07 0-2.86zM5.41 20L4 18.59l7.72-7.72 1.47 1.35L5.41 20z\"/>\n",
       "  </svg>\n",
       "      </button>\n",
       "      \n",
       "  <style>\n",
       "    .colab-df-container {\n",
       "      display:flex;\n",
       "      flex-wrap:wrap;\n",
       "      gap: 12px;\n",
       "    }\n",
       "\n",
       "    .colab-df-convert {\n",
       "      background-color: #E8F0FE;\n",
       "      border: none;\n",
       "      border-radius: 50%;\n",
       "      cursor: pointer;\n",
       "      display: none;\n",
       "      fill: #1967D2;\n",
       "      height: 32px;\n",
       "      padding: 0 0 0 0;\n",
       "      width: 32px;\n",
       "    }\n",
       "\n",
       "    .colab-df-convert:hover {\n",
       "      background-color: #E2EBFA;\n",
       "      box-shadow: 0px 1px 2px rgba(60, 64, 67, 0.3), 0px 1px 3px 1px rgba(60, 64, 67, 0.15);\n",
       "      fill: #174EA6;\n",
       "    }\n",
       "\n",
       "    [theme=dark] .colab-df-convert {\n",
       "      background-color: #3B4455;\n",
       "      fill: #D2E3FC;\n",
       "    }\n",
       "\n",
       "    [theme=dark] .colab-df-convert:hover {\n",
       "      background-color: #434B5C;\n",
       "      box-shadow: 0px 1px 3px 1px rgba(0, 0, 0, 0.15);\n",
       "      filter: drop-shadow(0px 1px 2px rgba(0, 0, 0, 0.3));\n",
       "      fill: #FFFFFF;\n",
       "    }\n",
       "  </style>\n",
       "\n",
       "      <script>\n",
       "        const buttonEl =\n",
       "          document.querySelector('#df-8c2f09d3-4128-47ca-b027-f61427a4ad85 button.colab-df-convert');\n",
       "        buttonEl.style.display =\n",
       "          google.colab.kernel.accessAllowed ? 'block' : 'none';\n",
       "\n",
       "        async function convertToInteractive(key) {\n",
       "          const element = document.querySelector('#df-8c2f09d3-4128-47ca-b027-f61427a4ad85');\n",
       "          const dataTable =\n",
       "            await google.colab.kernel.invokeFunction('convertToInteractive',\n",
       "                                                     [key], {});\n",
       "          if (!dataTable) return;\n",
       "\n",
       "          const docLinkHtml = 'Like what you see? Visit the ' +\n",
       "            '<a target=\"_blank\" href=https://colab.research.google.com/notebooks/data_table.ipynb>data table notebook</a>'\n",
       "            + ' to learn more about interactive tables.';\n",
       "          element.innerHTML = '';\n",
       "          dataTable['output_type'] = 'display_data';\n",
       "          await google.colab.output.renderOutput(dataTable, element);\n",
       "          const docLink = document.createElement('div');\n",
       "          docLink.innerHTML = docLinkHtml;\n",
       "          element.appendChild(docLink);\n",
       "        }\n",
       "      </script>\n",
       "    </div>\n",
       "  </div>\n",
       "  "
      ],
      "text/plain": [
       "                                                   0         1\n",
       "0  TGCATTTTTTTCACATCAAAAAAAAAAAAAAAAAAAAAAACTAGCA...  0.517249\n",
       "1  TGCATTTTTTTCACATCAAAAAAAAAAAAAAAAAAAGAAAACGAGC...  0.507149\n",
       "2  TGCATTTTTTTCACATCAAAAAAAAAAAAAAAAAAAGAAAACGAGC...  0.490074\n",
       "3  TGCATTTTTTTCACATCAAAAAAAAAAAAAAAAAAAGAAAACGAGC...  0.477438\n",
       "4  TGCATTTTTTTCACATCAAAAAAAAAAAAAAAAAAAGAAAACGAGC...  0.526502"
      ]
     },
     "execution_count": 39,
     "metadata": {},
     "output_type": "execute_result"
    }
   ],
   "source": [
    "test_raw_simon = pd.read_csv('test_sequences_simon_22.txt', delimiter = '\\t', header=None)\n",
    "test_raw_simon.head()"
   ]
  },
  {
   "cell_type": "code",
   "execution_count": 40,
   "metadata": {
    "executionInfo": {
     "elapsed": 58,
     "status": "ok",
     "timestamp": 1659165077048,
     "user": {
      "displayName": "陳在民",
      "userId": "06446248106010065052"
     },
     "user_tz": -480
    },
    "id": "Kn3KUEx1iWRn"
   },
   "outputs": [],
   "source": [
    "import json\n",
    "from collections import OrderedDict\n",
    "# file available at\n",
    "#https://github.com/de-Boer-Lab/DREAM-2022/blob/main/sample_submission.json\n",
    "with open('sample_submission.json', 'r') as f:\n",
    "  ground = json.load(f)\n",
    "indices = np.array([int(indice) for indice in list(ground.keys())])\n",
    "PRED_DATA = OrderedDict()\n",
    "for i in indices:\n",
    "#Y_pred is an numpy array of dimension (71103,) that contains your\n",
    "#predictions on the test sequences\n",
    "  PRED_DATA[str(i)] = float(Y_predict_list_test[i])\n",
    "def dump_predictions(prediction_dict, prediction_file):\n",
    "  with open(prediction_file, 'w') as f:\n",
    "    json.dump(prediction_dict, f)\n",
    "dump_predictions(PRED_DATA, 'pred_tsaiminChen0730.json')"
   ]
  },
  {
   "cell_type": "code",
   "execution_count": null,
   "metadata": {
    "id": "Hz8vT7auHEzr"
   },
   "outputs": [],
   "source": []
  }
 ],
 "metadata": {
  "accelerator": "GPU",
  "colab": {
   "collapsed_sections": [],
   "machine_shape": "hm",
   "name": "ExpressionSimulator_fin.ipynb",
   "provenance": []
  },
  "gpuClass": "standard",
  "kernelspec": {
   "display_name": "Python 3",
   "language": "python",
   "name": "python3"
  },
  "language_info": {
   "codemirror_mode": {
    "name": "ipython",
    "version": 3
   },
   "file_extension": ".py",
   "mimetype": "text/x-python",
   "name": "python",
   "nbconvert_exporter": "python",
   "pygments_lexer": "ipython3",
   "version": "3.8.3"
  }
 },
 "nbformat": 4,
 "nbformat_minor": 1
}
