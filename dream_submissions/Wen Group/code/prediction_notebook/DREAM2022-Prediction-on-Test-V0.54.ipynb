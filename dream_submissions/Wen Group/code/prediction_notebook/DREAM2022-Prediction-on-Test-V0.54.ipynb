{
 "cells": [
  {
   "cell_type": "code",
   "execution_count": 1,
   "metadata": {
    "colab": {
     "base_uri": "https://localhost:8080/"
    },
    "executionInfo": {
     "elapsed": 3136,
     "status": "ok",
     "timestamp": 1655341787714,
     "user": {
      "displayName": "Ke Ding",
      "userId": "13611153066314221119"
     },
     "user_tz": -600
    },
    "id": "MXieTinCh_w7",
    "outputId": "9aad1d41-e9eb-4eee-8f3b-0dcac5edb4c4"
   },
   "outputs": [],
   "source": [
    "import tensorflow as tf\n",
    "import pandas as pd\n",
    "import numpy as np\n",
    "from tqdm import tqdm"
   ]
  },
  {
   "cell_type": "code",
   "execution_count": 2,
   "metadata": {
    "colab": {
     "base_uri": "https://localhost:8080/"
    },
    "executionInfo": {
     "elapsed": 8719,
     "status": "ok",
     "timestamp": 1655341829352,
     "user": {
      "displayName": "Ke Ding",
      "userId": "13611153066314221119"
     },
     "user_tz": -600
    },
    "id": "DPQhxMcdw79b",
    "outputId": "533f7602-c37f-4d6e-a65c-4fcda0474584"
   },
   "outputs": [],
   "source": [
    "## check version in case of version conflict\n",
    "# import keras\n",
    "# keras.__version__\n",
    "# tf.__version__\n",
    "\n",
    "# !pip install --upgrade tensorflow==2.8.0\n",
    "# !pip install --upgrade keras\n",
    "\n",
    "# !pip install tensorflow_addons==0.16.1"
   ]
  },
  {
   "cell_type": "code",
   "execution_count": 3,
   "metadata": {
    "colab": {
     "base_uri": "https://localhost:8080/"
    },
    "executionInfo": {
     "elapsed": 31898,
     "status": "ok",
     "timestamp": 1655341861244,
     "user": {
      "displayName": "Ke Ding",
      "userId": "13611153066314221119"
     },
     "user_tz": -600
    },
    "id": "E2p6bzH3kJ8b",
    "outputId": "5dc566e1-4417-40dc-8fa1-9c31ee18dc7f",
    "tags": []
   },
   "outputs": [
    {
     "name": "stderr",
     "output_type": "stream",
     "text": [
      "2022-08-07 15:12:46.849864: I tensorflow/core/platform/cpu_feature_guard.cc:151] This TensorFlow binary is optimized with oneAPI Deep Neural Network Library (oneDNN) to use the following CPU instructions in performance-critical operations:  AVX2 AVX512F FMA\n",
      "To enable them in other operations, rebuild TensorFlow with the appropriate compiler flags.\n",
      "2022-08-07 15:12:47.373782: I tensorflow/core/common_runtime/gpu/gpu_device.cc:1525] Created device /job:localhost/replica:0/task:0/device:GPU:0 with 30989 MB memory:  -> device: 0, name: Tesla V100-SXM2-32GB, pci bus id: 0000:b2:00.0, compute capability: 7.0\n"
     ]
    },
    {
     "name": "stdout",
     "output_type": "stream",
     "text": [
      "Model: \"model\"\n",
      "__________________________________________________________________________________________________\n",
      " Layer (type)                   Output Shape         Param #     Connected to                     \n",
      "==================================================================================================\n",
      " input_1 (InputLayer)           [(None, 112, 5)]     0           []                               \n",
      "                                                                                                  \n",
      " conv1d (Conv1D)                (None, 112, 64)      3584        ['input_1[0][0]']                \n",
      "                                                                                                  \n",
      " ecb_1__0 (SqueezeExcitation1DL  (None, 112, 64)     4192        ['conv1d[0][0]']                 \n",
      " ayer)                                                                                            \n",
      "                                                                                                  \n",
      " batch_normalization (BatchNorm  (None, 112, 64)     256         ['ecb_1__0[0][0]']               \n",
      " alization)                                                                                       \n",
      "                                                                                                  \n",
      " conv1d_1 (Conv1D)              (None, 112, 64)      45120       ['batch_normalization[0][0]']    \n",
      "                                                                                                  \n",
      " ecb_1__1 (SqueezeExcitation1DL  (None, 112, 64)     4192        ['conv1d_1[0][0]']               \n",
      " ayer)                                                                                            \n",
      "                                                                                                  \n",
      " batch_normalization_1 (BatchNo  (None, 112, 64)     256         ['ecb_1__1[0][0]']               \n",
      " rmalization)                                                                                     \n",
      "                                                                                                  \n",
      " dropout (Dropout)              (None, 112, 64)      0           ['batch_normalization_1[0][0]']  \n",
      "                                                                                                  \n",
      " conv1d_2 (Conv1D)              (None, 56, 64)       45120       ['dropout[0][0]']                \n",
      "                                                                                                  \n",
      " conv1d_3 (Conv1D)              (None, 56, 128)      90240       ['conv1d_2[0][0]']               \n",
      "                                                                                                  \n",
      " ecb_2__0 (SqueezeExcitation1DL  (None, 56, 128)     16576       ['conv1d_3[0][0]']               \n",
      " ayer)                                                                                            \n",
      "                                                                                                  \n",
      " batch_normalization_2 (BatchNo  (None, 56, 128)     512         ['ecb_2__0[0][0]']               \n",
      " rmalization)                                                                                     \n",
      "                                                                                                  \n",
      " conv1d_4 (Conv1D)              (None, 56, 128)      180352      ['batch_normalization_2[0][0]']  \n",
      "                                                                                                  \n",
      " ecb_2__1 (SqueezeExcitation1DL  (None, 56, 128)     16576       ['conv1d_4[0][0]']               \n",
      " ayer)                                                                                            \n",
      "                                                                                                  \n",
      " batch_normalization_3 (BatchNo  (None, 56, 128)     512         ['ecb_2__1[0][0]']               \n",
      " rmalization)                                                                                     \n",
      "                                                                                                  \n",
      " dropout_1 (Dropout)            (None, 56, 128)      0           ['batch_normalization_3[0][0]']  \n",
      "                                                                                                  \n",
      " conv1d_5 (Conv1D)              (None, 28, 128)      180352      ['dropout_1[0][0]']              \n",
      "                                                                                                  \n",
      " conv1d_6 (Conv1D)              (None, 28, 256)      360704      ['conv1d_5[0][0]']               \n",
      "                                                                                                  \n",
      " ecb_3__0 (SqueezeExcitation1DL  (None, 28, 256)     65920       ['conv1d_6[0][0]']               \n",
      " ayer)                                                                                            \n",
      "                                                                                                  \n",
      " batch_normalization_4 (BatchNo  (None, 28, 256)     1024        ['ecb_3__0[0][0]']               \n",
      " rmalization)                                                                                     \n",
      "                                                                                                  \n",
      " conv1d_7 (Conv1D)              (None, 28, 256)      721152      ['batch_normalization_4[0][0]']  \n",
      "                                                                                                  \n",
      " ecb_3__1 (SqueezeExcitation1DL  (None, 28, 256)     65920       ['conv1d_7[0][0]']               \n",
      " ayer)                                                                                            \n",
      "                                                                                                  \n",
      " batch_normalization_5 (BatchNo  (None, 28, 256)     1024        ['ecb_3__1[0][0]']               \n",
      " rmalization)                                                                                     \n",
      "                                                                                                  \n",
      " dropout_2 (Dropout)            (None, 28, 256)      0           ['batch_normalization_5[0][0]']  \n",
      "                                                                                                  \n",
      " conv1d_8 (Conv1D)              (None, 14, 256)      721152      ['dropout_2[0][0]']              \n",
      "                                                                                                  \n",
      " conv1d_9 (Conv1D)              (None, 14, 256)      721152      ['conv1d_8[0][0]']               \n",
      "                                                                                                  \n",
      " ecb_4__0 (SqueezeExcitation1DL  (None, 14, 256)     65920       ['conv1d_9[0][0]']               \n",
      " ayer)                                                                                            \n",
      "                                                                                                  \n",
      " batch_normalization_6 (BatchNo  (None, 14, 256)     1024        ['ecb_4__0[0][0]']               \n",
      " rmalization)                                                                                     \n",
      "                                                                                                  \n",
      " conv1d_10 (Conv1D)             (None, 14, 256)      721152      ['batch_normalization_6[0][0]']  \n",
      "                                                                                                  \n",
      " ecb_4__1 (SqueezeExcitation1DL  (None, 14, 256)     65920       ['conv1d_10[0][0]']              \n",
      " ayer)                                                                                            \n",
      "                                                                                                  \n",
      " batch_normalization_7 (BatchNo  (None, 14, 256)     1024        ['ecb_4__1[0][0]']               \n",
      " rmalization)                                                                                     \n",
      "                                                                                                  \n",
      " dropout_3 (Dropout)            (None, 14, 256)      0           ['batch_normalization_7[0][0]']  \n",
      "                                                                                                  \n",
      " transformer_block (Transformer  (None, 14, 256)     2170496     ['dropout_3[0][0]']              \n",
      " Block)                                                                                           \n",
      "                                                                                                  \n",
      " transformer_block_1 (Transform  (None, 14, 256)     2170496     ['transformer_block[0][0]']      \n",
      " erBlock)                                                                                         \n",
      "                                                                                                  \n",
      " transformer_block_2 (Transform  (None, 14, 256)     2170496     ['transformer_block_1[0][0]']    \n",
      " erBlock)                                                                                         \n",
      "                                                                                                  \n",
      " tf.__operators__.add (TFOpLamb  (None, 14, 256)     0           ['transformer_block_2[0][0]',    \n",
      " da)                                                              'transformer_block_1[0][0]']    \n",
      "                                                                                                  \n",
      " transformer_block_3 (Transform  (None, 14, 256)     2170496     ['tf.__operators__.add[0][0]']   \n",
      " erBlock)                                                                                         \n",
      "                                                                                                  \n",
      " transformer_block_4 (Transform  (None, 14, 256)     2170496     ['transformer_block_3[0][0]']    \n",
      " erBlock)                                                                                         \n",
      "                                                                                                  \n",
      " tf.__operators__.add_1 (TFOpLa  (None, 14, 256)     0           ['transformer_block_4[0][0]',    \n",
      " mbda)                                                            'transformer_block_3[0][0]']    \n",
      "                                                                                                  \n",
      " transformer_block_5 (Transform  (None, 14, 256)     2170496     ['tf.__operators__.add_1[0][0]'] \n",
      " erBlock)                                                                                         \n",
      "                                                                                                  \n",
      " transformer_block_6 (Transform  (None, 14, 256)     2170496     ['transformer_block_5[0][0]']    \n",
      " erBlock)                                                                                         \n",
      "                                                                                                  \n",
      " tf.__operators__.add_2 (TFOpLa  (None, 14, 256)     0           ['transformer_block_6[0][0]',    \n",
      " mbda)                                                            'transformer_block_5[0][0]']    \n",
      "                                                                                                  \n",
      " transformer_block_7 (Transform  (None, 14, 256)     2170496     ['tf.__operators__.add_2[0][0]'] \n",
      " erBlock)                                                                                         \n",
      "                                                                                                  \n",
      " conv1d_transpose (Conv1DTransp  (None, 28, 128)     360576      ['transformer_block_7[0][0]']    \n",
      " ose)                                                                                             \n",
      "                                                                                                  \n",
      " concatenate (Concatenate)      (None, 28, 384)      0           ['conv1d_transpose[0][0]',       \n",
      "                                                                  'dropout_2[0][0]']              \n",
      "                                                                                                  \n",
      " conv1d_11 (Conv1D)             (None, 28, 128)      540800      ['concatenate[0][0]']            \n",
      "                                                                                                  \n",
      " dcb_1__0 (SqueezeExcitation1DL  (None, 28, 128)     16576       ['conv1d_11[0][0]']              \n",
      " ayer)                                                                                            \n",
      "                                                                                                  \n",
      " batch_normalization_8 (BatchNo  (None, 28, 128)     512         ['dcb_1__0[0][0]']               \n",
      " rmalization)                                                                                     \n",
      "                                                                                                  \n",
      " conv1d_12 (Conv1D)             (None, 28, 128)      180352      ['batch_normalization_8[0][0]']  \n",
      "                                                                                                  \n",
      " dcb_1__1 (SqueezeExcitation1DL  (None, 28, 128)     16576       ['conv1d_12[0][0]']              \n",
      " ayer)                                                                                            \n",
      "                                                                                                  \n",
      " batch_normalization_9 (BatchNo  (None, 28, 128)     512         ['dcb_1__1[0][0]']               \n",
      " rmalization)                                                                                     \n",
      "                                                                                                  \n",
      " conv1d_transpose_1 (Conv1DTran  (None, 56, 128)     180352      ['batch_normalization_9[0][0]']  \n",
      " spose)                                                                                           \n",
      "                                                                                                  \n",
      " concatenate_1 (Concatenate)    (None, 56, 256)      0           ['conv1d_transpose_1[0][0]',     \n",
      "                                                                  'dropout_1[0][0]']              \n",
      "                                                                                                  \n",
      " conv1d_13 (Conv1D)             (None, 56, 128)      360576      ['concatenate_1[0][0]']          \n",
      "                                                                                                  \n",
      " dcb_2__0 (SqueezeExcitation1DL  (None, 56, 128)     16576       ['conv1d_13[0][0]']              \n",
      " ayer)                                                                                            \n",
      "                                                                                                  \n",
      " batch_normalization_10 (BatchN  (None, 56, 128)     512         ['dcb_2__0[0][0]']               \n",
      " ormalization)                                                                                    \n",
      "                                                                                                  \n",
      " conv1d_14 (Conv1D)             (None, 56, 128)      180352      ['batch_normalization_10[0][0]'] \n",
      "                                                                                                  \n",
      " dcb_2__1 (SqueezeExcitation1DL  (None, 56, 128)     16576       ['conv1d_14[0][0]']              \n",
      " ayer)                                                                                            \n",
      "                                                                                                  \n",
      " batch_normalization_11 (BatchN  (None, 56, 128)     512         ['dcb_2__1[0][0]']               \n",
      " ormalization)                                                                                    \n",
      "                                                                                                  \n",
      " conv1d_transpose_2 (Conv1DTran  (None, 112, 128)    180352      ['batch_normalization_11[0][0]'] \n",
      " spose)                                                                                           \n",
      "                                                                                                  \n",
      " concatenate_2 (Concatenate)    (None, 112, 192)     0           ['conv1d_transpose_2[0][0]',     \n",
      "                                                                  'dropout[0][0]']                \n",
      "                                                                                                  \n",
      " conv1d_15 (Conv1D)             (None, 112, 128)     270464      ['concatenate_2[0][0]']          \n",
      "                                                                                                  \n",
      " dcb_3__0 (SqueezeExcitation1DL  (None, 112, 128)    16576       ['conv1d_15[0][0]']              \n",
      " ayer)                                                                                            \n",
      "                                                                                                  \n",
      " batch_normalization_12 (BatchN  (None, 112, 128)    512         ['dcb_3__0[0][0]']               \n",
      " ormalization)                                                                                    \n",
      "                                                                                                  \n",
      " conv1d_16 (Conv1D)             (None, 112, 128)     180352      ['batch_normalization_12[0][0]'] \n",
      "                                                                                                  \n",
      " dcb_3__1 (SqueezeExcitation1DL  (None, 112, 128)    16576       ['conv1d_16[0][0]']              \n",
      " ayer)                                                                                            \n",
      "                                                                                                  \n",
      " batch_normalization_13 (BatchN  (None, 112, 128)    512         ['dcb_3__1[0][0]']               \n",
      " ormalization)                                                                                    \n",
      "                                                                                                  \n",
      " conv1d_17 (Conv1D)             (None, 112, 128)     180352      ['batch_normalization_13[0][0]'] \n",
      "                                                                                                  \n",
      " se_0 (SqueezeExcitation1DLayer  (None, 112, 128)    4240        ['conv1d_17[0][0]']              \n",
      " )                                                                                                \n",
      "                                                                                                  \n",
      " conv1d_18 (Conv1D)             (None, 112, 64)      90176       ['se_0[0][0]']                   \n",
      "                                                                                                  \n",
      " se_1 (SqueezeExcitation1DLayer  (None, 112, 64)     1096        ['conv1d_18[0][0]']              \n",
      " )                                                                                                \n",
      "                                                                                                  \n",
      " conv1d_19 (Conv1D)             (None, 112, 32)      22560       ['se_1[0][0]']                   \n",
      "                                                                                                  \n",
      " se_2 (SqueezeExcitation1DLayer  (None, 112, 32)     292         ['conv1d_19[0][0]']              \n",
      " )                                                                                                \n",
      "                                                                                                  \n",
      " flatten (Flatten)              (None, 3584)         0           ['se_2[0][0]']                   \n",
      "                                                                                                  \n",
      " dense_50 (Dense)               (None, 256)          917760      ['flatten[0][0]']                \n",
      "                                                                                                  \n",
      " tf.nn.leaky_relu (TFOpLambda)  (None, 256)          0           ['dense_50[0][0]']               \n",
      "                                                                                                  \n",
      " dropout_20 (Dropout)           (None, 256)          0           ['tf.nn.leaky_relu[0][0]']       \n",
      "                                                                                                  \n",
      " dense_51 (Dense)               (None, 128)          32896       ['dropout_20[0][0]']             \n",
      "                                                                                                  \n",
      " tf.nn.leaky_relu_1 (TFOpLambda  (None, 128)         0           ['dense_51[0][0]']               \n",
      " )                                                                                                \n",
      "                                                                                                  \n",
      " dropout_21 (Dropout)           (None, 128)          0           ['tf.nn.leaky_relu_1[0][0]']     \n",
      "                                                                                                  \n",
      " dense_52 (Dense)               (None, 64)           8256        ['dropout_21[0][0]']             \n",
      "                                                                                                  \n",
      " tf.nn.leaky_relu_2 (TFOpLambda  (None, 64)          0           ['dense_52[0][0]']               \n",
      " )                                                                                                \n",
      "                                                                                                  \n",
      " dropout_22 (Dropout)           (None, 64)           0           ['tf.nn.leaky_relu_2[0][0]']     \n",
      "                                                                                                  \n",
      " dense_53 (Dense)               (None, 32)           2080        ['dropout_22[0][0]']             \n",
      "                                                                                                  \n",
      " tf.nn.leaky_relu_3 (TFOpLambda  (None, 32)          0           ['dense_53[0][0]']               \n",
      " )                                                                                                \n",
      "                                                                                                  \n",
      " dropout_23 (Dropout)           (None, 32)           0           ['tf.nn.leaky_relu_3[0][0]']     \n",
      "                                                                                                  \n",
      " dense_54 (Dense)               (None, 1)            33          ['dropout_23[0][0]']             \n",
      "                                                                                                  \n",
      "==================================================================================================\n",
      "Total params: 25,261,341\n",
      "Trainable params: 25,256,989\n",
      "Non-trainable params: 4,352\n",
      "__________________________________________________________________________________________________\n"
     ]
    }
   ],
   "source": [
    "# import os\n",
    "# os.chdir(\"/content/drive/MyDrive/DREAME_COMPETITION_2022/saved_model/transformer_model\")\n",
    "\n",
    "# def r_square(y_true, y_pred):\n",
    "#    SS_res =  K.sum(K.square(y_true - y_pred)) \n",
    "#    SS_tot = K.sum(K.square(y_true - K.mean(y_true))) \n",
    "#    return ( 1 - SS_res/(SS_tot + K.epsilon()) )\n",
    "\n",
    "import tensorflow_addons as tfa\n",
    "\n",
    "r_square = tfa.metrics.r_square.RSquare(dtype=tf.float32, y_shape=(1,))\n",
    "# load_options = tf.saved_model.LoadOptions(experimental_io_device='/job:localhost') # for tpu\n",
    "# model = tf.keras.models.load_model('../saved_model/tpu_trans_unet_v0.54', custom_objects={'r_square':r_square},options=load_options)\n",
    "model = tf.keras.models.load_model('../saved_model/tpu_trans_unet_v0.54', custom_objects={'r_square':r_square})\n",
    "model.summary()"
   ]
  },
  {
   "cell_type": "code",
   "execution_count": 4,
   "metadata": {},
   "outputs": [],
   "source": [
    "# verify saved model's loss function: 'huber_loss'\n",
    "# model.loss.name"
   ]
  },
  {
   "cell_type": "code",
   "execution_count": 5,
   "metadata": {},
   "outputs": [],
   "source": [
    "# plot model\n",
    "# tf.keras.utils.plot_model(model)"
   ]
  },
  {
   "cell_type": "code",
   "execution_count": 7,
   "metadata": {
    "colab": {
     "base_uri": "https://localhost:8080/"
    },
    "executionInfo": {
     "elapsed": 23466,
     "status": "ok",
     "timestamp": 1655341898151,
     "user": {
      "displayName": "Ke Ding",
      "userId": "13611153066314221119"
     },
     "user_tz": -600
    },
    "id": "taWvlykuOVbU",
    "outputId": "25ce7d00-307f-4d3a-958b-1f26ca33ece6"
   },
   "outputs": [
    {
     "name": "stderr",
     "output_type": "stream",
     "text": [
      "100%|██████████| 71103/71103 [00:04<00:00, 17273.15it/s]\n"
     ]
    }
   ],
   "source": [
    "# read data\n",
    "data_path=\"../data/test_sequences.txt\"\n",
    "df = pd.read_csv(data_path, sep=\"\\t\", header=None, names=[\"Seq\", \"Expression\"])\n",
    "\n",
    "dataset = tf.data.TextLineDataset(data_path)\n",
    "\n",
    "seq_list=[]\n",
    "exp_list=[]\n",
    "pbar = tqdm(total=len(df))\n",
    "    \n",
    "for i in dataset.as_numpy_iterator():\n",
    "  seq, exp = i.decode(\"utf-8\").split(\"\\t\")\n",
    "  seq_list.append(list(seq))\n",
    "  exp_list.append(float(exp))\n",
    "  pbar.update(1)\n",
    "\n",
    "pbar.close()"
   ]
  },
  {
   "cell_type": "code",
   "execution_count": 8,
   "metadata": {
    "colab": {
     "base_uri": "https://localhost:8080/"
    },
    "executionInfo": {
     "elapsed": 10,
     "status": "ok",
     "timestamp": 1655341898151,
     "user": {
      "displayName": "Ke Ding",
      "userId": "13611153066314221119"
     },
     "user_tz": -600
    },
    "id": "YTnR8DvLPYXB",
    "outputId": "9e38e019-dc89-45bc-a830-15a560f2dae5"
   },
   "outputs": [
    {
     "name": "stdout",
     "output_type": "stream",
     "text": [
      "71150\n"
     ]
    }
   ],
   "source": [
    "# \"padding\" the test data so as to make sure each batch contains 50 examples\n",
    "seq_list = seq_list + seq_list[:47]\n",
    "exp_list = exp_list + exp_list[:47]\n",
    "print(len(seq_list))"
   ]
  },
  {
   "cell_type": "code",
   "execution_count": 9,
   "metadata": {
    "executionInfo": {
     "elapsed": 2246,
     "status": "ok",
     "timestamp": 1655341900394,
     "user": {
      "displayName": "Ke Ding",
      "userId": "13611153066314221119"
     },
     "user_tz": -600
    },
    "id": "8XEEO4GYOpl4"
   },
   "outputs": [],
   "source": [
    "# pad sequence to 112 for trans_unet\n",
    "pad_seq_list = tf.keras.preprocessing.sequence.pad_sequences(seq_list, maxlen=112, padding=\"post\", truncating='post', dtype=\"str\", value=\"N\")\n",
    "\n",
    "new_dataset = tf.data.Dataset.from_tensor_slices((pad_seq_list,exp_list))\n",
    "\n",
    "vocab = ['A','C','G','T']\n",
    "lookup = tf.keras.layers.StringLookup(vocabulary=vocab, output_mode='one_hot')\n",
    "new_dataset = new_dataset.map(lambda x, y: (lookup(x), y))\n",
    "\n",
    "new_dataset = new_dataset.map(lambda x, y: (tf.cast(x, dtype=tf.float32), y))\n",
    "new_dataset = new_dataset.batch(50, drop_remainder=True)"
   ]
  },
  {
   "cell_type": "code",
   "execution_count": 10,
   "metadata": {
    "executionInfo": {
     "elapsed": 43880,
     "status": "ok",
     "timestamp": 1655341944271,
     "user": {
      "displayName": "Ke Ding",
      "userId": "13611153066314221119"
     },
     "user_tz": -600
    },
    "id": "rdYV03xTO3Qw"
   },
   "outputs": [
    {
     "name": "stderr",
     "output_type": "stream",
     "text": [
      "2022-08-07 15:13:31.946480: I tensorflow/stream_executor/cuda/cuda_dnn.cc:368] Loaded cuDNN version 8202\n"
     ]
    }
   ],
   "source": [
    "pred = model.predict(new_dataset)"
   ]
  },
  {
   "cell_type": "code",
   "execution_count": 11,
   "metadata": {
    "executionInfo": {
     "elapsed": 15,
     "status": "ok",
     "timestamp": 1655341944622,
     "user": {
      "displayName": "Ke Ding",
      "userId": "13611153066314221119"
     },
     "user_tz": -600
    },
    "id": "1iN4MTmFPRQh"
   },
   "outputs": [],
   "source": [
    "# Discard the \"padding\" samples\n",
    "df[\"Expression\"] = pred[:71103]"
   ]
  },
  {
   "cell_type": "code",
   "execution_count": 12,
   "metadata": {
    "colab": {
     "base_uri": "https://localhost:8080/",
     "height": 297
    },
    "executionInfo": {
     "elapsed": 8,
     "status": "ok",
     "timestamp": 1655341944623,
     "user": {
      "displayName": "Ke Ding",
      "userId": "13611153066314221119"
     },
     "user_tz": -600
    },
    "id": "bbIFKqNDRupw",
    "outputId": "d70cf702-f75b-40df-acd1-929e8f3a9f7b"
   },
   "outputs": [
    {
     "data": {
      "text/html": [
       "<div>\n",
       "<style scoped>\n",
       "    .dataframe tbody tr th:only-of-type {\n",
       "        vertical-align: middle;\n",
       "    }\n",
       "\n",
       "    .dataframe tbody tr th {\n",
       "        vertical-align: top;\n",
       "    }\n",
       "\n",
       "    .dataframe thead th {\n",
       "        text-align: right;\n",
       "    }\n",
       "</style>\n",
       "<table border=\"1\" class=\"dataframe\">\n",
       "  <thead>\n",
       "    <tr style=\"text-align: right;\">\n",
       "      <th></th>\n",
       "      <th>Expression</th>\n",
       "    </tr>\n",
       "  </thead>\n",
       "  <tbody>\n",
       "    <tr>\n",
       "      <th>count</th>\n",
       "      <td>71103.000000</td>\n",
       "    </tr>\n",
       "    <tr>\n",
       "      <th>mean</th>\n",
       "      <td>11.690157</td>\n",
       "    </tr>\n",
       "    <tr>\n",
       "      <th>std</th>\n",
       "      <td>2.230596</td>\n",
       "    </tr>\n",
       "    <tr>\n",
       "      <th>min</th>\n",
       "      <td>-2.536114</td>\n",
       "    </tr>\n",
       "    <tr>\n",
       "      <th>25%</th>\n",
       "      <td>9.924775</td>\n",
       "    </tr>\n",
       "    <tr>\n",
       "      <th>50%</th>\n",
       "      <td>11.687795</td>\n",
       "    </tr>\n",
       "    <tr>\n",
       "      <th>75%</th>\n",
       "      <td>13.600866</td>\n",
       "    </tr>\n",
       "    <tr>\n",
       "      <th>max</th>\n",
       "      <td>16.312073</td>\n",
       "    </tr>\n",
       "  </tbody>\n",
       "</table>\n",
       "</div>"
      ],
      "text/plain": [
       "         Expression\n",
       "count  71103.000000\n",
       "mean      11.690157\n",
       "std        2.230596\n",
       "min       -2.536114\n",
       "25%        9.924775\n",
       "50%       11.687795\n",
       "75%       13.600866\n",
       "max       16.312073"
      ]
     },
     "execution_count": 12,
     "metadata": {},
     "output_type": "execute_result"
    }
   ],
   "source": [
    "# inspect the prediction's statistics\n",
    "df.describe()"
   ]
  },
  {
   "cell_type": "code",
   "execution_count": 13,
   "metadata": {
    "executionInfo": {
     "elapsed": 1273,
     "status": "ok",
     "timestamp": 1655341945890,
     "user": {
      "displayName": "Ke Ding",
      "userId": "13611153066314221119"
     },
     "user_tz": -600
    },
    "id": "TOLBFZuZQ81f"
   },
   "outputs": [],
   "source": [
    "# previous submission requirement\n",
    "df.to_csv('../submission/submission.txt', sep=\"\\t\", header=False, index=False)"
   ]
  },
  {
   "cell_type": "markdown",
   "metadata": {},
   "source": [
    "### To generate submission file, run following code. The pred.json is saved under /submission folder"
   ]
  },
  {
   "cell_type": "code",
   "execution_count": 14,
   "metadata": {
    "colab": {
     "base_uri": "https://localhost:8080/"
    },
    "executionInfo": {
     "elapsed": 5,
     "status": "ok",
     "timestamp": 1655343083404,
     "user": {
      "displayName": "Ke Ding",
      "userId": "13611153066314221119"
     },
     "user_tz": -600
    },
    "id": "cGqp8DL4IjaQ",
    "outputId": "4c2b44c0-4e9b-4de6-94b9-e6d96d605b98"
   },
   "outputs": [
    {
     "data": {
      "text/plain": [
       "(71103,)"
      ]
     },
     "execution_count": 14,
     "metadata": {},
     "output_type": "execute_result"
    }
   ],
   "source": [
    "# Y_pred = np.array(df['Expression'])\n",
    "# Y_pred.shape"
   ]
  },
  {
   "cell_type": "code",
   "execution_count": 16,
   "metadata": {
    "executionInfo": {
     "elapsed": 355,
     "status": "ok",
     "timestamp": 1655343121315,
     "user": {
      "displayName": "Ke Ding",
      "userId": "13611153066314221119"
     },
     "user_tz": -600
    },
    "id": "4YFxDLukDs3V"
   },
   "outputs": [],
   "source": [
    "import json\n",
    "from collections import OrderedDict\n",
    "# file available at #https://github.com/de-Boer-Lab/DREAM-2022/blob/main/sample_submission.json\n",
    "with open('../submission/sample_submission.json', 'r') as f: \n",
    "  ground = json.load(f)\n",
    "\n",
    "indices = np.array([int(indice) for indice in list(ground.keys())]) \n",
    "\n",
    "PRED_DATA = OrderedDict()\n",
    "\n",
    "for i in indices:\n",
    "#Y_pred is an numpy array of dimension (71103,) that contains your\n",
    "#predictions on the test sequences\n",
    "  PRED_DATA[str(i)] = float(Y_pred[i])\n",
    "\n",
    "def dump_predictions(prediction_dict, prediction_file): \n",
    "  with open(prediction_file, 'w') as f:\n",
    "    json.dump(prediction_dict, f) \n",
    "\n",
    "dump_predictions(PRED_DATA, '../submission/pred.json')"
   ]
  },
  {
   "cell_type": "code",
   "execution_count": null,
   "metadata": {
    "id": "lWakoS0SST7X"
   },
   "outputs": [],
   "source": []
  }
 ],
 "metadata": {
  "accelerator": "GPU",
  "colab": {
   "authorship_tag": "ABX9TyOTZ59gZ0hqBLa8SsBIoHE1",
   "collapsed_sections": [],
   "mount_file_id": "1J3TLNwxdm7hB_JXALQv1-gCW3L_1pY4R",
   "name": "DREAM2022-Prediction-on-Test",
   "provenance": []
  },
  "kernelspec": {
   "display_name": "Python 3 (ipykernel)",
   "language": "python",
   "name": "python3"
  },
  "language_info": {
   "codemirror_mode": {
    "name": "ipython",
    "version": 3
   },
   "file_extension": ".py",
   "mimetype": "text/x-python",
   "name": "python",
   "nbconvert_exporter": "python",
   "pygments_lexer": "ipython3",
   "version": "3.8.8"
  }
 },
 "nbformat": 4,
 "nbformat_minor": 4
}
