{
  "nbformat": 4,
  "nbformat_minor": 0,
  "metadata": {
    "kernelspec": {
      "display_name": "Python 3",
      "name": "python3"
    },
    "language_info": {
      "name": "python"
    },
    "colab": {
      "name": "mode_training.ipynb",
      "provenance": [],
      "collapsed_sections": [
        "ZEAMTtE4ZG9M"
      ],
      "toc_visible": true,
      "include_colab_link": true
    },
    "accelerator": "GPU"
  },
  "cells": [
    {
      "cell_type": "markdown",
      "metadata": {
        "id": "view-in-github",
        "colab_type": "text"
      },
      "source": [
        "<a href=\"https://colab.research.google.com/github/gongx030/dream_PGE/blob/main/mode_training.ipynb\" target=\"_parent\"><img src=\"https://colab.research.google.com/assets/colab-badge.svg\" alt=\"Open In Colab\"/></a>"
      ]
    },
    {
      "cell_type": "markdown",
      "metadata": {
        "id": "M0jDe-m_5aq4"
      },
      "source": [
        "# Model training"
      ]
    },
    {
      "cell_type": "code",
      "source": [
        "RUNTIME = 'msi'"
      ],
      "metadata": {
        "id": "5VA-6Q6ciFVs"
      },
      "execution_count": 1,
      "outputs": []
    },
    {
      "cell_type": "markdown",
      "metadata": {
        "id": "obcf6pAcw6TQ"
      },
      "source": [
        "### Install external packages"
      ]
    },
    {
      "cell_type": "code",
      "source": [
        "%%bash -s \"$RUNTIME\"\n",
        "if [[ \"$1\" == \"colab\" ]]; then\n",
        "  pip install -U tensorflow-addons\n",
        "  pip install -U session_info\n",
        "  pip install -U biopython\n",
        "else\n",
        "  pip install tensorflow==2.6 keras==2.6\n",
        "  pip install tensorflow-addons==0.14.0\n",
        "  pip install tensorflow_probability==0.14.1\n",
        "  pip install session_info\n",
        "  pip install biopython\n",
        "  pip install sklearn\n",
        "  pip install matplotlib\n",
        "  pip install tensorflow_io\n",
        "fi"
      ],
      "metadata": {
        "id": "jmnenNTxiL2f",
        "colab": {
          "base_uri": "https://localhost:8080/"
        },
        "outputId": "1b9f551c-a84e-4f53-98ee-e3ed6a9a1ab0"
      },
      "execution_count": 2,
      "outputs": [
        {
          "output_type": "stream",
          "name": "stdout",
          "text": [
            "Requirement already satisfied: tensorflow==2.6 in /panfs/jay/groups/18/garrydj/gongx030/.conda/envs/tf26_py37_a100/lib/python3.7/site-packages (2.6.0)\n",
            "Requirement already satisfied: keras==2.6 in /panfs/jay/groups/18/garrydj/gongx030/.conda/envs/tf26_py37_a100/lib/python3.7/site-packages (2.6.0)\n",
            "Requirement already satisfied: keras-preprocessing~=1.1.2 in /panfs/jay/groups/18/garrydj/gongx030/.conda/envs/tf26_py37_a100/lib/python3.7/site-packages (from tensorflow==2.6) (1.1.2)\n",
            "Requirement already satisfied: tensorflow-estimator~=2.6 in /panfs/jay/groups/18/garrydj/gongx030/.conda/envs/tf26_py37_a100/lib/python3.7/site-packages (from tensorflow==2.6) (2.9.0)\n",
            "Requirement already satisfied: opt-einsum~=3.3.0 in /panfs/jay/groups/18/garrydj/gongx030/.conda/envs/tf26_py37_a100/lib/python3.7/site-packages (from tensorflow==2.6) (3.3.0)\n",
            "Requirement already satisfied: typing-extensions~=3.7.4 in /panfs/jay/groups/18/garrydj/gongx030/.conda/envs/tf26_py37_a100/lib/python3.7/site-packages (from tensorflow==2.6) (3.7.4.3)\n",
            "Requirement already satisfied: gast==0.4.0 in /panfs/jay/groups/18/garrydj/gongx030/.conda/envs/tf26_py37_a100/lib/python3.7/site-packages (from tensorflow==2.6) (0.4.0)\n",
            "Requirement already satisfied: absl-py~=0.10 in /panfs/jay/groups/18/garrydj/gongx030/.conda/envs/tf26_py37_a100/lib/python3.7/site-packages (from tensorflow==2.6) (0.15.0)\n",
            "Requirement already satisfied: termcolor~=1.1.0 in /panfs/jay/groups/18/garrydj/gongx030/.conda/envs/tf26_py37_a100/lib/python3.7/site-packages (from tensorflow==2.6) (1.1.0)\n",
            "Requirement already satisfied: numpy~=1.19.2 in /panfs/jay/groups/18/garrydj/gongx030/.conda/envs/tf26_py37_a100/lib/python3.7/site-packages (from tensorflow==2.6) (1.19.5)\n",
            "Requirement already satisfied: astunparse~=1.6.3 in /panfs/jay/groups/18/garrydj/gongx030/.conda/envs/tf26_py37_a100/lib/python3.7/site-packages (from tensorflow==2.6) (1.6.3)\n",
            "Requirement already satisfied: wheel~=0.35 in /panfs/jay/groups/18/garrydj/gongx030/.conda/envs/tf26_py37_a100/lib/python3.7/site-packages (from tensorflow==2.6) (0.37.1)\n",
            "Requirement already satisfied: grpcio<2.0,>=1.37.0 in /panfs/jay/groups/18/garrydj/gongx030/.conda/envs/tf26_py37_a100/lib/python3.7/site-packages (from tensorflow==2.6) (1.47.0)\n",
            "Requirement already satisfied: protobuf>=3.9.2 in /panfs/jay/groups/18/garrydj/gongx030/.conda/envs/tf26_py37_a100/lib/python3.7/site-packages (from tensorflow==2.6) (3.19.4)\n",
            "Requirement already satisfied: google-pasta~=0.2 in /panfs/jay/groups/18/garrydj/gongx030/.conda/envs/tf26_py37_a100/lib/python3.7/site-packages (from tensorflow==2.6) (0.2.0)\n",
            "Requirement already satisfied: wrapt~=1.12.1 in /panfs/jay/groups/18/garrydj/gongx030/.conda/envs/tf26_py37_a100/lib/python3.7/site-packages (from tensorflow==2.6) (1.12.1)\n",
            "Requirement already satisfied: h5py~=3.1.0 in /panfs/jay/groups/18/garrydj/gongx030/.conda/envs/tf26_py37_a100/lib/python3.7/site-packages (from tensorflow==2.6) (3.1.0)\n",
            "Requirement already satisfied: tensorboard~=2.6 in /panfs/jay/groups/18/garrydj/gongx030/.conda/envs/tf26_py37_a100/lib/python3.7/site-packages (from tensorflow==2.6) (2.9.1)\n",
            "Requirement already satisfied: flatbuffers~=1.12.0 in /panfs/jay/groups/18/garrydj/gongx030/.conda/envs/tf26_py37_a100/lib/python3.7/site-packages (from tensorflow==2.6) (1.12)\n",
            "Requirement already satisfied: six~=1.15.0 in /panfs/jay/groups/18/garrydj/gongx030/.conda/envs/tf26_py37_a100/lib/python3.7/site-packages (from tensorflow==2.6) (1.15.0)\n",
            "Requirement already satisfied: clang~=5.0 in /panfs/jay/groups/18/garrydj/gongx030/.conda/envs/tf26_py37_a100/lib/python3.7/site-packages (from tensorflow==2.6) (5.0)\n",
            "Requirement already satisfied: cached-property in /panfs/jay/groups/18/garrydj/gongx030/.conda/envs/tf26_py37_a100/lib/python3.7/site-packages (from h5py~=3.1.0->tensorflow==2.6) (1.5.2)\n",
            "Requirement already satisfied: google-auth-oauthlib<0.5,>=0.4.1 in /panfs/jay/groups/18/garrydj/gongx030/.conda/envs/tf26_py37_a100/lib/python3.7/site-packages (from tensorboard~=2.6->tensorflow==2.6) (0.4.6)\n",
            "Requirement already satisfied: tensorboard-data-server<0.7.0,>=0.6.0 in /panfs/jay/groups/18/garrydj/gongx030/.conda/envs/tf26_py37_a100/lib/python3.7/site-packages (from tensorboard~=2.6->tensorflow==2.6) (0.6.1)\n",
            "Requirement already satisfied: tensorboard-plugin-wit>=1.6.0 in /panfs/jay/groups/18/garrydj/gongx030/.conda/envs/tf26_py37_a100/lib/python3.7/site-packages (from tensorboard~=2.6->tensorflow==2.6) (1.8.1)\n",
            "Requirement already satisfied: setuptools>=41.0.0 in /panfs/jay/groups/18/garrydj/gongx030/.conda/envs/tf26_py37_a100/lib/python3.7/site-packages (from tensorboard~=2.6->tensorflow==2.6) (63.2.0)\n",
            "Requirement already satisfied: werkzeug>=1.0.1 in /panfs/jay/groups/18/garrydj/gongx030/.conda/envs/tf26_py37_a100/lib/python3.7/site-packages (from tensorboard~=2.6->tensorflow==2.6) (2.2.0)\n",
            "Requirement already satisfied: markdown>=2.6.8 in /panfs/jay/groups/18/garrydj/gongx030/.conda/envs/tf26_py37_a100/lib/python3.7/site-packages (from tensorboard~=2.6->tensorflow==2.6) (3.4.1)\n",
            "Requirement already satisfied: google-auth<3,>=1.6.3 in /panfs/jay/groups/18/garrydj/gongx030/.conda/envs/tf26_py37_a100/lib/python3.7/site-packages (from tensorboard~=2.6->tensorflow==2.6) (2.9.1)\n",
            "Requirement already satisfied: requests<3,>=2.21.0 in /panfs/jay/groups/18/garrydj/gongx030/.conda/envs/tf26_py37_a100/lib/python3.7/site-packages (from tensorboard~=2.6->tensorflow==2.6) (2.28.1)\n",
            "Requirement already satisfied: cachetools<6.0,>=2.0.0 in /panfs/jay/groups/18/garrydj/gongx030/.conda/envs/tf26_py37_a100/lib/python3.7/site-packages (from google-auth<3,>=1.6.3->tensorboard~=2.6->tensorflow==2.6) (5.2.0)\n",
            "Requirement already satisfied: pyasn1-modules>=0.2.1 in /panfs/jay/groups/18/garrydj/gongx030/.conda/envs/tf26_py37_a100/lib/python3.7/site-packages (from google-auth<3,>=1.6.3->tensorboard~=2.6->tensorflow==2.6) (0.2.8)\n",
            "Requirement already satisfied: rsa<5,>=3.1.4 in /panfs/jay/groups/18/garrydj/gongx030/.conda/envs/tf26_py37_a100/lib/python3.7/site-packages (from google-auth<3,>=1.6.3->tensorboard~=2.6->tensorflow==2.6) (4.9)\n",
            "Requirement already satisfied: requests-oauthlib>=0.7.0 in /panfs/jay/groups/18/garrydj/gongx030/.conda/envs/tf26_py37_a100/lib/python3.7/site-packages (from google-auth-oauthlib<0.5,>=0.4.1->tensorboard~=2.6->tensorflow==2.6) (1.3.1)\n",
            "Requirement already satisfied: importlib-metadata>=4.4 in /panfs/jay/groups/18/garrydj/gongx030/.conda/envs/tf26_py37_a100/lib/python3.7/site-packages (from markdown>=2.6.8->tensorboard~=2.6->tensorflow==2.6) (4.12.0)\n",
            "Requirement already satisfied: charset-normalizer<3,>=2 in /panfs/jay/groups/18/garrydj/gongx030/.conda/envs/tf26_py37_a100/lib/python3.7/site-packages (from requests<3,>=2.21.0->tensorboard~=2.6->tensorflow==2.6) (2.1.0)\n",
            "Requirement already satisfied: certifi>=2017.4.17 in /panfs/jay/groups/18/garrydj/gongx030/.conda/envs/tf26_py37_a100/lib/python3.7/site-packages (from requests<3,>=2.21.0->tensorboard~=2.6->tensorflow==2.6) (2022.6.15)\n",
            "Requirement already satisfied: urllib3<1.27,>=1.21.1 in /panfs/jay/groups/18/garrydj/gongx030/.conda/envs/tf26_py37_a100/lib/python3.7/site-packages (from requests<3,>=2.21.0->tensorboard~=2.6->tensorflow==2.6) (1.26.11)\n",
            "Requirement already satisfied: idna<4,>=2.5 in /panfs/jay/groups/18/garrydj/gongx030/.conda/envs/tf26_py37_a100/lib/python3.7/site-packages (from requests<3,>=2.21.0->tensorboard~=2.6->tensorflow==2.6) (3.3)\n",
            "Requirement already satisfied: MarkupSafe>=2.1.1 in /panfs/jay/groups/18/garrydj/gongx030/.conda/envs/tf26_py37_a100/lib/python3.7/site-packages (from werkzeug>=1.0.1->tensorboard~=2.6->tensorflow==2.6) (2.1.1)\n",
            "Requirement already satisfied: zipp>=0.5 in /panfs/jay/groups/18/garrydj/gongx030/.conda/envs/tf26_py37_a100/lib/python3.7/site-packages (from importlib-metadata>=4.4->markdown>=2.6.8->tensorboard~=2.6->tensorflow==2.6) (3.8.1)\n",
            "Requirement already satisfied: pyasn1<0.5.0,>=0.4.6 in /panfs/jay/groups/18/garrydj/gongx030/.conda/envs/tf26_py37_a100/lib/python3.7/site-packages (from pyasn1-modules>=0.2.1->google-auth<3,>=1.6.3->tensorboard~=2.6->tensorflow==2.6) (0.4.8)\n",
            "Requirement already satisfied: oauthlib>=3.0.0 in /panfs/jay/groups/18/garrydj/gongx030/.conda/envs/tf26_py37_a100/lib/python3.7/site-packages (from requests-oauthlib>=0.7.0->google-auth-oauthlib<0.5,>=0.4.1->tensorboard~=2.6->tensorflow==2.6) (3.2.0)\n",
            "Requirement already satisfied: tensorflow-addons==0.14.0 in /panfs/jay/groups/18/garrydj/gongx030/.local/lib/python3.7/site-packages (0.14.0)\n",
            "Requirement already satisfied: typeguard>=2.7 in /panfs/jay/groups/18/garrydj/gongx030/.local/lib/python3.7/site-packages (from tensorflow-addons==0.14.0) (2.13.3)\n",
            "Requirement already satisfied: tensorflow_probability==0.14.1 in /panfs/jay/groups/18/garrydj/gongx030/.conda/envs/tf26_py37_a100/lib/python3.7/site-packages (0.14.1)\n",
            "Requirement already satisfied: decorator in /panfs/jay/groups/18/garrydj/gongx030/.conda/envs/tf26_py37_a100/lib/python3.7/site-packages (from tensorflow_probability==0.14.1) (5.1.1)\n",
            "Requirement already satisfied: cloudpickle>=1.3 in /panfs/jay/groups/18/garrydj/gongx030/.conda/envs/tf26_py37_a100/lib/python3.7/site-packages (from tensorflow_probability==0.14.1) (2.1.0)\n",
            "Requirement already satisfied: numpy>=1.13.3 in /panfs/jay/groups/18/garrydj/gongx030/.conda/envs/tf26_py37_a100/lib/python3.7/site-packages (from tensorflow_probability==0.14.1) (1.19.5)\n",
            "Requirement already satisfied: six>=1.10.0 in /panfs/jay/groups/18/garrydj/gongx030/.conda/envs/tf26_py37_a100/lib/python3.7/site-packages (from tensorflow_probability==0.14.1) (1.15.0)\n",
            "Requirement already satisfied: dm-tree in /panfs/jay/groups/18/garrydj/gongx030/.conda/envs/tf26_py37_a100/lib/python3.7/site-packages (from tensorflow_probability==0.14.1) (0.1.7)\n",
            "Requirement already satisfied: gast>=0.3.2 in /panfs/jay/groups/18/garrydj/gongx030/.conda/envs/tf26_py37_a100/lib/python3.7/site-packages (from tensorflow_probability==0.14.1) (0.4.0)\n",
            "Requirement already satisfied: absl-py in /panfs/jay/groups/18/garrydj/gongx030/.conda/envs/tf26_py37_a100/lib/python3.7/site-packages (from tensorflow_probability==0.14.1) (0.15.0)\n",
            "Requirement already satisfied: session_info in /panfs/jay/groups/18/garrydj/gongx030/.conda/envs/tf26_py37_a100/lib/python3.7/site-packages (1.0.0)\n",
            "Requirement already satisfied: stdlib-list in /panfs/jay/groups/18/garrydj/gongx030/.conda/envs/tf26_py37_a100/lib/python3.7/site-packages (from session_info) (0.8.0)\n",
            "Requirement already satisfied: biopython in /panfs/jay/groups/18/garrydj/gongx030/.conda/envs/tf26_py37_a100/lib/python3.7/site-packages (1.79)\n",
            "Requirement already satisfied: numpy in /panfs/jay/groups/18/garrydj/gongx030/.conda/envs/tf26_py37_a100/lib/python3.7/site-packages (from biopython) (1.19.5)\n",
            "Requirement already satisfied: sklearn in /panfs/jay/groups/18/garrydj/gongx030/.conda/envs/tf26_py37_a100/lib/python3.7/site-packages (0.0)\n",
            "Requirement already satisfied: scikit-learn in /panfs/jay/groups/18/garrydj/gongx030/.conda/envs/tf26_py37_a100/lib/python3.7/site-packages (from sklearn) (1.0.2)\n",
            "Requirement already satisfied: joblib>=0.11 in /panfs/jay/groups/18/garrydj/gongx030/.conda/envs/tf26_py37_a100/lib/python3.7/site-packages (from scikit-learn->sklearn) (1.1.0)\n",
            "Requirement already satisfied: numpy>=1.14.6 in /panfs/jay/groups/18/garrydj/gongx030/.conda/envs/tf26_py37_a100/lib/python3.7/site-packages (from scikit-learn->sklearn) (1.19.5)\n",
            "Requirement already satisfied: scipy>=1.1.0 in /panfs/jay/groups/18/garrydj/gongx030/.conda/envs/tf26_py37_a100/lib/python3.7/site-packages (from scikit-learn->sklearn) (1.7.3)\n",
            "Requirement already satisfied: threadpoolctl>=2.0.0 in /panfs/jay/groups/18/garrydj/gongx030/.conda/envs/tf26_py37_a100/lib/python3.7/site-packages (from scikit-learn->sklearn) (3.1.0)\n",
            "Requirement already satisfied: matplotlib in /panfs/jay/groups/18/garrydj/gongx030/.conda/envs/tf26_py37_a100/lib/python3.7/site-packages (3.5.2)\n",
            "Requirement already satisfied: pyparsing>=2.2.1 in /panfs/jay/groups/18/garrydj/gongx030/.conda/envs/tf26_py37_a100/lib/python3.7/site-packages (from matplotlib) (3.0.9)\n",
            "Requirement already satisfied: numpy>=1.17 in /panfs/jay/groups/18/garrydj/gongx030/.conda/envs/tf26_py37_a100/lib/python3.7/site-packages (from matplotlib) (1.19.5)\n",
            "Requirement already satisfied: pillow>=6.2.0 in /panfs/jay/groups/18/garrydj/gongx030/.conda/envs/tf26_py37_a100/lib/python3.7/site-packages (from matplotlib) (9.2.0)\n",
            "Requirement already satisfied: packaging>=20.0 in /panfs/jay/groups/18/garrydj/gongx030/.conda/envs/tf26_py37_a100/lib/python3.7/site-packages (from matplotlib) (21.3)\n",
            "Requirement already satisfied: kiwisolver>=1.0.1 in /panfs/jay/groups/18/garrydj/gongx030/.conda/envs/tf26_py37_a100/lib/python3.7/site-packages (from matplotlib) (1.4.4)\n",
            "Requirement already satisfied: fonttools>=4.22.0 in /panfs/jay/groups/18/garrydj/gongx030/.conda/envs/tf26_py37_a100/lib/python3.7/site-packages (from matplotlib) (4.34.4)\n",
            "Requirement already satisfied: python-dateutil>=2.7 in /panfs/jay/groups/18/garrydj/gongx030/.conda/envs/tf26_py37_a100/lib/python3.7/site-packages (from matplotlib) (2.8.2)\n",
            "Requirement already satisfied: cycler>=0.10 in /panfs/jay/groups/18/garrydj/gongx030/.conda/envs/tf26_py37_a100/lib/python3.7/site-packages (from matplotlib) (0.11.0)\n",
            "Requirement already satisfied: typing-extensions in /panfs/jay/groups/18/garrydj/gongx030/.conda/envs/tf26_py37_a100/lib/python3.7/site-packages (from kiwisolver>=1.0.1->matplotlib) (3.7.4.3)\n",
            "Requirement already satisfied: six>=1.5 in /panfs/jay/groups/18/garrydj/gongx030/.conda/envs/tf26_py37_a100/lib/python3.7/site-packages (from python-dateutil>=2.7->matplotlib) (1.15.0)\n",
            "Requirement already satisfied: tensorflow_io in /panfs/jay/groups/18/garrydj/gongx030/.conda/envs/tf26_py37_a100/lib/python3.7/site-packages (0.26.0)\n",
            "Requirement already satisfied: tensorflow-io-gcs-filesystem==0.26.0 in /panfs/jay/groups/18/garrydj/gongx030/.conda/envs/tf26_py37_a100/lib/python3.7/site-packages (from tensorflow_io) (0.26.0)\n"
          ]
        }
      ]
    },
    {
      "cell_type": "markdown",
      "source": [
        "## Load Python packages"
      ],
      "metadata": {
        "id": "wH9oF2RleEYl"
      }
    },
    {
      "cell_type": "code",
      "source": [
        "import tensorflow as tf\n",
        "import numpy as np\n",
        "from tensorflow import keras\n",
        "from tensorflow.keras import layers\n",
        "from scipy import stats\n",
        "import session_info\n",
        "import tensorflow_probability as tfp\n",
        "import pdb\n",
        "from sklearn.metrics import r2_score\n",
        "import shutil\n",
        "import pandas as pd\n",
        "import re\n",
        "import os\n",
        "from Bio.Seq import Seq\n",
        "import gc\n",
        "import matplotlib.pyplot as plt\n",
        "import datetime\n",
        "import socket\n",
        "import time\n",
        "import json\n",
        "from collections import OrderedDict\n",
        "import random as python_random"
      ],
      "metadata": {
        "id": "XamZpd5EeGHR"
      },
      "execution_count": 3,
      "outputs": []
    },
    {
      "cell_type": "code",
      "source": [
        "if RUNTIME == 'colab':\n",
        "  from google.colab import drive"
      ],
      "metadata": {
        "id": "bHHclmdZm_T3"
      },
      "execution_count": 4,
      "outputs": []
    },
    {
      "cell_type": "markdown",
      "metadata": {
        "id": "j-TPW4ME18Vg"
      },
      "source": [
        "### TensorFlow setup"
      ]
    },
    {
      "cell_type": "code",
      "source": [
        "gpus = tf.config.list_physical_devices('GPU')\n",
        "for gpu in gpus:\n",
        "  tf.config.experimental.set_memory_growth(gpu, True)\n",
        "logical_gpus = tf.config.experimental.list_logical_devices('GPU')\n",
        "print('Physical GPUs: {}'.format(len(gpus)))\n",
        "print('Logical GPUs: {}'.format(len(logical_gpus)))"
      ],
      "metadata": {
        "id": "Wh7r7D7SeMEq",
        "colab": {
          "base_uri": "https://localhost:8080/"
        },
        "outputId": "97cdad41-0c3b-4b0f-a814-5310f06bb455"
      },
      "execution_count": 5,
      "outputs": [
        {
          "output_type": "stream",
          "name": "stdout",
          "text": [
            "Physical GPUs: 4\n",
            "Logical GPUs: 4\n"
          ]
        },
        {
          "output_type": "stream",
          "name": "stderr",
          "text": [
            "2022-08-07 14:34:27.263063: I tensorflow/core/platform/cpu_feature_guard.cc:142] This TensorFlow binary is optimized with oneAPI Deep Neural Network Library (oneDNN) to use the following CPU instructions in performance-critical operations:  AVX2 FMA\n",
            "To enable them in other operations, rebuild TensorFlow with the appropriate compiler flags.\n",
            "2022-08-07 14:34:31.875947: I tensorflow/core/common_runtime/gpu/gpu_device.cc:1510] Created device /job:localhost/replica:0/task:0/device:GPU:0 with 38427 MB memory:  -> device: 0, name: NVIDIA A100-SXM4-40GB, pci bus id: 0000:06:00.0, compute capability: 8.0\n",
            "2022-08-07 14:34:31.881587: I tensorflow/core/common_runtime/gpu/gpu_device.cc:1510] Created device /job:localhost/replica:0/task:0/device:GPU:1 with 38427 MB memory:  -> device: 1, name: NVIDIA A100-SXM4-40GB, pci bus id: 0000:47:00.0, compute capability: 8.0\n",
            "2022-08-07 14:34:31.883593: I tensorflow/core/common_runtime/gpu/gpu_device.cc:1510] Created device /job:localhost/replica:0/task:0/device:GPU:2 with 38427 MB memory:  -> device: 2, name: NVIDIA A100-SXM4-40GB, pci bus id: 0000:85:00.0, compute capability: 8.0\n",
            "2022-08-07 14:34:31.885714: I tensorflow/core/common_runtime/gpu/gpu_device.cc:1510] Created device /job:localhost/replica:0/task:0/device:GPU:3 with 38427 MB memory:  -> device: 3, name: NVIDIA A100-SXM4-40GB, pci bus id: 0000:c7:00.0, compute capability: 8.0\n"
          ]
        }
      ]
    },
    {
      "cell_type": "code",
      "source": [
        "socket.gethostname()"
      ],
      "metadata": {
        "id": "dYGE9B-1A25u",
        "colab": {
          "base_uri": "https://localhost:8080/"
        },
        "outputId": "724a6880-9a78-4088-9694-5ec328d6b3b7"
      },
      "execution_count": 6,
      "outputs": [
        {
          "output_type": "execute_result",
          "data": {
            "text/plain": [
              "'aga03'"
            ]
          },
          "metadata": {},
          "execution_count": 6
        }
      ]
    },
    {
      "cell_type": "markdown",
      "metadata": {
        "id": "hl2lXOAv9ljx"
      },
      "source": [
        "## Parameters"
      ]
    },
    {
      "cell_type": "code",
      "source": [
        "ARGS = {\n",
        "  'model_id' : 'm20220727e',\n",
        "  'global_seed' : 123,\n",
        "  'shuffle_size' : 1000,\n",
        "  'max_width' : 100,\n",
        "  'head_len' : 17,\n",
        "  'tail_len' : 13,\n",
        "  'pct_ds' : 1, # % of total data for training/testing,\n",
        "  'train_split' : 0.95,\n",
        "  'alphabets' : {'A' : 0, 'C' : 1, 'G' : 2, 'T' : 3, 'N' : 4, 'M' : 5},\n",
        "  'learning_rate' : 0.001,\n",
        "  'initial_epoch': 0,\n",
        "  'epochs' : 20,\n",
        "  'batch_size' : 512,\n",
        "  'dropout_rate' : 0.1,\n",
        "  'kmer': 10,\n",
        "  'strides' : 1,\n",
        "  'embedding_dim' : 512,\n",
        "  'num_heads' : 8,\n",
        "  'ff_mult' : 4,\n",
        "  'num_projectors' : 32,\n",
        "  'n_blocks_regressor' : 4,\n",
        "  'warmup_steps' : 12500, # ~ 1 epoch\n",
        "  'mask_ratio' : 0.05,\n",
        "  'remote_sample_submission_file' : 'https://raw.githubusercontent.com/de-Boer-Lab/DREAM-2022/main/sample_submission.json',\n",
        "}\n",
        "if RUNTIME == 'msi':\n",
        "  ARGS['remote_data_dir'] = 'https://s3.msi.umn.edu/gongx030/projects/dream_PGE/training_data/pct_ds=' + str(ARGS['pct_ds']) + '/'\n",
        "  ARGS['local_data_dir'] = re.sub('https://', './', ARGS['remote_data_dir'])\n",
        "  ARGS['remote_checkpoint_dir'] = 'https://s3.msi.umn.edu/gongx030/projects/dream_PGE/notebooks_msi/' + ARGS['model_id'] + '/tf_ckpts/'\n",
        "  ARGS['remote_log_dir'] = 'https://s3.msi.umn.edu/gongx030/projects/dream_PGE/notebooks_msi/' + ARGS['model_id'] + '/log/'\n",
        "  ARGS['local_checkpoint_dir'] = re.sub('https://', './', ARGS['remote_checkpoint_dir'])\n",
        "  ARGS['local_log_dir'] = re.sub('https://', './', ARGS['remote_log_dir'])\n",
        "  ARGS['remote_test_data'] = 'https://s3.msi.umn.edu/gongx030/projects/dream_PGE/test_sequences.txt.gz'\n",
        "  ARGS['local_test_data'] = re.sub('https://', './', ARGS['remote_test_data'])\n",
        "  ARGS['local_sample_submission_file'] = re.sub('https://', './', ARGS['remote_sample_submission_file'])\n",
        "  ARGS['remote_prediction_file'] = 'https://s3.msi.umn.edu/gongx030/projects/dream_PGE/predictions/' + ARGS['model_id'] + '/pred.json'\n",
        "  ARGS['local_prediction_file'] = re.sub('https://', './', ARGS['remote_prediction_file'])\n",
        "  ARGS['s3_prediction_file'] = re.sub('https://s3.msi.umn.edu', 's3://', ARGS['remote_prediction_file'])\n",
        "  ARGS['remote_prediction_tsv_file'] = 'https://s3.msi.umn.edu/gongx030/projects/dream_PGE/predictions/' + ARGS['model_id'] + '/pred.tsv'\n",
        "  ARGS['local_prediction_tsv_file'] = re.sub('https://', './', ARGS['remote_prediction_tsv_file'])\n",
        "  ARGS['s3_prediction_tsv_file'] = re.sub('https://s3.msi.umn.edu', 's3://', ARGS['remote_prediction_tsv_file'])\n",
        "else:\n",
        "  ARGS['local_data_dir'] = '/content/drive/MyDrive/training_data/pct_ds=' + str(ARGS['pct_ds']) + '/'\n",
        "  ARGS['local_checkpoint_dir'] = '/content/drive/MyDrive/' + ARGS['model_id'] + '/tf_ckpts/'\n",
        "  ARGS['local_log_dir'] = '/content/drive/MyDrive/' + ARGS['model_id'] + '/log/'"
      ],
      "metadata": {
        "id": "D0pjVLfcfMl7"
      },
      "execution_count": 68,
      "outputs": []
    },
    {
      "cell_type": "markdown",
      "source": [
        "### Set seeds"
      ],
      "metadata": {
        "id": "5i5XrE1H2Iwq"
      }
    },
    {
      "cell_type": "code",
      "source": [
        "# The below is necessary for starting Numpy generated random numbers\n",
        "# in a well-defined initial state.\n",
        "np.random.seed(ARGS['global_seed'])\n",
        "\n",
        "# The below is necessary for starting core Python generated random numbers\n",
        "# in a well-defined state.\n",
        "tf.random.set_seed(ARGS['global_seed'])\n",
        "\n",
        "# The below set_seed() will make random number generation\n",
        "# in the TensorFlow backend have a well-defined initial state.\n",
        "# For further details, see:\n",
        "# https://www.tensorflow.org/api_docs/python/tf/random/set_seed\n",
        "python_random.seed(ARGS['global_seed'])"
      ],
      "metadata": {
        "id": "5LTFxNSIWQID"
      },
      "execution_count": 8,
      "outputs": []
    },
    {
      "cell_type": "markdown",
      "metadata": {
        "id": "hkXc5vbaiJGB"
      },
      "source": [
        "## Functions"
      ]
    },
    {
      "cell_type": "code",
      "execution_count": 9,
      "metadata": {
        "id": "5AHxqjy7iRlJ"
      },
      "outputs": [],
      "source": [
        "mse_loss = keras.losses.MeanSquaredError(reduction = 'none')"
      ]
    },
    {
      "cell_type": "code",
      "execution_count": 10,
      "metadata": {
        "id": "n69Cc4Yd76rm"
      },
      "outputs": [],
      "source": [
        "scc_loss = tf.keras.losses.SparseCategoricalCrossentropy(from_logits = True, reduction = 'none')"
      ]
    },
    {
      "cell_type": "markdown",
      "source": [
        "### pearson_r"
      ],
      "metadata": {
        "id": "oPZLHuW06Tcm"
      }
    },
    {
      "cell_type": "markdown",
      "source": [
        "https://www.tutorialexample.com/implement-pearson-correlation-coefficient-loss-in-tensorflow-tensorflow-tutorial/"
      ],
      "metadata": {
        "id": "TH7CX-Wk7Y2e"
      }
    },
    {
      "cell_type": "code",
      "source": [
        "def pearson_r(x, y):\n",
        "  \n",
        "  mx = tf.reduce_mean(x, axis = 0, keepdims = True)\n",
        "  my = tf.reduce_mean(y, axis = 0, keepdims = True)\n",
        "  xm = x - mx\n",
        "  ym = y - my\n",
        "  t1_norm = tf.nn.l2_normalize(xm, axis = 0)\n",
        "  t2_norm = tf.nn.l2_normalize(ym, axis = 0)\n",
        "  return tf.reduce_sum(tf.multiply(t1_norm, t2_norm))"
      ],
      "metadata": {
        "id": "bDou1j1A6S2j"
      },
      "execution_count": 11,
      "outputs": []
    },
    {
      "cell_type": "code",
      "source": [
        "x = np.random.rand(100)\n",
        "y = np.random.rand(100)\n",
        "print('pearson r (stats.pearsonr): {}'.format(stats.pearsonr(x, y)[0]))\n",
        "print('pearson r (pearson_r): {}'.format(pearson_r(tf.expand_dims(x, 1), tf.expand_dims(y, 1))))"
      ],
      "metadata": {
        "id": "4E4kvC_v6oYG",
        "colab": {
          "base_uri": "https://localhost:8080/"
        },
        "outputId": "13b6f761-b005-4e10-f2b8-b2c5703a0826"
      },
      "execution_count": 12,
      "outputs": [
        {
          "output_type": "stream",
          "name": "stdout",
          "text": [
            "pearson r (stats.pearsonr): -0.09270195576139686\n",
            "pearson r (pearson_r): -0.09270195576139688\n"
          ]
        }
      ]
    },
    {
      "cell_type": "markdown",
      "source": [
        "### GLULayer"
      ],
      "metadata": {
        "id": "mrQ9T4-oSk8X"
      }
    },
    {
      "cell_type": "code",
      "source": [
        "class GLULayer(layers.Layer):\n",
        "  def __init__(self, dim):\n",
        "    super(GLULayer, self).__init__()\n",
        "    self.dim = dim\n",
        "\n",
        "  def call(self, x):\n",
        "    out, gate = tf.split(x, 2, axis = self.dim)\n",
        "    return out * tf.sigmoid(gate)"
      ],
      "metadata": {
        "id": "oMX5LC1aSkRK"
      },
      "execution_count": 13,
      "outputs": []
    },
    {
      "cell_type": "code",
      "source": [
        "layer = GLULayer(dim = 2)\n",
        "x = tf.random.uniform([3, 10, 6])\n",
        "layer(x).shape"
      ],
      "metadata": {
        "id": "ivpHjDlQSxUU",
        "colab": {
          "base_uri": "https://localhost:8080/"
        },
        "outputId": "6f1bd14c-44b6-4ba0-9493-f9ef6b173840"
      },
      "execution_count": 14,
      "outputs": [
        {
          "output_type": "execute_result",
          "data": {
            "text/plain": [
              "TensorShape([3, 10, 3])"
            ]
          },
          "metadata": {},
          "execution_count": 14
        }
      ]
    },
    {
      "cell_type": "markdown",
      "source": [
        "### SwiGLU"
      ],
      "metadata": {
        "id": "tHdNKhzVvsMf"
      }
    },
    {
      "cell_type": "code",
      "source": [
        "class SwiGLULayer(layers.Layer):\n",
        "  def __init__(self, dim):\n",
        "    super(SwiGLULayer, self).__init__()\n",
        "    self.dim = dim\n",
        "    self.swish = layers.Activation('swish')\n",
        "\n",
        "  def call(self, x):\n",
        "    out, gate = tf.split(x, 2, axis = self.dim)\n",
        "    return out * self.swish(gate)"
      ],
      "metadata": {
        "id": "WeSyNETvvuex"
      },
      "execution_count": 15,
      "outputs": []
    },
    {
      "cell_type": "code",
      "source": [
        "layer = GLULayer(dim = 2)\n",
        "x = tf.random.uniform([3, 10, 6])\n",
        "layer(x).shape"
      ],
      "metadata": {
        "id": "JuwI-YXjvuex",
        "colab": {
          "base_uri": "https://localhost:8080/"
        },
        "outputId": "6c807edc-6005-4304-cc04-226fb250c663"
      },
      "execution_count": 16,
      "outputs": [
        {
          "output_type": "execute_result",
          "data": {
            "text/plain": [
              "TensorShape([3, 10, 3])"
            ]
          },
          "metadata": {},
          "execution_count": 16
        }
      ]
    },
    {
      "cell_type": "markdown",
      "source": [
        "### FeedForwardSwiGLU"
      ],
      "metadata": {
        "id": "i7BVgkw-w4UO"
      }
    },
    {
      "cell_type": "code",
      "source": [
        "class FeedForwardSwiGLU(layers.Layer):\n",
        "  def __init__(self, embedding_dim, mult=4, rate = 0.0, use_bias = False):\n",
        "    super(FeedForwardSwiGLU, self).__init__()\n",
        "    self.net = tf.keras.Sequential(\n",
        "      [\n",
        "        layers.LayerNormalization(epsilon = 1e-6),\n",
        "        layers.Dense(embedding_dim * mult, use_bias = use_bias),\n",
        "        SwiGLULayer(dim = 2),\n",
        "        layers.Dropout(rate),\n",
        "        layers.Dense(embedding_dim, use_bias = use_bias),\n",
        "        layers.Dropout(rate),\n",
        "      ]\n",
        "    )\n",
        "\n",
        "  def call(self, inputs):\n",
        "    return self.net(inputs)"
      ],
      "metadata": {
        "id": "eVdwwIxbw4UP"
      },
      "execution_count": 17,
      "outputs": []
    },
    {
      "cell_type": "code",
      "source": [
        "ffn = FeedForwardSwiGLU(embedding_dim = 5, mult = 4)\n",
        "x = tf.random.uniform([3, 10, 5])\n",
        "print(ffn(x).shape)"
      ],
      "metadata": {
        "id": "bdHfQ6HHw4UP",
        "colab": {
          "base_uri": "https://localhost:8080/"
        },
        "outputId": "8bd98526-f169-4a52-a611-ac95c23d11f6"
      },
      "execution_count": 18,
      "outputs": [
        {
          "output_type": "stream",
          "name": "stdout",
          "text": [
            "(3, 10, 5)\n"
          ]
        },
        {
          "output_type": "stream",
          "name": "stderr",
          "text": [
            "2022-08-07 14:34:37.384740: I tensorflow/stream_executor/cuda/cuda_blas.cc:1760] TensorFloat-32 will be used for the matrix multiplication. This will only be logged once.\n"
          ]
        }
      ]
    },
    {
      "cell_type": "markdown",
      "source": [
        "### CustomSchedule"
      ],
      "metadata": {
        "id": "rke3X-N6-n9S"
      }
    },
    {
      "cell_type": "code",
      "source": [
        "class CustomSchedule(tf.keras.optimizers.schedules.LearningRateSchedule):\n",
        "  def __init__(self, d_model, warmup_steps=4000):\n",
        "    super(CustomSchedule, self).__init__()\n",
        "\n",
        "    self.d_model = d_model\n",
        "    self.d_model = tf.cast(self.d_model, tf.float32)\n",
        "\n",
        "    self.warmup_steps = warmup_steps\n",
        "\n",
        "  def __call__(self, step):\n",
        "    arg1 = tf.math.rsqrt(step)\n",
        "    arg2 = step * (self.warmup_steps ** -1.5)\n",
        "\n",
        "    return tf.math.rsqrt(self.d_model) * tf.math.minimum(arg1, arg2)"
      ],
      "metadata": {
        "id": "hNYjuoTd-jsC"
      },
      "execution_count": 19,
      "outputs": []
    },
    {
      "cell_type": "code",
      "source": [
        "d_model = 128\n",
        "learning_rate = CustomSchedule(d_model)\n",
        "temp_learning_rate_schedule = CustomSchedule(d_model, warmup_steps=4000)"
      ],
      "metadata": {
        "id": "eCHvjE5N-s3-"
      },
      "execution_count": 20,
      "outputs": []
    },
    {
      "cell_type": "code",
      "source": [
        "plt.plot(temp_learning_rate_schedule(tf.range(40000, dtype=tf.float32)))\n",
        "plt.ylabel('Learning Rate')\n",
        "plt.xlabel('Train Step')"
      ],
      "metadata": {
        "id": "HYFkjhvb-2OG",
        "colab": {
          "base_uri": "https://localhost:8080/",
          "height": 297
        },
        "outputId": "259f001e-3a12-416a-dfc1-f1ad4254cc98"
      },
      "execution_count": 21,
      "outputs": [
        {
          "output_type": "execute_result",
          "data": {
            "text/plain": [
              "Text(0.5, 0, 'Train Step')"
            ]
          },
          "metadata": {},
          "execution_count": 21
        },
        {
          "output_type": "display_data",
          "data": {
            "text/plain": [
              "<Figure size 432x288 with 1 Axes>"
            ],
            "image/png": "[encoded data removed]"
          },
          "metadata": {
            "needs_background": "light"
          }
        }
      ]
    },
    {
      "cell_type": "markdown",
      "source": [
        "### ConformerSASwiGLULayer"
      ],
      "metadata": {
        "id": "wGqeHeQRxxLY"
      }
    },
    {
      "cell_type": "code",
      "execution_count": 22,
      "metadata": {
        "id": "saxlznhLxxLY"
      },
      "outputs": [],
      "source": [
        "class ConformerSASwiGLULayer(layers.Layer):\n",
        "  def __init__(self, embedding_dim,  ff_mult = 4, kernel_size = 15, rate = 0.2, num_heads = 4, use_bias = False):\n",
        "    super(ConformerSASwiGLULayer, self).__init__()\n",
        "    self.ff1 = FeedForwardSwiGLU(embedding_dim = embedding_dim, mult = ff_mult, rate = rate, use_bias = use_bias)\n",
        "    self.conv = tf.keras.Sequential([\n",
        "      layers.LayerNormalization(epsilon = 1e-6),            \n",
        "      layers.SeparableConv1D(filters = embedding_dim, kernel_size = kernel_size, padding = 'same', activation = 'relu'),\n",
        "      layers.Dropout(rate),\n",
        "    ])\n",
        "    self.layernorm = layers.LayerNormalization(epsilon = 1e-6)        \n",
        "    self.attn = layers.MultiHeadAttention(num_heads = num_heads, key_dim = embedding_dim)\n",
        "    self.ff2 = FeedForwardSwiGLU(embedding_dim = embedding_dim, mult = ff_mult, rate = rate, use_bias = use_bias)\n",
        "\n",
        "  def call(self, x):\n",
        "    x = tf.cast(x, dtype = tf.dtypes.float32)\n",
        "    x = x + 0.5 * self.ff1(x)\n",
        "    x = x + self.conv(x)\n",
        "    x = self.layernorm(x)\n",
        "    x = x + self.attn(x, x)\n",
        "    x = x + 0.5 * self.ff2(x)\n",
        "    return x"
      ]
    },
    {
      "cell_type": "code",
      "source": [
        "layer = ConformerSASwiGLULayer(embedding_dim = 14)\n",
        "x = tf.random.uniform([3, 10, 14])\n",
        "print(layer(x).shape)"
      ],
      "metadata": {
        "id": "I5mMf8GPxxLZ",
        "colab": {
          "base_uri": "https://localhost:8080/"
        },
        "outputId": "52b3a289-ae04-4e8b-a6ee-e694465bab0b"
      },
      "execution_count": 23,
      "outputs": [
        {
          "output_type": "stream",
          "name": "stdout",
          "text": [
            "(3, 10, 14)\n"
          ]
        }
      ]
    },
    {
      "cell_type": "markdown",
      "source": [
        "### SequenceMaskLayer"
      ],
      "metadata": {
        "id": "CKbk2vhOTgA5"
      }
    },
    {
      "cell_type": "code",
      "source": [
        "class SequenceMaskLayer(layers.Layer):\n",
        "  def __init__(self, n_positions, ratio = 0.2):\n",
        "    super(SequenceMaskLayer, self).__init__()\n",
        "    self.ratio = ratio\n",
        "    self.n_positions = n_positions\n",
        "    self.N = 4\n",
        "    self.M = 5\n",
        "\n",
        "  def call(self, x):\n",
        "\n",
        "    if self.ratio > 0:\n",
        "      m = tf.random.uniform(tf.shape(x)) < self.ratio\n",
        "      m = tf.cast(m, dtype = tf.uint8)\n",
        "      is_valid = tf.cast(tf.math.not_equal(x, self.N), tf.uint8)\n",
        "      m = m * is_valid\n",
        "      x0 = tf.ones(tf.shape(x), dtype = tf.uint8) * self.M\n",
        "\n",
        "      x = m * x0 + (1 - m) * x\n",
        "      m = tf.cast(m, dtype = tf.float32)\n",
        "    else:\n",
        "      m = tf.zeros(tf.shape(x))\n",
        "    \n",
        "    return x, m"
      ],
      "metadata": {
        "id": "UPGXsnfmTgA6"
      },
      "execution_count": 24,
      "outputs": []
    },
    {
      "cell_type": "code",
      "source": [
        "layer = SequenceMaskLayer(n_positions = 20, ratio = 0.2)\n",
        "x = tf.random.uniform([3, 20], maxval = 5)\n",
        "x = tf.cast(x, tf.uint8)\n",
        "print(x)\n",
        "x, m = layer(x)\n",
        "print(x)\n",
        "print(m)"
      ],
      "metadata": {
        "id": "TOj2tUQmTgA6",
        "colab": {
          "base_uri": "https://localhost:8080/"
        },
        "outputId": "ba16bad2-43d7-4907-a1aa-bcc0bc174687"
      },
      "execution_count": 25,
      "outputs": [
        {
          "output_type": "stream",
          "name": "stdout",
          "text": [
            "tf.Tensor(\n",
            "[[4 2 4 2 2 3 2 0 1 4 3 0 0 2 1 3 0 0 4 0]\n",
            " [2 3 2 0 0 1 2 2 1 1 0 0 3 2 4 0 1 3 3 1]\n",
            " [1 1 0 4 3 4 0 4 2 2 2 0 0 0 4 1 4 4 3 0]], shape=(3, 20), dtype=uint8)\n",
            "tf.Tensor(\n",
            "[[4 2 4 2 2 3 2 5 1 4 3 0 0 5 1 3 0 0 4 0]\n",
            " [2 5 5 0 0 1 5 2 1 1 0 0 3 5 4 0 5 3 3 1]\n",
            " [1 5 0 4 3 4 5 4 2 2 2 5 0 0 4 5 4 4 5 0]], shape=(3, 20), dtype=uint8)\n",
            "tf.Tensor(\n",
            "[[0. 0. 0. 0. 0. 0. 0. 1. 0. 0. 0. 0. 0. 1. 0. 0. 0. 0. 0. 0.]\n",
            " [0. 1. 1. 0. 0. 0. 1. 0. 0. 0. 0. 0. 0. 1. 0. 0. 1. 0. 0. 0.]\n",
            " [0. 1. 0. 0. 0. 0. 1. 0. 0. 0. 0. 1. 0. 0. 0. 1. 0. 0. 1. 0.]], shape=(3, 20), dtype=float32)\n"
          ]
        }
      ]
    },
    {
      "cell_type": "markdown",
      "metadata": {
        "id": "jGFLv3peCCKS"
      },
      "source": [
        "## Read data"
      ]
    },
    {
      "cell_type": "code",
      "execution_count": 26,
      "metadata": {
        "id": "om_YoxPICCKS"
      },
      "outputs": [],
      "source": [
        "input_dim = int(6) # A,C,G,T,N,M\n",
        "#input_dim = int(5) # A,C,G,T,N\n",
        "n_positions = ARGS['max_width'] * 2"
      ]
    },
    {
      "cell_type": "markdown",
      "metadata": {
        "id": "I9CPXMei2W9E"
      },
      "source": [
        "The tfdataset was prepraed by this notebook: https://github.com/ikwak2/dream_PGE/blob/main/notebooks/prepare_tfdatasets.ipynb"
      ]
    },
    {
      "cell_type": "code",
      "execution_count": 27,
      "metadata": {
        "id": "wOqk480wuFye"
      },
      "outputs": [],
      "source": [
        "ds = tf.data.experimental.load(ARGS['local_data_dir'])"
      ]
    },
    {
      "cell_type": "code",
      "source": [
        "!ls"
      ],
      "metadata": {
        "id": "lv4VYzc9Ytie",
        "colab": {
          "base_uri": "https://localhost:8080/"
        },
        "outputId": "e977b87c-f528-4504-86c7-f0e5688194f5"
      },
      "execution_count": 28,
      "outputs": [
        {
          "output_type": "stream",
          "name": "stdout",
          "text": [
            "LICENSE        pred.json\t\t  s3.msi.umn.edu\r\n",
            "notebooks      raw.githubusercontent.com  test_sequences.txt.gz\r\n",
            "notebooks_msi  README.md\t\t  train_sequences.txt.gz\r\n"
          ]
        }
      ]
    },
    {
      "cell_type": "code",
      "execution_count": 29,
      "metadata": {
        "id": "VbU-MCtK1B7k",
        "colab": {
          "base_uri": "https://localhost:8080/"
        },
        "outputId": "c837fa26-cc67-4806-b4de-9c277eb899df"
      },
      "outputs": [
        {
          "output_type": "stream",
          "name": "stdout",
          "text": [
            "downsampled dataset size: 6737568\n",
            "training dataset size: 6400689\n"
          ]
        }
      ],
      "source": [
        "n = int(ds.cardinality())\n",
        "n_train = int(n * ARGS['train_split'])\n",
        "print('downsampled dataset size: %d' % (n))\n",
        "print('training dataset size: %d' % (n_train))"
      ]
    },
    {
      "cell_type": "code",
      "execution_count": 30,
      "metadata": {
        "id": "KtNM9BPoCCKT"
      },
      "outputs": [],
      "source": [
        "ds = ds.shuffle(ARGS['shuffle_size'], seed = 1)"
      ]
    },
    {
      "cell_type": "code",
      "execution_count": 31,
      "metadata": {
        "id": "zQBqfMrpCCKT",
        "colab": {
          "base_uri": "https://localhost:8080/"
        },
        "outputId": "4d19b13e-13fd-458a-ced7-5c697e89160d"
      },
      "outputs": [
        {
          "output_type": "stream",
          "name": "stdout",
          "text": [
            "# training samples: 6400689\n",
            "# test samples: 336879\n"
          ]
        }
      ],
      "source": [
        "train_ds = ds.take(n_train)\n",
        "test_ds = ds.skip(n_train)\n",
        "print('# training samples: %d' % (train_ds.cardinality()))\n",
        "print('# test samples: %d' % (test_ds.cardinality()))"
      ]
    },
    {
      "cell_type": "code",
      "source": [
        "train_ds = train_ds.batch(ARGS['batch_size'])\n",
        "test_ds = test_ds.batch(ARGS['batch_size'])"
      ],
      "metadata": {
        "id": "Cy45m_ZgwmBt"
      },
      "execution_count": 32,
      "outputs": []
    },
    {
      "cell_type": "code",
      "source": [
        "train_ds.element_spec"
      ],
      "metadata": {
        "id": "MNyS46F8TFRB",
        "colab": {
          "base_uri": "https://localhost:8080/"
        },
        "outputId": "e113ceb4-823c-408e-a65f-66fbde53ab70"
      },
      "execution_count": 33,
      "outputs": [
        {
          "output_type": "execute_result",
          "data": {
            "text/plain": [
              "{'base': TensorSpec(shape=(None, 200), dtype=tf.uint8, name=None),\n",
              " 'seq': TensorSpec(shape=(None, 200), dtype=tf.uint8, name=None),\n",
              " 'expression': TensorSpec(shape=(None,), dtype=tf.float32, name=None)}"
            ]
          },
          "metadata": {},
          "execution_count": 33
        }
      ]
    },
    {
      "cell_type": "markdown",
      "source": [
        "## The regressor"
      ],
      "metadata": {
        "id": "3KwOLqNOwU3U"
      }
    },
    {
      "cell_type": "code",
      "source": [
        "class Regressor(keras.Model):\n",
        "  def __init__(self, n_positions, kmer = 3, embedding_dim = 32, input_dim = 5, n_blocks = 4, kernel_size =15, rate = 0.2, strides = 2, ratio = 0.2, num_heads = 4, ff_mult = 4, use_bias = False, num_projectors = 8):\n",
        "    super(Regressor, self).__init__()\n",
        "    self.n_positions = int(n_positions / strides)\n",
        "    self.input_dim = input_dim\n",
        "    self.kmer = kmer\n",
        "    self.strides = strides\n",
        "    self.num_projectors = num_projectors\n",
        "    self.n_blocks = n_blocks\n",
        "    self.masking = SequenceMaskLayer(n_positions = n_positions, ratio = ratio)\n",
        "    self.pos_embedding = layers.Embedding(self.n_positions, embedding_dim)\n",
        "    self.strand_embedding = layers.Embedding(2, embedding_dim) # plus/minus strands\n",
        "    self.expression_embedding = layers.Dense(embedding_dim)\n",
        "    self.kmer_dense = layers.Dense(embedding_dim)\n",
        "    self.blocks = keras.Sequential([ConformerSASwiGLULayer(embedding_dim = embedding_dim, kernel_size = kernel_size, rate = rate, num_heads = num_heads) for _ in range(n_blocks)])\n",
        "    self.dropout = layers.Dropout(rate)\n",
        "    self.expression_dense = layers.Dense(1)\n",
        "    self.nucleotide_dense = layers.Dense(input_dim)\n",
        "\n",
        "  def call(self, x):\n",
        "\n",
        "    batch_size = tf.shape(x['seq'])[0]\n",
        "\n",
        "    x = tf.one_hot(x['seq'], self.input_dim)\n",
        "\n",
        "    x = tf.expand_dims(x, 2)\n",
        "    x = tf.image.extract_patches(x, sizes = [1, self.kmer, 1, 1], strides = [1, self.strides, 1, 1], rates = [1, 1, 1, 1], padding = 'SAME')\n",
        "    x = tf.squeeze(x, 2)\n",
        "\n",
        "    x = self.kmer_dense(x)\n",
        "\n",
        "    pos = tf.range(start=0, limit=self.n_positions, delta=1)\n",
        "    pos = tf.expand_dims(pos, 0)\n",
        "    pos = self.pos_embedding(pos)\n",
        "\n",
        "    strand = tf.repeat([0,1], repeats = int(self.n_positions / 2))\n",
        "    strand = tf.expand_dims(strand, 0)\n",
        "    strand = self.strand_embedding(strand)\n",
        "\n",
        "    x = x + pos + strand\n",
        "\n",
        "    expression = tf.zeros((batch_size, self.num_projectors, 1), dtype = tf.float32)\n",
        "    expression = self.expression_embedding(expression)\n",
        "\n",
        "    x = tf.concat([expression, x], axis = 1)\n",
        "    x = self.blocks(x)\n",
        "\n",
        "    expression = x[:,:self.num_projectors,:]\n",
        "    x = x[:, -self.n_positions:, :]\n",
        "\n",
        "    expression = self.dropout(expression)\n",
        "    expression = self.expression_dense(expression)\n",
        "    expression = tf.reduce_mean(expression, 1)\n",
        "\n",
        "    x = self.nucleotide_dense(x)\n",
        "\n",
        "    return expression, x\n",
        "\n",
        "  def train_step(self, batch):\n",
        "\n",
        "    seq, mask = self.masking(batch['seq'])\n",
        "    \n",
        "    with tf.GradientTape() as tape:\n",
        "      expression, seq_pred = self({'seq' : seq})\n",
        "      loss_expression = mse_loss(batch['expression'], expression)\n",
        "      loss_expression = tf.reduce_mean(loss_expression)\n",
        "      loss_seq = mask * scc_loss(batch['seq'], seq_pred)\n",
        "      loss_seq = tf.reduce_sum(loss_seq) / (tf.reduce_sum(mask) + 1)\n",
        "      loss = loss_expression + loss_seq\n",
        "\n",
        "    gradients = tape.gradient(loss, self.trainable_variables)\n",
        "    self.optimizer.apply_gradients(zip(gradients, self.trainable_variables))\n",
        "\n",
        "    self.compiled_metrics.update_state(batch['expression'], expression)\n",
        "    res = {'loss' : loss, 'loss_seq' : loss_seq, 'loss_expression' : loss_expression}\n",
        "    res.update({m.name: m.result() for m in self.metrics})\n",
        "    return res\n",
        "\n",
        "  def test_step(self, batch):\n",
        "    expression, _ = self(batch)\n",
        "    self.compiled_metrics.update_state(batch['expression'], expression)\n",
        "    return {m.name: m.result() for m in self.metrics}"
      ],
      "metadata": {
        "id": "DjpQ5MFlpZ5v"
      },
      "execution_count": 34,
      "outputs": []
    },
    {
      "cell_type": "code",
      "source": [
        "model = Regressor(embedding_dim = 12, n_positions = 120, kernel_size = 3, strides = 1, num_projectors = ARGS['num_projectors'])\n",
        "x = tf.random.uniform((3, 120), maxval = 5)\n",
        "x = tf.cast(x, dtype = tf.uint8)\n",
        "expression_pred, x = model({'seq' : x})\n",
        "print(expression_pred.shape)\n",
        "print(x.shape)"
      ],
      "metadata": {
        "id": "JHA8irohpZ5w",
        "colab": {
          "base_uri": "https://localhost:8080/"
        },
        "outputId": "bbeddcff-35c4-42db-90a8-c06a72bf2e95"
      },
      "execution_count": 35,
      "outputs": [
        {
          "output_type": "stream",
          "name": "stdout",
          "text": [
            "(3, 1)\n",
            "(3, 120, 5)\n"
          ]
        }
      ]
    },
    {
      "cell_type": "code",
      "source": [
        "strategy = tf.distribute.MirroredStrategy()\n",
        "#strategy = tf.distribute.experimental.CentralStorageStrategy()\n",
        "#strategy = tf.distribute.experimental.MultiWorkerMirroredStrategy()"
      ],
      "metadata": {
        "id": "t_QJg04-pZ5w",
        "colab": {
          "base_uri": "https://localhost:8080/"
        },
        "outputId": "9ffbd269-2b5c-4653-d155-1fb6c49211b2"
      },
      "execution_count": 36,
      "outputs": [
        {
          "output_type": "stream",
          "name": "stdout",
          "text": [
            "INFO:tensorflow:Using MirroredStrategy with devices ('/job:localhost/replica:0/task:0/device:GPU:0', '/job:localhost/replica:0/task:0/device:GPU:1', '/job:localhost/replica:0/task:0/device:GPU:2', '/job:localhost/replica:0/task:0/device:GPU:3')\n"
          ]
        }
      ]
    },
    {
      "cell_type": "code",
      "source": [
        "with strategy.scope():\n",
        "  model = Regressor(\n",
        "    n_positions = n_positions,\n",
        "    embedding_dim = ARGS['embedding_dim'], \n",
        "    n_blocks = ARGS['n_blocks_regressor'],\n",
        "    kmer = ARGS['kmer'],\n",
        "    input_dim = input_dim,\n",
        "    strides = ARGS['strides'],\n",
        "    ratio = ARGS['mask_ratio'],\n",
        "    num_heads = ARGS['num_heads'],\n",
        "    rate = ARGS['dropout_rate'],\n",
        "    num_projectors = ARGS['num_projectors'],\n",
        "  )"
      ],
      "metadata": {
        "id": "1s-DI91ppZ5w"
      },
      "execution_count": 37,
      "outputs": []
    },
    {
      "cell_type": "code",
      "source": [
        "learning_rate = CustomSchedule(ARGS['embedding_dim'], warmup_steps = ARGS['warmup_steps'])\n",
        "optimizer = tf.keras.optimizers.Adam(learning_rate, beta_1 = 0.9, beta_2 = 0.98, epsilon=1e-9, clipnorm=1., clipvalue=0.5)"
      ],
      "metadata": {
        "id": "b9CPAqzqbS4C"
      },
      "execution_count": 38,
      "outputs": []
    },
    {
      "cell_type": "code",
      "source": [
        "model.compile(\n",
        "  optimizer = optimizer,\n",
        "  metrics = [pearson_r],\n",
        ")"
      ],
      "metadata": {
        "id": "7KW-9ktVbiak",
        "colab": {
          "base_uri": "https://localhost:8080/"
        },
        "outputId": "76aff734-eac9-4790-db5f-e64939bdb8a6"
      },
      "execution_count": 39,
      "outputs": [
        {
          "output_type": "stream",
          "name": "stdout",
          "text": [
            "INFO:tensorflow:Reduce to /job:localhost/replica:0/task:0/device:CPU:0 then broadcast to ('/job:localhost/replica:0/task:0/device:CPU:0',).\n",
            "INFO:tensorflow:Reduce to /job:localhost/replica:0/task:0/device:CPU:0 then broadcast to ('/job:localhost/replica:0/task:0/device:CPU:0',).\n",
            "INFO:tensorflow:Reduce to /job:localhost/replica:0/task:0/device:CPU:0 then broadcast to ('/job:localhost/replica:0/task:0/device:CPU:0',).\n",
            "INFO:tensorflow:Reduce to /job:localhost/replica:0/task:0/device:CPU:0 then broadcast to ('/job:localhost/replica:0/task:0/device:CPU:0',).\n"
          ]
        }
      ]
    },
    {
      "cell_type": "code",
      "source": [
        "if ARGS['train_split'] < 1:\n",
        "  monitor = 'val_pearson_r'\n",
        "else:\n",
        "  monitor = 'pearson_r'"
      ],
      "metadata": {
        "id": "mokLgrTWV8i8"
      },
      "execution_count": 40,
      "outputs": []
    },
    {
      "cell_type": "code",
      "source": [
        "model_checkpoint_callback = tf.keras.callbacks.ModelCheckpoint(\n",
        "  filepath = ARGS['local_checkpoint_dir'],\n",
        "  save_weights_only = True,\n",
        "  monitor = monitor,\n",
        "  mode='max',\n",
        "  save_best_only = True,\n",
        "  save_freq = 'epoch',\n",
        ")"
      ],
      "metadata": {
        "id": "vBB1dWoGL-CR"
      },
      "execution_count": 41,
      "outputs": []
    },
    {
      "cell_type": "markdown",
      "source": [
        "## Model fitting"
      ],
      "metadata": {
        "id": "JOtXgSxYvy0F"
      }
    },
    {
      "cell_type": "markdown",
      "source": [
        "### Epoch 1 \n",
        "\n",
        "initial epoch: 1"
      ],
      "metadata": {
        "id": "zGLEOzKhpPE2"
      }
    },
    {
      "cell_type": "code",
      "source": [
        "if ARGS['train_split'] < 1:\n",
        "  model.fit(\n",
        "    train_ds,\n",
        "    validation_data = test_ds,\n",
        "    epochs = ARGS['epochs'],\n",
        "    callbacks = [model_checkpoint_callback],\n",
        "    initial_epoch = 1 - 1, \n",
        "  )\n",
        "else:\n",
        "  model.fit(\n",
        "    train_ds,\n",
        "    epochs = ARGS['epochs'],\n",
        "    callbacks = [model_checkpoint_callback],\n",
        "    initial_epoch = 1 - 1, \n",
        "  )\n"
      ],
      "metadata": {
        "id": "spFmkqwZDwDb",
        "colab": {
          "base_uri": "https://localhost:8080/"
        },
        "outputId": "9d0ec544-2599-4aaa-9b04-42262cc64105"
      },
      "execution_count": null,
      "outputs": [
        {
          "output_type": "stream",
          "name": "stderr",
          "text": [
            "2022-07-27 16:09:17.679247: W tensorflow/core/grappler/optimizers/data/auto_shard.cc:695] AUTO sharding policy will apply DATA sharding policy as it failed to apply FILE sharding policy because of the following reason: Did not find a shardable source, walked to a node which is not a dataset: name: \"LoadDataset/_1\"\n",
            "op: \"LoadDataset\"\n",
            "input: \"Const/_0\"\n",
            "attr {\n",
            "  key: \"Treader_func_args\"\n",
            "  value {\n",
            "    list {\n",
            "    }\n",
            "  }\n",
            "}\n",
            "attr {\n",
            "  key: \"compression\"\n",
            "  value {\n",
            "    s: \"\"\n",
            "  }\n",
            "}\n",
            "attr {\n",
            "  key: \"output_shapes\"\n",
            "  value {\n",
            "    list {\n",
            "      shape {\n",
            "        dim {\n",
            "          size: 200\n",
            "        }\n",
            "      }\n",
            "      shape {\n",
            "      }\n",
            "      shape {\n",
            "        dim {\n",
            "          size: 200\n",
            "        }\n",
            "      }\n",
            "    }\n",
            "  }\n",
            "}\n",
            "attr {\n",
            "  key: \"output_types\"\n",
            "  value {\n",
            "    list {\n",
            "      type: DT_UINT8\n",
            "      type: DT_FLOAT\n",
            "      type: DT_UINT8\n",
            "    }\n",
            "  }\n",
            "}\n",
            "attr {\n",
            "  key: \"reader_func\"\n",
            "  value {\n",
            "    func {\n",
            "      name: \"__inference_load_lambda_4809\"\n",
            "    }\n",
            "  }\n",
            "}\n",
            ". Consider either turning off auto-sharding or switching the auto_shard_policy to DATA to shard this dataset. You can do this by creating a new `tf.data.Options()` object then setting `options.experimental_distribute.auto_shard_policy = AutoShardPolicy.DATA` before applying the options object to the dataset via `dataset.with_options(options)`.\n",
            "2022-07-27 16:09:17.768048: I tensorflow/compiler/mlir/mlir_graph_optimization_pass.cc:185] None of the MLIR Optimization Passes are enabled (registered 2)\n"
          ]
        },
        {
          "output_type": "stream",
          "name": "stdout",
          "text": [
            "Epoch 1/20\n",
            "INFO:tensorflow:batch_all_reduce: 100 all-reduces with algorithm = nccl, num_packs = 1\n",
            "WARNING:tensorflow:Efficient allreduce is not supported for 2 IndexedSlices\n",
            "INFO:tensorflow:Reduce to /job:localhost/replica:0/task:0/device:GPU:0 then broadcast to ('/job:localhost/replica:0/task:0/device:GPU:0', '/job:localhost/replica:0/task:0/device:GPU:1', '/job:localhost/replica:0/task:0/device:GPU:2', '/job:localhost/replica:0/task:0/device:GPU:3').\n",
            "INFO:tensorflow:Reduce to /job:localhost/replica:0/task:0/device:GPU:0 then broadcast to ('/job:localhost/replica:0/task:0/device:GPU:0', '/job:localhost/replica:0/task:0/device:GPU:1', '/job:localhost/replica:0/task:0/device:GPU:2', '/job:localhost/replica:0/task:0/device:GPU:3').\n",
            "INFO:tensorflow:Reduce to /job:localhost/replica:0/task:0/device:CPU:0 then broadcast to ('/job:localhost/replica:0/task:0/device:CPU:0',).\n",
            "INFO:tensorflow:Reduce to /job:localhost/replica:0/task:0/device:CPU:0 then broadcast to ('/job:localhost/replica:0/task:0/device:CPU:0',).\n",
            "INFO:tensorflow:batch_all_reduce: 100 all-reduces with algorithm = nccl, num_packs = 1\n",
            "WARNING:tensorflow:Efficient allreduce is not supported for 2 IndexedSlices\n",
            "INFO:tensorflow:Reduce to /job:localhost/replica:0/task:0/device:GPU:0 then broadcast to ('/job:localhost/replica:0/task:0/device:GPU:0', '/job:localhost/replica:0/task:0/device:GPU:1', '/job:localhost/replica:0/task:0/device:GPU:2', '/job:localhost/replica:0/task:0/device:GPU:3').\n",
            "INFO:tensorflow:Reduce to /job:localhost/replica:0/task:0/device:GPU:0 then broadcast to ('/job:localhost/replica:0/task:0/device:GPU:0', '/job:localhost/replica:0/task:0/device:GPU:1', '/job:localhost/replica:0/task:0/device:GPU:2', '/job:localhost/replica:0/task:0/device:GPU:3').\n",
            "INFO:tensorflow:Reduce to /job:localhost/replica:0/task:0/device:CPU:0 then broadcast to ('/job:localhost/replica:0/task:0/device:CPU:0',).\n",
            "INFO:tensorflow:Reduce to /job:localhost/replica:0/task:0/device:CPU:0 then broadcast to ('/job:localhost/replica:0/task:0/device:CPU:0',).\n"
          ]
        },
        {
          "output_type": "stream",
          "name": "stderr",
          "text": [
            "2022-07-27 16:09:51.268588: I tensorflow/stream_executor/cuda/cuda_dnn.cc:369] Loaded cuDNN version 8200\n",
            "2022-07-27 16:09:53.166674: I tensorflow/stream_executor/cuda/cuda_dnn.cc:369] Loaded cuDNN version 8200\n",
            "2022-07-27 16:09:54.403054: I tensorflow/stream_executor/cuda/cuda_dnn.cc:369] Loaded cuDNN version 8200\n",
            "2022-07-27 16:09:55.267105: W tensorflow/stream_executor/gpu/asm_compiler.cc:113] *** WARNING *** You are using ptxas 9.0.176, which is older than 9.2.88. ptxas 9.x before 9.2.88 is known to miscompile XLA code, leading to incorrect results or invalid-address errors.\n",
            "\n",
            "You do not need to update to CUDA 9.2.88; cherry-picking the ptxas binary is sufficient.\n",
            "2022-07-27 16:09:55.378306: W tensorflow/stream_executor/gpu/asm_compiler.cc:231] Falling back to the CUDA driver for PTX compilation; ptxas does not support CC 8.0\n",
            "2022-07-27 16:09:55.378353: W tensorflow/stream_executor/gpu/asm_compiler.cc:234] Used ptxas at ptxas\n",
            "2022-07-27 16:09:55.381254: W tensorflow/stream_executor/gpu/redzone_allocator.cc:314] Unimplemented: ptxas ptxas too old. Falling back to the driver to compile.\n",
            "Relying on driver to perform ptx compilation. \n",
            "Modify $PATH to customize ptxas location.\n",
            "This message will be only logged once.\n",
            "2022-07-27 16:09:55.398162: I tensorflow/stream_executor/cuda/cuda_dnn.cc:369] Loaded cuDNN version 8200\n",
            "2022-07-27 16:09:55.558522: W tensorflow/stream_executor/gpu/asm_compiler.cc:113] *** WARNING *** You are using ptxas 9.0.176, which is older than 9.2.88. ptxas 9.x before 9.2.88 is known to miscompile XLA code, leading to incorrect results or invalid-address errors.\n",
            "\n",
            "You do not need to update to CUDA 9.2.88; cherry-picking the ptxas binary is sufficient.\n",
            "2022-07-27 16:09:55.952617: W tensorflow/stream_executor/gpu/asm_compiler.cc:113] *** WARNING *** You are using ptxas 9.0.176, which is older than 9.2.88. ptxas 9.x before 9.2.88 is known to miscompile XLA code, leading to incorrect results or invalid-address errors.\n",
            "\n",
            "You do not need to update to CUDA 9.2.88; cherry-picking the ptxas binary is sufficient.\n",
            "2022-07-27 16:09:56.826903: W tensorflow/stream_executor/gpu/asm_compiler.cc:113] *** WARNING *** You are using ptxas 9.0.176, which is older than 9.2.88. ptxas 9.x before 9.2.88 is known to miscompile XLA code, leading to incorrect results or invalid-address errors.\n",
            "\n",
            "You do not need to update to CUDA 9.2.88; cherry-picking the ptxas binary is sufficient.\n"
          ]
        },
        {
          "output_type": "stream",
          "name": "stdout",
          "text": [
            "12502/12502 [==============================] - ETA: 0s - loss: 0.8371 - loss_seq: 0.2761 - loss_expression: 0.5610 - pearson_r: 0.6785"
          ]
        },
        {
          "output_type": "stream",
          "name": "stderr",
          "text": [
            "2022-07-27 17:26:07.810499: W tensorflow/core/grappler/optimizers/data/auto_shard.cc:695] AUTO sharding policy will apply DATA sharding policy as it failed to apply FILE sharding policy because of the following reason: Did not find a shardable source, walked to a node which is not a dataset: name: \"LoadDataset/_1\"\n",
            "op: \"LoadDataset\"\n",
            "input: \"Const/_0\"\n",
            "attr {\n",
            "  key: \"Treader_func_args\"\n",
            "  value {\n",
            "    list {\n",
            "    }\n",
            "  }\n",
            "}\n",
            "attr {\n",
            "  key: \"compression\"\n",
            "  value {\n",
            "    s: \"\"\n",
            "  }\n",
            "}\n",
            "attr {\n",
            "  key: \"output_shapes\"\n",
            "  value {\n",
            "    list {\n",
            "      shape {\n",
            "        dim {\n",
            "          size: 200\n",
            "        }\n",
            "      }\n",
            "      shape {\n",
            "      }\n",
            "      shape {\n",
            "        dim {\n",
            "          size: 200\n",
            "        }\n",
            "      }\n",
            "    }\n",
            "  }\n",
            "}\n",
            "attr {\n",
            "  key: \"output_types\"\n",
            "  value {\n",
            "    list {\n",
            "      type: DT_UINT8\n",
            "      type: DT_FLOAT\n",
            "      type: DT_UINT8\n",
            "    }\n",
            "  }\n",
            "}\n",
            "attr {\n",
            "  key: \"reader_func\"\n",
            "  value {\n",
            "    func {\n",
            "      name: \"__inference_load_lambda_4809\"\n",
            "    }\n",
            "  }\n",
            "}\n",
            ". Consider either turning off auto-sharding or switching the auto_shard_policy to DATA to shard this dataset. You can do this by creating a new `tf.data.Options()` object then setting `options.experimental_distribute.auto_shard_policy = AutoShardPolicy.DATA` before applying the options object to the dataset via `dataset.with_options(options)`.\n"
          ]
        },
        {
          "output_type": "stream",
          "name": "stdout",
          "text": [
            "INFO:tensorflow:Reduce to /job:localhost/replica:0/task:0/device:CPU:0 then broadcast to ('/job:localhost/replica:0/task:0/device:CPU:0',).\n",
            "INFO:tensorflow:Reduce to /job:localhost/replica:0/task:0/device:CPU:0 then broadcast to ('/job:localhost/replica:0/task:0/device:CPU:0',).\n",
            "12502/12502 [==============================] - 4785s 379ms/step - loss: 0.8371 - loss_seq: 0.2761 - loss_expression: 0.5610 - pearson_r: 0.6785 - val_pearson_r: 0.7267\n",
            "Epoch 2/20\n",
            "12502/12502 [==============================] - 4737s 379ms/step - loss: 0.5439 - loss_seq: 0.0687 - loss_expression: 0.4752 - pearson_r: 0.7279 - val_pearson_r: 0.7411\n",
            "Epoch 3/20\n",
            "12502/12502 [==============================] - 4748s 380ms/step - loss: 0.5259 - loss_seq: 0.0682 - loss_expression: 0.4576 - pearson_r: 0.7388 - val_pearson_r: 0.7463\n",
            "Epoch 4/20\n",
            "12502/12502 [==============================] - 4738s 379ms/step - loss: 0.5168 - loss_seq: 0.0686 - loss_expression: 0.4483 - pearson_r: 0.7449 - val_pearson_r: 0.7493\n",
            "Epoch 5/20\n",
            "12502/12502 [==============================] - 4735s 379ms/step - loss: 0.5092 - loss_seq: 0.0684 - loss_expression: 0.4408 - pearson_r: 0.7493 - val_pearson_r: 0.7500\n",
            "Epoch 6/20\n",
            "12502/12502 [==============================] - 4739s 379ms/step - loss: 0.5028 - loss_seq: 0.0682 - loss_expression: 0.4346 - pearson_r: 0.7530 - val_pearson_r: 0.7501\n",
            "Epoch 7/20\n",
            "12502/12502 [==============================] - 4751s 380ms/step - loss: 0.4971 - loss_seq: 0.0683 - loss_expression: 0.4288 - pearson_r: 0.7570 - val_pearson_r: 0.7491\n",
            "Epoch 8/20\n",
            "12502/12502 [==============================] - 4743s 379ms/step - loss: 0.4900 - loss_seq: 0.0682 - loss_expression: 0.4218 - pearson_r: 0.7611 - val_pearson_r: 0.7480\n",
            "Epoch 9/20\n",
            "12502/12502 [==============================] - 4750s 380ms/step - loss: 0.4839 - loss_seq: 0.0683 - loss_expression: 0.4156 - pearson_r: 0.7658 - val_pearson_r: 0.7445\n",
            "Epoch 10/20\n",
            "12502/12502 [==============================] - 4741s 379ms/step - loss: 0.4752 - loss_seq: 0.0683 - loss_expression: 0.4069 - pearson_r: 0.7712 - val_pearson_r: 0.7415\n",
            "Epoch 11/20\n",
            "12502/12502 [==============================] - 4739s 379ms/step - loss: 0.4660 - loss_seq: 0.0684 - loss_expression: 0.3975 - pearson_r: 0.7769 - val_pearson_r: 0.7388\n",
            "Epoch 12/20\n",
            "12502/12502 [==============================] - 4746s 380ms/step - loss: 0.4567 - loss_seq: 0.0683 - loss_expression: 0.3883 - pearson_r: 0.7833 - val_pearson_r: 0.7315\n",
            "Epoch 13/20\n",
            "12502/12502 [==============================] - 4741s 379ms/step - loss: 0.4452 - loss_seq: 0.0685 - loss_expression: 0.3767 - pearson_r: 0.7900 - val_pearson_r: 0.7257\n",
            "Epoch 14/20\n",
            "12502/12502 [==============================] - 4744s 379ms/step - loss: 0.4341 - loss_seq: 0.0684 - loss_expression: 0.3658 - pearson_r: 0.7967 - val_pearson_r: 0.7228\n",
            "Epoch 15/20\n",
            "  728/12502 [>.............................] - ETA: 1:11:39 - loss: 0.4252 - loss_seq: 0.0686 - loss_expression: 0.3565 - pearson_r: 0.8006"
          ]
        }
      ]
    },
    {
      "cell_type": "markdown",
      "metadata": {
        "id": "ArD-gBiIjgYD"
      },
      "source": [
        "## Read testing data"
      ]
    },
    {
      "cell_type": "code",
      "source": [
        "os.system('wget -cx ' + ARGS['remote_test_data'])"
      ],
      "metadata": {
        "id": "veXsv1c0KPx_",
        "colab": {
          "base_uri": "https://localhost:8080/"
        },
        "outputId": "61b50061-7ef8-4c16-98dc-c66b7db39c6f"
      },
      "execution_count": 88,
      "outputs": [
        {
          "output_type": "stream",
          "name": "stderr",
          "text": [
            "--2022-08-07 17:29:51--  https://s3.msi.umn.edu/gongx030/projects/dream_PGE/test_sequences.txt.gz\n",
            "Resolving s3.msi.umn.edu (s3.msi.umn.edu)... 128.101.189.144\n",
            "Connecting to s3.msi.umn.edu (s3.msi.umn.edu)|128.101.189.144|:443... connected.\n",
            "HTTP request sent, awaiting response... 416 Requested Range Not Satisfiable\n",
            "\n",
            "    The file is already fully retrieved; nothing to do.\n",
            "\n"
          ]
        },
        {
          "output_type": "execute_result",
          "data": {
            "text/plain": [
              "0"
            ]
          },
          "metadata": {},
          "execution_count": 88
        }
      ]
    },
    {
      "cell_type": "code",
      "source": [
        "df = pd.read_csv(ARGS['local_test_data'], compression = 'gzip', sep = '\\t', header = None)\n",
        "df.columns = ['dna', 'expression']\n",
        "df['dna'] = df['dna'].astype('string')\n",
        "df['dna0'] = df['dna']\n",
        "print('test dataset size: %d' % len(df))"
      ],
      "metadata": {
        "id": "ZAaoU0rwKbIE",
        "colab": {
          "base_uri": "https://localhost:8080/"
        },
        "outputId": "d8e69ffd-9b3d-4df7-f076-5d5f62f90d08"
      },
      "execution_count": 89,
      "outputs": [
        {
          "output_type": "stream",
          "name": "stdout",
          "text": [
            "test dataset size: 71103\n"
          ]
        }
      ]
    },
    {
      "cell_type": "code",
      "source": [
        "df['len'] = df['dna'].str.len()\n",
        "plt.hist(df['len'])\n",
        "print('min len: {}'.format(df['len'].min()))\n",
        "print('max len: {}'.format(df['len'].max()))"
      ],
      "metadata": {
        "id": "PxfUTp-KHR7U",
        "colab": {
          "base_uri": "https://localhost:8080/",
          "height": 0
        },
        "outputId": "0630852a-77c9-49f8-8f8c-2a7e89a440e3"
      },
      "execution_count": 90,
      "outputs": [
        {
          "output_type": "stream",
          "name": "stdout",
          "text": [
            "min len: 110\n",
            "max len: 110\n"
          ]
        },
        {
          "output_type": "display_data",
          "data": {
            "text/plain": [
              "<Figure size 432x288 with 1 Axes>"
            ],
            "image/png": "[encoded data removed]"
          },
          "metadata": {
            "needs_background": "light"
          }
        }
      ]
    },
    {
      "cell_type": "code",
      "source": [
        "print('number of unique sequences in the first {} positions: {}'.format(ARGS['head_len'], len(df['dna'].str[:ARGS['head_len']].unique())))\n",
        "print('number of unique sequences in the last {} positions: {}'.format(ARGS['tail_len'], len(df['dna'].str[-ARGS['tail_len']:].unique())))"
      ],
      "metadata": {
        "id": "dD49DoSqLBUF",
        "colab": {
          "base_uri": "https://localhost:8080/"
        },
        "outputId": "8d18a5bb-3a4c-441e-9d0b-77dd0409aae1"
      },
      "execution_count": 91,
      "outputs": [
        {
          "output_type": "stream",
          "name": "stdout",
          "text": [
            "number of unique sequences in the first 17 positions: 1\n",
            "number of unique sequences in the last 13 positions: 1\n"
          ]
        }
      ]
    },
    {
      "cell_type": "code",
      "source": [
        "df['dna'] = df['dna'].str[ARGS['head_len']:]\n",
        "df['dna'] = df['dna'].str[:-ARGS['tail_len']]"
      ],
      "metadata": {
        "id": "5DinLJpsD-VH"
      },
      "execution_count": 92,
      "outputs": []
    },
    {
      "cell_type": "code",
      "source": [
        "df['len'] = df['dna'].str.len()\n",
        "plt.hist(df['len'])\n",
        "print('min len: {}'.format(df['len'].min()))\n",
        "print('max len: {}'.format(df['len'].max()))"
      ],
      "metadata": {
        "id": "xC_9TprOF7h0",
        "colab": {
          "base_uri": "https://localhost:8080/",
          "height": 0
        },
        "outputId": "e9191f8b-fcd0-4212-f116-787f458fafa0"
      },
      "execution_count": 93,
      "outputs": [
        {
          "output_type": "stream",
          "name": "stdout",
          "text": [
            "min len: 80\n",
            "max len: 80\n"
          ]
        },
        {
          "output_type": "display_data",
          "data": {
            "text/plain": [
              "<Figure size 432x288 with 1 Axes>"
            ],
            "image/png": "[encoded data removed]"
          },
          "metadata": {
            "needs_background": "light"
          }
        }
      ]
    },
    {
      "cell_type": "code",
      "source": [
        "assert all(df['len'] <= ARGS['max_width'])"
      ],
      "metadata": {
        "id": "TY-qUq68Kf77"
      },
      "execution_count": 94,
      "outputs": []
    },
    {
      "cell_type": "code",
      "source": [
        "df['dna'] = df['dna'].str.pad(width = ARGS['max_width'], side = 'both', fillchar = 'N')\n",
        "df['dna'] = df['dna'] + df['dna'].apply(lambda x: str(Seq(x).reverse_complement())).astype('string')"
      ],
      "metadata": {
        "id": "Mh7hqqG5K1J8"
      },
      "execution_count": 95,
      "outputs": []
    },
    {
      "cell_type": "code",
      "execution_count": 96,
      "metadata": {
        "id": "siz7Lbd3jgYG"
      },
      "outputs": [],
      "source": [
        "#input_dim = int(5) # A,C,G,T,N\n",
        "input_dim = int(6) # A,C,G,T,N,M\n",
        "n_positions = ARGS['max_width'] * 2"
      ]
    },
    {
      "cell_type": "code",
      "source": [
        "n_positions = int(ARGS['max_width'] * 2)\n",
        "print('# positions=%d' % (n_positions))"
      ],
      "metadata": {
        "id": "o7kPkdY3K8X0",
        "colab": {
          "base_uri": "https://localhost:8080/"
        },
        "outputId": "fee2a033-957a-4067-c0a3-9c0366384752"
      },
      "execution_count": 97,
      "outputs": [
        {
          "output_type": "stream",
          "name": "stdout",
          "text": [
            "# positions=200\n"
          ]
        }
      ]
    },
    {
      "cell_type": "code",
      "source": [
        "dna = np.empty((0, n_positions), np.uint8)\n",
        "for x in np.array_split(df['dna'], 10): # split data into chunks\n",
        "  y = np.array(x.apply(list))\n",
        "  y = np.vstack(y)\n",
        "  y = np.vectorize(ARGS['alphabets'].get)(y)\n",
        "  y = y.astype(np.uint8)\n",
        "  print(y.shape)\n",
        "  dna = np.append(dna, y, axis = 0)"
      ],
      "metadata": {
        "id": "lREKXNHuLDA9",
        "colab": {
          "base_uri": "https://localhost:8080/"
        },
        "outputId": "d57ff3c1-68a7-4544-e3fa-29c83ca83187"
      },
      "execution_count": 98,
      "outputs": [
        {
          "output_type": "stream",
          "name": "stdout",
          "text": [
            "(7111, 200)\n",
            "(7111, 200)\n",
            "(7111, 200)\n",
            "(7110, 200)\n",
            "(7110, 200)\n",
            "(7110, 200)\n",
            "(7110, 200)\n",
            "(7110, 200)\n",
            "(7110, 200)\n",
            "(7110, 200)\n"
          ]
        }
      ]
    },
    {
      "cell_type": "code",
      "source": [
        "base = np.zeros(dna.shape, dtype = np.uint8)\n",
        "base[dna == 4] = 0 #\n",
        "base[(dna == 0) | (dna == 2)] = 1 # A/G\n",
        "base[(dna == 1) | (dna == 3)] = 2 # C/T"
      ],
      "metadata": {
        "id": "CRrmdcsSzlj4"
      },
      "execution_count": 99,
      "outputs": []
    },
    {
      "cell_type": "code",
      "source": [
        "ds = tf.data.Dataset.from_tensor_slices({\n",
        "  'seq' : dna,\n",
        "  'expression' : tf.zeros([len(df)]),\n",
        "  'base' : base,\n",
        "})\n",
        "ds.element_spec"
      ],
      "metadata": {
        "id": "MLaEYm4PLMp1",
        "colab": {
          "base_uri": "https://localhost:8080/"
        },
        "outputId": "d2d8494a-07f5-4f41-d749-477b53be2f9c"
      },
      "execution_count": 100,
      "outputs": [
        {
          "output_type": "execute_result",
          "data": {
            "text/plain": [
              "{'seq': TensorSpec(shape=(200,), dtype=tf.uint8, name=None),\n",
              " 'expression': TensorSpec(shape=(), dtype=tf.float32, name=None),\n",
              " 'base': TensorSpec(shape=(200,), dtype=tf.uint8, name=None)}"
            ]
          },
          "metadata": {},
          "execution_count": 100
        }
      ]
    },
    {
      "cell_type": "markdown",
      "source": [
        "## Prediction"
      ],
      "metadata": {
        "id": "9FnLlgwJKQ7-"
      }
    },
    {
      "cell_type": "code",
      "source": [
        "model.load_weights(ARGS['local_checkpoint_dir'])"
      ],
      "metadata": {
        "id": "GJhPSCiRKPX7",
        "colab": {
          "base_uri": "https://localhost:8080/"
        },
        "outputId": "50592492-de53-47f0-aac3-c24129cbfb4d"
      },
      "execution_count": 102,
      "outputs": [
        {
          "output_type": "execute_result",
          "data": {
            "text/plain": [
              "<tensorflow.python.training.tracking.util.CheckpointLoadStatus at 0x7fe868978310>"
            ]
          },
          "metadata": {},
          "execution_count": 102
        }
      ]
    },
    {
      "cell_type": "code",
      "source": [
        "expression = []\n",
        "pbar = keras.utils.Progbar(len(ds.batch(ARGS['batch_size'])))\n",
        "for step, batch in enumerate(ds.batch(ARGS['batch_size'])):\n",
        "  pbar.update(step)\n",
        "  expression_pred, _ = model(batch)\n",
        "  expression.append(expression_pred)\n",
        "expression = tf.concat(expression, axis = 0)"
      ],
      "metadata": {
        "id": "JMnvDzXWtrVs",
        "colab": {
          "base_uri": "https://localhost:8080/"
        },
        "outputId": "f39ec8f0-b945-47fd-9f26-2e1c7d327488"
      },
      "execution_count": 103,
      "outputs": [
        {
          "output_type": "stream",
          "name": "stdout",
          "text": [
            "138/139 [============================>.] - ETA: 0s"
          ]
        }
      ]
    },
    {
      "cell_type": "code",
      "source": [
        "df['expression'] = expression.numpy()"
      ],
      "metadata": {
        "id": "42FU_zm_uYrW"
      },
      "execution_count": 104,
      "outputs": []
    },
    {
      "cell_type": "code",
      "source": [
        "print('mean predicted expression: {}'.format(df['expression'].mean()))\n",
        "print('std predicted expression: {}'.format(df['expression'].std()))"
      ],
      "metadata": {
        "id": "pM6G_VO0GsAL",
        "colab": {
          "base_uri": "https://localhost:8080/"
        },
        "outputId": "adf5bb9f-3f95-4e23-a811-c1e2e8e44047"
      },
      "execution_count": 105,
      "outputs": [
        {
          "output_type": "stream",
          "name": "stdout",
          "text": [
            "mean predicted expression: 0.29278337955474854\n",
            "std predicted expression: 1.0623327493667603\n"
          ]
        }
      ]
    },
    {
      "cell_type": "code",
      "source": [
        "p = plt.hist(df['expression'], bins = 100)"
      ],
      "metadata": {
        "id": "l894HCQ7OVj8",
        "colab": {
          "base_uri": "https://localhost:8080/",
          "height": 0
        },
        "outputId": "d9c567bf-d352-4517-fdab-8a4c319fe583"
      },
      "execution_count": 106,
      "outputs": [
        {
          "output_type": "display_data",
          "data": {
            "text/plain": [
              "<Figure size 432x288 with 1 Axes>"
            ],
            "image/png": "[encoded data removed]"
          },
          "metadata": {
            "needs_background": "light"
          }
        }
      ]
    },
    {
      "cell_type": "markdown",
      "source": [
        "## Prepare submission file"
      ],
      "metadata": {
        "id": "19E3HT1ESJ4A"
      }
    },
    {
      "cell_type": "code",
      "source": [
        "model.summary()"
      ],
      "metadata": {
        "id": "1k--o7NCg8oz",
        "colab": {
          "base_uri": "https://localhost:8080/"
        },
        "outputId": "fed10846-0229-4e83-edd4-04bc8b17b2fd"
      },
      "execution_count": 110,
      "outputs": [
        {
          "output_type": "stream",
          "name": "stdout",
          "text": [
            "Model: \"regressor_1\"\n",
            "_________________________________________________________________\n",
            "Layer (type)                 Output Shape              Param #   \n",
            "=================================================================\n",
            "sequence_mask_layer_2 (Seque multiple                  0 (unused)\n",
            "_________________________________________________________________\n",
            "embedding_2 (Embedding)      multiple                  102400    \n",
            "_________________________________________________________________\n",
            "embedding_3 (Embedding)      multiple                  1024      \n",
            "_________________________________________________________________\n",
            "dense_26 (Dense)             multiple                  1024      \n",
            "_________________________________________________________________\n",
            "dense_27 (Dense)             multiple                  31232     \n",
            "_________________________________________________________________\n",
            "sequential_29 (Sequential)   (None, 232, 512)          47286272  \n",
            "_________________________________________________________________\n",
            "dropout_49 (Dropout)         multiple                  0         \n",
            "_________________________________________________________________\n",
            "dense_44 (Dense)             multiple                  513       \n",
            "_________________________________________________________________\n",
            "dense_45 (Dense)             multiple                  3078      \n",
            "=================================================================\n",
            "Total params: 47,425,543\n",
            "Trainable params: 47,425,543\n",
            "Non-trainable params: 0\n",
            "_________________________________________________________________\n"
          ]
        }
      ]
    },
    {
      "cell_type": "markdown",
      "source": [
        "Modified from https://github.com/de-Boer-Lab/DREAM-2022/blob/main/How%20to%20submit%20predictions%20to%20the%20public%20leaderboard.pdf"
      ],
      "metadata": {
        "id": "Mr9rV0nDWx2u"
      }
    },
    {
      "cell_type": "code",
      "source": [
        "os.system('wget -cx ' + ARGS['remote_sample_submission_file'])"
      ],
      "metadata": {
        "id": "BYr7HS0iSL32",
        "colab": {
          "base_uri": "https://localhost:8080/"
        },
        "outputId": "58235dee-3aeb-4556-b890-9b5e4798fbe5"
      },
      "execution_count": 111,
      "outputs": [
        {
          "output_type": "stream",
          "name": "stderr",
          "text": [
            "--2022-08-07 17:32:22--  https://raw.githubusercontent.com/de-Boer-Lab/DREAM-2022/main/sample_submission.json\n",
            "Resolving raw.githubusercontent.com (raw.githubusercontent.com)... 185.199.110.133, 185.199.108.133, 185.199.109.133, ...\n",
            "Connecting to raw.githubusercontent.com (raw.githubusercontent.com)|185.199.110.133|:443... connected.\n",
            "HTTP request sent, awaiting response... 416 Range Not Satisfiable\n",
            "\n",
            "    The file is already fully retrieved; nothing to do.\n",
            "\n"
          ]
        },
        {
          "output_type": "execute_result",
          "data": {
            "text/plain": [
              "0"
            ]
          },
          "metadata": {},
          "execution_count": 111
        }
      ]
    },
    {
      "cell_type": "code",
      "source": [
        "with open(ARGS['local_sample_submission_file'], 'r') as f:\n",
        "  ground = json.load(f)"
      ],
      "metadata": {
        "id": "TM86DEDHSRPg"
      },
      "execution_count": 112,
      "outputs": []
    },
    {
      "cell_type": "code",
      "source": [
        "indices = np.array([int(indice) for indice in list(ground.keys())])"
      ],
      "metadata": {
        "id": "KBD_KIirSYad"
      },
      "execution_count": 113,
      "outputs": []
    },
    {
      "cell_type": "code",
      "source": [
        "PRED_DATA = OrderedDict()\n",
        "Y_Pred = df['expression'].to_numpy()"
      ],
      "metadata": {
        "id": "KM5aQCeYSYf7"
      },
      "execution_count": 114,
      "outputs": []
    },
    {
      "cell_type": "code",
      "source": [
        "for i in indices:\n",
        "  PRED_DATA[str(i)] = float(Y_Pred[i])"
      ],
      "metadata": {
        "id": "-JOyfzpgTBT9"
      },
      "execution_count": 115,
      "outputs": []
    },
    {
      "cell_type": "code",
      "source": [
        "local_prediction_dir = re.sub('(.+/)..+', '\\\\1', ARGS['local_prediction_file'])\n",
        "if not os.path.exists(local_prediction_dir):\n",
        "  os.makedirs(local_prediction_dir)\n",
        "  print('creating {}'.format(local_prediction_dir))"
      ],
      "metadata": {
        "id": "94ub4d1qVlv0"
      },
      "execution_count": 116,
      "outputs": []
    },
    {
      "cell_type": "code",
      "source": [
        "with open(ARGS['local_prediction_file'], 'w') as f:\n",
        "  json.dump(PRED_DATA, f)\n",
        "print('writing {}'.format(ARGS['local_prediction_file']))"
      ],
      "metadata": {
        "id": "tVP8DI4HTTNY",
        "colab": {
          "base_uri": "https://localhost:8080/"
        },
        "outputId": "83630539-6df7-4bc8-f623-7f875ad15666"
      },
      "execution_count": 117,
      "outputs": [
        {
          "output_type": "stream",
          "name": "stdout",
          "text": [
            "writing ./s3.msi.umn.edu/gongx030/projects/dream_PGE/predictions/m20220727e/pred.json\n"
          ]
        }
      ]
    },
    {
      "cell_type": "markdown",
      "source": [
        "Only if the notebook runs on MSI, otherwise, ignore this cell."
      ],
      "metadata": {
        "id": "uZWiJ3TPNcdC"
      }
    },
    {
      "cell_type": "code",
      "source": [
        "!s3cmd sync {ARGS['local_prediction_file']} {ARGS['s3_prediction_file']}\n",
        "!s3cmd setacl -P {ARGS['s3_prediction_file']}"
      ],
      "metadata": {
        "id": "Mc91PmIJWRoK"
      },
      "execution_count": 118,
      "outputs": []
    },
    {
      "cell_type": "code",
      "source": [
        "print('prediction file: {}'.format(ARGS['remote_prediction_file']))"
      ],
      "metadata": {
        "id": "CUsACX1WWiND",
        "colab": {
          "base_uri": "https://localhost:8080/"
        },
        "outputId": "a50324f1-2df8-4458-b836-9da188e23b11"
      },
      "execution_count": 119,
      "outputs": [
        {
          "output_type": "stream",
          "name": "stdout",
          "text": [
            "prediction file: https://s3.msi.umn.edu/gongx030/projects/dream_PGE/predictions/m20220727e/pred.json\n"
          ]
        }
      ]
    },
    {
      "cell_type": "code",
      "source": [
        "df[['dna0', 'expression']].to_csv(ARGS['local_prediction_tsv_file'], header = False, sep = '\\t', index = False)"
      ],
      "metadata": {
        "id": "SiZ9hbVXaAx3"
      },
      "execution_count": 120,
      "outputs": []
    },
    {
      "cell_type": "code",
      "source": [
        "!s3cmd sync {ARGS['local_prediction_tsv_file']} {ARGS['s3_prediction_tsv_file']}\n",
        "!s3cmd setacl -P {ARGS['s3_prediction_tsv_file']}"
      ],
      "metadata": {
        "id": "CkL8h8FGadY6"
      },
      "execution_count": 121,
      "outputs": []
    },
    {
      "cell_type": "code",
      "source": [
        "print('prediction file(tsv): {}'.format(ARGS['remote_prediction_tsv_file']))"
      ],
      "metadata": {
        "colab": {
          "base_uri": "https://localhost:8080/"
        },
        "id": "sQX_3risahNN",
        "outputId": "1405c624-34b0-4903-a418-f2439d229979"
      },
      "execution_count": 122,
      "outputs": [
        {
          "output_type": "stream",
          "name": "stdout",
          "text": [
            "prediction file(tsv): https://s3.msi.umn.edu/gongx030/projects/dream_PGE/predictions/m20220727e/pred.tsv\n"
          ]
        }
      ]
    },
    {
      "cell_type": "markdown",
      "source": [
        "# SessionInfo"
      ],
      "metadata": {
        "id": "h6z-1F1D4owK"
      }
    },
    {
      "cell_type": "code",
      "source": [
        "session_info.show()"
      ],
      "metadata": {
        "id": "53wVoagb4tD8",
        "colab": {
          "base_uri": "https://localhost:8080/",
          "height": 34
        },
        "outputId": "74fa0970-dc30-492f-9cc9-76ce90418ec9"
      },
      "execution_count": 123,
      "outputs": [
        {
          "output_type": "execute_result",
          "data": {
            "text/plain": [
              "<IPython.core.display.HTML object>"
            ],
            "text/html": [
              "<details>\n",
              "<summary>Click to view session information</summary>\n",
              "<pre>\n",
              "-----\n",
              "Bio                         1.79\n",
              "keras                       2.6.0\n",
              "matplotlib                  3.5.2\n",
              "numpy                       1.19.5\n",
              "pandas                      1.3.5\n",
              "scipy                       1.7.3\n",
              "session_info                1.0.0\n",
              "sklearn                     1.0.2\n",
              "tensorflow                  2.6.0\n",
              "tensorflow_probability      0.14.1\n",
              "-----\n",
              "</pre>\n",
              "<details>\n",
              "<summary>Click to view modules imported as dependencies</summary>\n",
              "<pre>\n",
              "2f7ece400a652629565c523b34ee61b04afa385c    NA\n",
              "PIL                                         9.2.0\n",
              "absl                                        NA\n",
              "astunparse                                  1.6.3\n",
              "backcall                                    0.2.0\n",
              "beta_ufunc                                  NA\n",
              "binom_ufunc                                 NA\n",
              "cached_property                             1.5.2\n",
              "certifi                                     2022.06.15\n",
              "cffi                                        1.15.1\n",
              "charset_normalizer                          2.1.0\n",
              "cloudpickle                                 2.1.0\n",
              "cycler                                      0.10.0\n",
              "cython_runtime                              NA\n",
              "dateutil                                    2.8.2\n",
              "debugpy                                     1.6.2\n",
              "decorator                                   5.1.1\n",
              "defusedxml                                  0.7.1\n",
              "entrypoints                                 0.4\n",
              "flatbuffers                                 NA\n",
              "gast                                        NA\n",
              "google                                      NA\n",
              "h5py                                        3.1.0\n",
              "idna                                        3.3\n",
              "importlib_metadata                          NA\n",
              "ipykernel                                   6.15.1\n",
              "ipython_genutils                            0.2.0\n",
              "jedi                                        0.18.1\n",
              "jinja2                                      3.1.2\n",
              "joblib                                      1.1.0\n",
              "keras_preprocessing                         1.1.2\n",
              "kiwisolver                                  1.4.4\n",
              "markupsafe                                  2.1.1\n",
              "matplotlib_inline                           NA\n",
              "mpl_toolkits                                NA\n",
              "nbinom_ufunc                                NA\n",
              "opt_einsum                                  v3.3.0\n",
              "packaging                                   21.3\n",
              "parso                                       0.8.3\n",
              "pexpect                                     4.8.0\n",
              "pickleshare                                 0.7.5\n",
              "pkg_resources                               NA\n",
              "prompt_toolkit                              3.0.30\n",
              "psutil                                      5.9.1\n",
              "ptyprocess                                  0.7.0\n",
              "pydev_ipython                               NA\n",
              "pydevconsole                                NA\n",
              "pydevd                                      2.8.0\n",
              "pydevd_file_utils                           NA\n",
              "pydevd_plugins                              NA\n",
              "pydevd_tracing                              NA\n",
              "pygments                                    2.12.0\n",
              "pyparsing                                   3.0.9\n",
              "pytz                                        2022.1\n",
              "requests                                    2.28.1\n",
              "setuptools                                  63.2.0\n",
              "six                                         1.15.0\n",
              "storemagic                                  NA\n",
              "tensorboard                                 2.9.1\n",
              "termcolor                                   1.1.0\n",
              "threadpoolctl                               3.1.0\n",
              "tmp2xi5csl9                                 NA\n",
              "tmp9rv1w0t_                                 NA\n",
              "tmpbaeatp84                                 NA\n",
              "tornado                                     6.2\n",
              "traitlets                                   5.3.0\n",
              "tree                                        0.1.7\n",
              "typing_extensions                           NA\n",
              "urllib3                                     1.26.11\n",
              "wcwidth                                     0.2.5\n",
              "wrapt                                       1.12.1\n",
              "zipp                                        NA\n",
              "zmq                                         23.2.0\n",
              "</pre>\n",
              "</details> <!-- seems like this ends pre, so might as well be explicit -->\n",
              "<pre>\n",
              "-----\n",
              "IPython             7.34.0\n",
              "jupyter_client      7.3.4\n",
              "jupyter_core        4.11.1\n",
              "notebook            6.4.12\n",
              "-----\n",
              "Python 3.7.12 | packaged by conda-forge | (default, Oct 26 2021, 06:08:21) [GCC 9.4.0]\n",
              "Linux-3.10.0-1160.71.1.el7.x86_64-x86_64-with-centos-7.9.2009-Core\n",
              "-----\n",
              "Session information updated at 2022-08-07 17:32\n",
              "</pre>\n",
              "</details>"
            ]
          },
          "metadata": {},
          "execution_count": 123
        }
      ]
    },
    {
      "cell_type": "code",
      "source": [
        ""
      ],
      "metadata": {
        "id": "tFWCf4x-5bTE"
      },
      "execution_count": null,
      "outputs": []
    }
  ]
}