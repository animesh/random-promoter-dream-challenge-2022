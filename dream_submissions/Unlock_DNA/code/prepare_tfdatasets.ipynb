{
  "nbformat": 4,
  "nbformat_minor": 0,
  "metadata": {
    "kernelspec": {
      "display_name": "Python 3",
      "name": "python3"
    },
    "language_info": {
      "name": "python"
    },
    "colab": {
      "name": "prepare_tfdatasets.ipynb",
      "provenance": [],
      "collapsed_sections": [],
      "toc_visible": true,
      "machine_shape": "hm",
      "include_colab_link": true
    },
    "gpuClass": "standard"
  },
  "cells": [
    {
      "cell_type": "markdown",
      "metadata": {
        "id": "view-in-github",
        "colab_type": "text"
      },
      "source": [
        "<a href=\"https://colab.research.google.com/github/gongx030/dream_PGE/blob/main/prepare_tfdatasets.ipynb\" target=\"_parent\"><img src=\"https://colab.research.google.com/assets/colab-badge.svg\" alt=\"Open In Colab\"/></a>"
      ]
    },
    {
      "cell_type": "markdown",
      "metadata": {
        "id": "M0jDe-m_5aq4"
      },
      "source": [
        "# Prepare a tfdataset object on the full data"
      ]
    },
    {
      "cell_type": "markdown",
      "source": [
        "This notebook runs on MSI"
      ],
      "metadata": {
        "id": "0hpo4yIjl_UL"
      }
    },
    {
      "cell_type": "markdown",
      "metadata": {
        "id": "obcf6pAcw6TQ"
      },
      "source": [
        "### Install external packages"
      ]
    },
    {
      "cell_type": "code",
      "source": [
        "!pip install tensorflow==2.6 keras==2.6\n",
        "!pip install tensorflow-addons==0.14.0\n",
        "!pip install tensorflow_probability==0.14.1\n",
        "!pip install session_info\n",
        "!pip install biopython\n",
        "!pip install sklearn\n",
        "!pip install matplotlib"
      ],
      "metadata": {
        "colab": {
          "base_uri": "https://localhost:8080/"
        },
        "id": "C-eu6z_nZKGR",
        "outputId": "7fb556ac-69e4-41b2-a8ab-58993243a12f"
      },
      "execution_count": null,
      "outputs": [
        {
          "output_type": "stream",
          "name": "stdout",
          "text": [
            "Requirement already satisfied: tensorflow==2.6 in /panfs/jay/groups/18/garrydj/gongx030/.conda/envs/tf26_py37_a10/lib/python3.7/site-packages (2.6.0)\r\n",
            "Requirement already satisfied: keras==2.6 in /panfs/jay/groups/18/garrydj/gongx030/.conda/envs/tf26_py37_a10/lib/python3.7/site-packages (2.6.0)\r\n",
            "Requirement already satisfied: six~=1.15.0 in /panfs/jay/groups/18/garrydj/gongx030/.conda/envs/tf26_py37_a10/lib/python3.7/site-packages (from tensorflow==2.6) (1.15.0)\r\n",
            "Requirement already satisfied: numpy~=1.19.2 in /panfs/jay/groups/18/garrydj/gongx030/.conda/envs/tf26_py37_a10/lib/python3.7/site-packages (from tensorflow==2.6) (1.19.5)\r\n",
            "Requirement already satisfied: grpcio<2.0,>=1.37.0 in /panfs/jay/groups/18/garrydj/gongx030/.conda/envs/tf26_py37_a10/lib/python3.7/site-packages (from tensorflow==2.6) (1.46.3)\r\n",
            "Requirement already satisfied: clang~=5.0 in /panfs/jay/groups/18/garrydj/gongx030/.conda/envs/tf26_py37_a10/lib/python3.7/site-packages (from tensorflow==2.6) (5.0)\r\n",
            "Requirement already satisfied: absl-py~=0.10 in /panfs/jay/groups/18/garrydj/gongx030/.conda/envs/tf26_py37_a10/lib/python3.7/site-packages (from tensorflow==2.6) (0.15.0)\r\n",
            "Requirement already satisfied: opt-einsum~=3.3.0 in /panfs/jay/groups/18/garrydj/gongx030/.conda/envs/tf26_py37_a10/lib/python3.7/site-packages (from tensorflow==2.6) (3.3.0)\r\n",
            "Requirement already satisfied: wrapt~=1.12.1 in /panfs/jay/groups/18/garrydj/gongx030/.conda/envs/tf26_py37_a10/lib/python3.7/site-packages (from tensorflow==2.6) (1.12.1)\r\n",
            "Requirement already satisfied: tensorboard~=2.6 in /panfs/jay/groups/18/garrydj/gongx030/.conda/envs/tf26_py37_a10/lib/python3.7/site-packages (from tensorflow==2.6) (2.9.1)\r\n",
            "Requirement already satisfied: termcolor~=1.1.0 in /panfs/jay/groups/18/garrydj/gongx030/.conda/envs/tf26_py37_a10/lib/python3.7/site-packages (from tensorflow==2.6) (1.1.0)\r\n",
            "Requirement already satisfied: astunparse~=1.6.3 in /panfs/jay/groups/18/garrydj/gongx030/.conda/envs/tf26_py37_a10/lib/python3.7/site-packages (from tensorflow==2.6) (1.6.3)\r\n",
            "Requirement already satisfied: gast==0.4.0 in /panfs/jay/groups/18/garrydj/gongx030/.conda/envs/tf26_py37_a10/lib/python3.7/site-packages (from tensorflow==2.6) (0.4.0)\r\n",
            "Requirement already satisfied: wheel~=0.35 in /panfs/jay/groups/18/garrydj/gongx030/.conda/envs/tf26_py37_a10/lib/python3.7/site-packages (from tensorflow==2.6) (0.37.1)\r\n",
            "Requirement already satisfied: typing-extensions~=3.7.4 in /panfs/jay/groups/18/garrydj/gongx030/.conda/envs/tf26_py37_a10/lib/python3.7/site-packages (from tensorflow==2.6) (3.7.4.3)\n",
            "Requirement already satisfied: google-pasta~=0.2 in /panfs/jay/groups/18/garrydj/gongx030/.conda/envs/tf26_py37_a10/lib/python3.7/site-packages (from tensorflow==2.6) (0.2.0)\n",
            "Requirement already satisfied: protobuf>=3.9.2 in /panfs/jay/groups/18/garrydj/gongx030/.conda/envs/tf26_py37_a10/lib/python3.7/site-packages (from tensorflow==2.6) (3.19.4)\n",
            "Requirement already satisfied: h5py~=3.1.0 in /panfs/jay/groups/18/garrydj/gongx030/.conda/envs/tf26_py37_a10/lib/python3.7/site-packages (from tensorflow==2.6) (3.1.0)\n",
            "Requirement already satisfied: keras-preprocessing~=1.1.2 in /panfs/jay/groups/18/garrydj/gongx030/.conda/envs/tf26_py37_a10/lib/python3.7/site-packages (from tensorflow==2.6) (1.1.2)\n",
            "Requirement already satisfied: tensorflow-estimator~=2.6 in /panfs/jay/groups/18/garrydj/gongx030/.conda/envs/tf26_py37_a10/lib/python3.7/site-packages (from tensorflow==2.6) (2.9.0)\n",
            "Requirement already satisfied: flatbuffers~=1.12.0 in /panfs/jay/groups/18/garrydj/gongx030/.conda/envs/tf26_py37_a10/lib/python3.7/site-packages (from tensorflow==2.6) (1.12)\n",
            "Requirement already satisfied: cached-property in /panfs/jay/groups/18/garrydj/gongx030/.conda/envs/tf26_py37_a10/lib/python3.7/site-packages (from h5py~=3.1.0->tensorflow==2.6) (1.5.2)\n",
            "Requirement already satisfied: google-auth-oauthlib<0.5,>=0.4.1 in /panfs/jay/groups/18/garrydj/gongx030/.conda/envs/tf26_py37_a10/lib/python3.7/site-packages (from tensorboard~=2.6->tensorflow==2.6) (0.4.6)\n",
            "Requirement already satisfied: tensorboard-data-server<0.7.0,>=0.6.0 in /panfs/jay/groups/18/garrydj/gongx030/.conda/envs/tf26_py37_a10/lib/python3.7/site-packages (from tensorboard~=2.6->tensorflow==2.6) (0.6.1)\n",
            "Requirement already satisfied: requests<3,>=2.21.0 in /panfs/jay/groups/18/garrydj/gongx030/.conda/envs/tf26_py37_a10/lib/python3.7/site-packages (from tensorboard~=2.6->tensorflow==2.6) (2.28.0)\n",
            "Requirement already satisfied: tensorboard-plugin-wit>=1.6.0 in /panfs/jay/groups/18/garrydj/gongx030/.conda/envs/tf26_py37_a10/lib/python3.7/site-packages (from tensorboard~=2.6->tensorflow==2.6) (1.8.1)\n",
            "Requirement already satisfied: werkzeug>=1.0.1 in /panfs/jay/groups/18/garrydj/gongx030/.conda/envs/tf26_py37_a10/lib/python3.7/site-packages (from tensorboard~=2.6->tensorflow==2.6) (2.1.2)\n",
            "Requirement already satisfied: setuptools>=41.0.0 in /panfs/jay/groups/18/garrydj/gongx030/.conda/envs/tf26_py37_a10/lib/python3.7/site-packages (from tensorboard~=2.6->tensorflow==2.6) (62.3.4)\n",
            "Requirement already satisfied: google-auth<3,>=1.6.3 in /panfs/jay/groups/18/garrydj/gongx030/.conda/envs/tf26_py37_a10/lib/python3.7/site-packages (from tensorboard~=2.6->tensorflow==2.6) (2.8.0)\n",
            "Requirement already satisfied: markdown>=2.6.8 in /panfs/jay/groups/18/garrydj/gongx030/.conda/envs/tf26_py37_a10/lib/python3.7/site-packages (from tensorboard~=2.6->tensorflow==2.6) (3.3.7)\n",
            "Requirement already satisfied: pyasn1-modules>=0.2.1 in /panfs/jay/groups/18/garrydj/gongx030/.conda/envs/tf26_py37_a10/lib/python3.7/site-packages (from google-auth<3,>=1.6.3->tensorboard~=2.6->tensorflow==2.6) (0.2.8)\n",
            "Requirement already satisfied: rsa<5,>=3.1.4 in /panfs/jay/groups/18/garrydj/gongx030/.conda/envs/tf26_py37_a10/lib/python3.7/site-packages (from google-auth<3,>=1.6.3->tensorboard~=2.6->tensorflow==2.6) (4.8)\n",
            "Requirement already satisfied: cachetools<6.0,>=2.0.0 in /panfs/jay/groups/18/garrydj/gongx030/.conda/envs/tf26_py37_a10/lib/python3.7/site-packages (from google-auth<3,>=1.6.3->tensorboard~=2.6->tensorflow==2.6) (5.2.0)\n",
            "Requirement already satisfied: requests-oauthlib>=0.7.0 in /panfs/jay/groups/18/garrydj/gongx030/.conda/envs/tf26_py37_a10/lib/python3.7/site-packages (from google-auth-oauthlib<0.5,>=0.4.1->tensorboard~=2.6->tensorflow==2.6) (1.3.1)\n",
            "Requirement already satisfied: importlib-metadata>=4.4 in /panfs/jay/groups/18/garrydj/gongx030/.conda/envs/tf26_py37_a10/lib/python3.7/site-packages (from markdown>=2.6.8->tensorboard~=2.6->tensorflow==2.6) (4.11.4)\n",
            "Requirement already satisfied: charset-normalizer~=2.0.0 in /panfs/jay/groups/18/garrydj/gongx030/.conda/envs/tf26_py37_a10/lib/python3.7/site-packages (from requests<3,>=2.21.0->tensorboard~=2.6->tensorflow==2.6) (2.0.12)\n",
            "Requirement already satisfied: certifi>=2017.4.17 in /panfs/jay/groups/18/garrydj/gongx030/.conda/envs/tf26_py37_a10/lib/python3.7/site-packages (from requests<3,>=2.21.0->tensorboard~=2.6->tensorflow==2.6) (2022.6.15)\n",
            "Requirement already satisfied: urllib3<1.27,>=1.21.1 in /panfs/jay/groups/18/garrydj/gongx030/.conda/envs/tf26_py37_a10/lib/python3.7/site-packages (from requests<3,>=2.21.0->tensorboard~=2.6->tensorflow==2.6) (1.26.9)\n",
            "Requirement already satisfied: idna<4,>=2.5 in /panfs/jay/groups/18/garrydj/gongx030/.conda/envs/tf26_py37_a10/lib/python3.7/site-packages (from requests<3,>=2.21.0->tensorboard~=2.6->tensorflow==2.6) (3.3)\n",
            "Requirement already satisfied: zipp>=0.5 in /panfs/jay/groups/18/garrydj/gongx030/.conda/envs/tf26_py37_a10/lib/python3.7/site-packages (from importlib-metadata>=4.4->markdown>=2.6.8->tensorboard~=2.6->tensorflow==2.6) (3.8.0)\n",
            "Requirement already satisfied: pyasn1<0.5.0,>=0.4.6 in /panfs/jay/groups/18/garrydj/gongx030/.conda/envs/tf26_py37_a10/lib/python3.7/site-packages (from pyasn1-modules>=0.2.1->google-auth<3,>=1.6.3->tensorboard~=2.6->tensorflow==2.6) (0.4.8)\n",
            "Requirement already satisfied: oauthlib>=3.0.0 in /panfs/jay/groups/18/garrydj/gongx030/.conda/envs/tf26_py37_a10/lib/python3.7/site-packages (from requests-oauthlib>=0.7.0->google-auth-oauthlib<0.5,>=0.4.1->tensorboard~=2.6->tensorflow==2.6) (3.2.0)\n",
            "Requirement already satisfied: tensorflow-addons==0.14.0 in /panfs/jay/groups/18/garrydj/gongx030/.local/lib/python3.7/site-packages (0.14.0)\n",
            "Requirement already satisfied: typeguard>=2.7 in /panfs/jay/groups/18/garrydj/gongx030/.local/lib/python3.7/site-packages (from tensorflow-addons==0.14.0) (2.13.3)\n",
            "Requirement already satisfied: tensorflow_probability==0.14.1 in /panfs/jay/groups/18/garrydj/gongx030/.conda/envs/tf26_py37_a10/lib/python3.7/site-packages (0.14.1)\n",
            "Requirement already satisfied: cloudpickle>=1.3 in /panfs/jay/groups/18/garrydj/gongx030/.conda/envs/tf26_py37_a10/lib/python3.7/site-packages (from tensorflow_probability==0.14.1) (2.1.0)\n",
            "Requirement already satisfied: decorator in /panfs/jay/groups/18/garrydj/gongx030/.conda/envs/tf26_py37_a10/lib/python3.7/site-packages (from tensorflow_probability==0.14.1) (5.1.1)\n",
            "Requirement already satisfied: dm-tree in /panfs/jay/groups/18/garrydj/gongx030/.conda/envs/tf26_py37_a10/lib/python3.7/site-packages (from tensorflow_probability==0.14.1) (0.1.7)\n",
            "Requirement already satisfied: gast>=0.3.2 in /panfs/jay/groups/18/garrydj/gongx030/.conda/envs/tf26_py37_a10/lib/python3.7/site-packages (from tensorflow_probability==0.14.1) (0.4.0)\n",
            "Requirement already satisfied: numpy>=1.13.3 in /panfs/jay/groups/18/garrydj/gongx030/.conda/envs/tf26_py37_a10/lib/python3.7/site-packages (from tensorflow_probability==0.14.1) (1.19.5)\n",
            "Requirement already satisfied: absl-py in /panfs/jay/groups/18/garrydj/gongx030/.conda/envs/tf26_py37_a10/lib/python3.7/site-packages (from tensorflow_probability==0.14.1) (0.15.0)\n",
            "Requirement already satisfied: six>=1.10.0 in /panfs/jay/groups/18/garrydj/gongx030/.conda/envs/tf26_py37_a10/lib/python3.7/site-packages (from tensorflow_probability==0.14.1) (1.15.0)\n",
            "Requirement already satisfied: session_info in /panfs/jay/groups/18/garrydj/gongx030/.conda/envs/tf26_py37_a10/lib/python3.7/site-packages (1.0.0)\n",
            "Requirement already satisfied: stdlib-list in /panfs/jay/groups/18/garrydj/gongx030/.conda/envs/tf26_py37_a10/lib/python3.7/site-packages (from session_info) (0.8.0)\n",
            "Requirement already satisfied: biopython in /panfs/jay/groups/18/garrydj/gongx030/.conda/envs/tf26_py37_a10/lib/python3.7/site-packages (1.79)\n",
            "Requirement already satisfied: numpy in /panfs/jay/groups/18/garrydj/gongx030/.conda/envs/tf26_py37_a10/lib/python3.7/site-packages (from biopython) (1.19.5)\n",
            "Requirement already satisfied: sklearn in /panfs/jay/groups/18/garrydj/gongx030/.conda/envs/tf26_py37_a10/lib/python3.7/site-packages (0.0)\n",
            "Requirement already satisfied: scikit-learn in /panfs/jay/groups/18/garrydj/gongx030/.conda/envs/tf26_py37_a10/lib/python3.7/site-packages (from sklearn) (1.0.2)\n",
            "Requirement already satisfied: numpy>=1.14.6 in /panfs/jay/groups/18/garrydj/gongx030/.conda/envs/tf26_py37_a10/lib/python3.7/site-packages (from scikit-learn->sklearn) (1.19.5)\n",
            "Requirement already satisfied: joblib>=0.11 in /panfs/jay/groups/18/garrydj/gongx030/.conda/envs/tf26_py37_a10/lib/python3.7/site-packages (from scikit-learn->sklearn) (1.1.0)\n",
            "Requirement already satisfied: scipy>=1.1.0 in /panfs/jay/groups/18/garrydj/gongx030/.conda/envs/tf26_py37_a10/lib/python3.7/site-packages (from scikit-learn->sklearn) (1.7.3)\n",
            "Requirement already satisfied: threadpoolctl>=2.0.0 in /panfs/jay/groups/18/garrydj/gongx030/.conda/envs/tf26_py37_a10/lib/python3.7/site-packages (from scikit-learn->sklearn) (3.1.0)\n",
            "Requirement already satisfied: matplotlib in /panfs/jay/groups/18/garrydj/gongx030/.conda/envs/tf26_py37_a10/lib/python3.7/site-packages (3.5.2)\n",
            "Requirement already satisfied: pillow>=6.2.0 in /panfs/jay/groups/18/garrydj/gongx030/.conda/envs/tf26_py37_a10/lib/python3.7/site-packages (from matplotlib) (9.1.1)\n",
            "Requirement already satisfied: kiwisolver>=1.0.1 in /panfs/jay/groups/18/garrydj/gongx030/.conda/envs/tf26_py37_a10/lib/python3.7/site-packages (from matplotlib) (1.4.3)\n",
            "Requirement already satisfied: python-dateutil>=2.7 in /panfs/jay/groups/18/garrydj/gongx030/.conda/envs/tf26_py37_a10/lib/python3.7/site-packages (from matplotlib) (2.8.2)\n",
            "Requirement already satisfied: numpy>=1.17 in /panfs/jay/groups/18/garrydj/gongx030/.conda/envs/tf26_py37_a10/lib/python3.7/site-packages (from matplotlib) (1.19.5)\n",
            "Requirement already satisfied: fonttools>=4.22.0 in /panfs/jay/groups/18/garrydj/gongx030/.conda/envs/tf26_py37_a10/lib/python3.7/site-packages (from matplotlib) (4.33.3)\n",
            "Requirement already satisfied: cycler>=0.10 in /panfs/jay/groups/18/garrydj/gongx030/.conda/envs/tf26_py37_a10/lib/python3.7/site-packages (from matplotlib) (0.11.0)\n",
            "Requirement already satisfied: pyparsing>=2.2.1 in /panfs/jay/groups/18/garrydj/gongx030/.conda/envs/tf26_py37_a10/lib/python3.7/site-packages (from matplotlib) (3.0.9)\n",
            "Requirement already satisfied: packaging>=20.0 in /panfs/jay/groups/18/garrydj/gongx030/.conda/envs/tf26_py37_a10/lib/python3.7/site-packages (from matplotlib) (21.3)\n",
            "Requirement already satisfied: typing-extensions in /panfs/jay/groups/18/garrydj/gongx030/.conda/envs/tf26_py37_a10/lib/python3.7/site-packages (from kiwisolver>=1.0.1->matplotlib) (3.7.4.3)\n",
            "Requirement already satisfied: six>=1.5 in /panfs/jay/groups/18/garrydj/gongx030/.conda/envs/tf26_py37_a10/lib/python3.7/site-packages (from python-dateutil>=2.7->matplotlib) (1.15.0)\n"
          ]
        }
      ]
    },
    {
      "cell_type": "markdown",
      "source": [
        "## Load Python packages"
      ],
      "metadata": {
        "id": "wH9oF2RleEYl"
      }
    },
    {
      "cell_type": "code",
      "source": [
        "import tensorflow as tf\n",
        "import numpy as np\n",
        "from tensorflow import keras\n",
        "from tensorflow.keras import layers\n",
        "#import tensorflow_addons as tfa\n",
        "from scipy import stats\n",
        "import session_info\n",
        "import tensorflow_probability as tfp\n",
        "import pdb\n",
        "from sklearn.metrics import r2_score\n",
        "import shutil\n",
        "import pandas as pd\n",
        "import re\n",
        "import os\n",
        "from Bio.Seq import Seq\n",
        "import gc\n",
        "import matplotlib.pyplot as plt\n",
        "import datetime"
      ],
      "metadata": {
        "id": "XamZpd5EeGHR"
      },
      "execution_count": null,
      "outputs": []
    },
    {
      "cell_type": "markdown",
      "metadata": {
        "id": "hl2lXOAv9ljx"
      },
      "source": [
        "## Parameters"
      ]
    },
    {
      "cell_type": "code",
      "source": [
        "ARGS = {\n",
        "  'max_width' : 100,\n",
        "  'pct_ds' : 1, # % of total data for training/testing\n",
        "  'alphabets' : {'A' : 0, 'C' : 1, 'G' : 2, 'T' : 3, 'N' : 4, 'M' : 5},\n",
        "  'missing_letter' : 'N',\n",
        "  'mask_letter' : 'M',\n",
        "  'max_expression_value' : 17,\n",
        "  'head_len' : 17,\n",
        "  'tail_len' : 13,\n",
        "}\n",
        "ARGS['remote_data_dir'] = 'https://s3.msi.umn.edu/gongx030/projects/dream_PGE/training_data/pct_ds=' + str(ARGS['pct_ds']) + '/'\n",
        "ARGS['local_data_dir'] = re.sub('https://', './', ARGS['remote_data_dir'])"
      ],
      "metadata": {
        "id": "D0pjVLfcfMl7"
      },
      "execution_count": null,
      "outputs": []
    },
    {
      "cell_type": "markdown",
      "source": [
        "## Prepare data"
      ],
      "metadata": {
        "id": "fS2lvM1DUCPX"
      }
    },
    {
      "cell_type": "code",
      "source": [
        "remote_train_file ='https://s3.msi.umn.edu/gongx030/projects/dream_PGE/train_sequences.txt.gz'\n",
        "local_train_file = re.sub('https://', './', remote_train_file)\n",
        "os.system('wget -cx ' + remote_train_file)"
      ],
      "metadata": {
        "colab": {
          "base_uri": "https://localhost:8080/"
        },
        "id": "MA1UJzmL6Uze",
        "outputId": "313ef601-6e8b-4cec-cf30-00806612f6ae"
      },
      "execution_count": null,
      "outputs": [
        {
          "output_type": "stream",
          "name": "stderr",
          "text": [
            "--2022-07-15 09:19:04--  https://s3.msi.umn.edu/gongx030/projects/dream_PGE/train_sequences.txt.gz\n",
            "Resolving s3.msi.umn.edu (s3.msi.umn.edu)... 128.101.189.144\n",
            "Connecting to s3.msi.umn.edu (s3.msi.umn.edu)|128.101.189.144|:443... connected.\n",
            "HTTP request sent, awaiting response... 416 Requested Range Not Satisfiable\n",
            "\n",
            "    The file is already fully retrieved; nothing to do.\n",
            "\n"
          ]
        },
        {
          "output_type": "execute_result",
          "data": {
            "text/plain": [
              "0"
            ]
          },
          "metadata": {},
          "execution_count": 4
        }
      ]
    },
    {
      "cell_type": "code",
      "source": [
        "df = pd.read_csv(local_train_file, compression = 'gzip', sep = '\\t', header = None)\n",
        "df.columns = ['dna', 'expression']\n",
        "df['dna'] = df['dna'].astype('string')"
      ],
      "metadata": {
        "id": "_TlPaP1_7ONn"
      },
      "execution_count": null,
      "outputs": []
    },
    {
      "cell_type": "code",
      "source": [
        "n = int(len(df) * ARGS['pct_ds'])\n",
        "print('downsampled dataset size: %d' % (n))"
      ],
      "metadata": {
        "colab": {
          "base_uri": "https://localhost:8080/"
        },
        "id": "DD9RJUQA8Il9",
        "outputId": "e331f058-a1f4-4bb6-d91a-e41593a8aa93"
      },
      "execution_count": null,
      "outputs": [
        {
          "output_type": "stream",
          "name": "stdout",
          "text": [
            "downsampled dataset size: 6739258\n"
          ]
        }
      ]
    },
    {
      "cell_type": "code",
      "source": [
        "df = df.sample(n = n, random_state = 1)"
      ],
      "metadata": {
        "id": "LS_f22Rm8zA7"
      },
      "execution_count": null,
      "outputs": []
    },
    {
      "cell_type": "code",
      "source": [
        "df['len'] = df['dna'].str.len()"
      ],
      "metadata": {
        "id": "Jl1G5ANbGgj3"
      },
      "execution_count": null,
      "outputs": []
    },
    {
      "cell_type": "code",
      "source": [
        "plt.hist(df['len'])\n",
        "print('min len: {}'.format(df['len'].min()))\n",
        "print('max len: {}'.format(df['len'].max()))"
      ],
      "metadata": {
        "id": "UTFHh9G3GhbF",
        "outputId": "5f7baffc-281f-4e40-bc4d-e05394ffa25b",
        "colab": {
          "base_uri": "https://localhost:8080/",
          "height": 312
        }
      },
      "execution_count": null,
      "outputs": [
        {
          "output_type": "stream",
          "name": "stdout",
          "text": [
            "min len: 78\n",
            "max len: 142\n"
          ]
        },
        {
          "output_type": "display_data",
          "data": {
            "text/plain": [
              "<Figure size 432x288 with 1 Axes>"
            ],
            "image/png": "[encoded data removed]"
          },
          "metadata": {
            "needs_background": "light"
          }
        }
      ]
    },
    {
      "cell_type": "code",
      "source": [
        "print('number of unique sequences in the first {} positions: {}'.format(ARGS['head_len'], len(df['dna'].str[:ARGS['head_len']].unique())))"
      ],
      "metadata": {
        "colab": {
          "base_uri": "https://localhost:8080/"
        },
        "id": "4YTFktofBgOa",
        "outputId": "46194ead-ba14-43a9-bd4d-672bf1c636da"
      },
      "execution_count": null,
      "outputs": [
        {
          "output_type": "stream",
          "name": "stdout",
          "text": [
            "number of unique sequences in the first 17 positions: 1\n"
          ]
        }
      ]
    },
    {
      "cell_type": "code",
      "source": [
        "print('number of unique sequences in the last {} positions: {}'.format(ARGS['tail_len'], len(df['dna'].str[-ARGS['tail_len']:].unique())))"
      ],
      "metadata": {
        "colab": {
          "base_uri": "https://localhost:8080/"
        },
        "id": "wF1HTXmRFT3_",
        "outputId": "a744cfab-7680-442e-ad18-a6165e15cd82"
      },
      "execution_count": null,
      "outputs": [
        {
          "output_type": "stream",
          "name": "stdout",
          "text": [
            "number of unique sequences in the last 13 positions: 1\n"
          ]
        }
      ]
    },
    {
      "cell_type": "code",
      "source": [
        "df['dna'] = df['dna'].str[ARGS['head_len']:]\n",
        "df['dna'] = df['dna'].str[:-ARGS['tail_len']]"
      ],
      "metadata": {
        "id": "5DinLJpsD-VH"
      },
      "execution_count": null,
      "outputs": []
    },
    {
      "cell_type": "code",
      "source": [
        "df['len'] = df['dna'].str.len()\n",
        "plt.hist(df['len'])\n",
        "print('min len: {}'.format(df['len'].min()))\n",
        "print('max len: {}'.format(df['len'].max()))"
      ],
      "metadata": {
        "colab": {
          "base_uri": "https://localhost:8080/",
          "height": 312
        },
        "id": "xC_9TprOF7h0",
        "outputId": "e509eb58-03da-48be-b970-faedfbb15d5c"
      },
      "execution_count": null,
      "outputs": [
        {
          "output_type": "stream",
          "name": "stdout",
          "text": [
            "min len: 48\n",
            "max len: 112\n"
          ]
        },
        {
          "output_type": "display_data",
          "data": {
            "text/plain": [
              "<Figure size 432x288 with 1 Axes>"
            ],
            "image/png": "[encoded data removed]"
          },
          "metadata": {
            "needs_background": "light"
          }
        }
      ]
    },
    {
      "cell_type": "code",
      "source": [
        "print('removing {} samples which length is greater than {}'.format(len(df[df['len'] > ARGS['max_width']]), ARGS['max_width']))"
      ],
      "metadata": {
        "id": "txa3bpDMJbK8",
        "outputId": "092da46f-7b8a-4d08-ae45-20defd880b19",
        "colab": {
          "base_uri": "https://localhost:8080/"
        }
      },
      "execution_count": null,
      "outputs": [
        {
          "output_type": "stream",
          "name": "stdout",
          "text": [
            "removing 1690 samples which length is greater than 100\n"
          ]
        }
      ]
    },
    {
      "cell_type": "code",
      "source": [
        "df = df[df['len'] <= ARGS['max_width']]"
      ],
      "metadata": {
        "id": "Tii7vwx1GH7k"
      },
      "execution_count": null,
      "outputs": []
    },
    {
      "cell_type": "code",
      "source": [
        "print('dataset size: %d' % (len(df)))"
      ],
      "metadata": {
        "id": "TwHn9fxOKFA8",
        "outputId": "584a306d-16ab-4d4b-eccd-214685a6192d",
        "colab": {
          "base_uri": "https://localhost:8080/"
        }
      },
      "execution_count": null,
      "outputs": [
        {
          "output_type": "stream",
          "name": "stdout",
          "text": [
            "dataset size: 6737568\n"
          ]
        }
      ]
    },
    {
      "cell_type": "code",
      "source": [
        "df['dna'] = df['dna'].str.pad(width = ARGS['max_width'], side = 'both', fillchar = 'N')\n",
        "df['dna'] = df['dna'] + df['dna'].apply(lambda x: str(Seq(x).reverse_complement())).astype('string')"
      ],
      "metadata": {
        "id": "htzBWvQ5_2I0"
      },
      "execution_count": null,
      "outputs": []
    },
    {
      "cell_type": "code",
      "source": [
        "n_positions = int(ARGS['max_width'] * 2)\n",
        "print('# positions=%d' % (n_positions))"
      ],
      "metadata": {
        "colab": {
          "base_uri": "https://localhost:8080/"
        },
        "id": "mUP7Y4QrGYRA",
        "outputId": "fe105fc1-55cc-45e9-cb29-87fb8c074bf7"
      },
      "execution_count": null,
      "outputs": [
        {
          "output_type": "stream",
          "name": "stdout",
          "text": [
            "# positions=200\n"
          ]
        }
      ]
    },
    {
      "cell_type": "code",
      "source": [
        "#dna = df['dna'].apply(list) # this will eat up all memory even on the high mem instance\n",
        "dna = np.empty((0, n_positions), np.uint8)\n",
        "for x in np.array_split(df['dna'], 10): # split data into chunks\n",
        "  y = np.array(x.apply(list))\n",
        "  y = np.vstack(y)\n",
        "  y = np.vectorize(ARGS['alphabets'].get)(y)\n",
        "  y = y.astype(np.uint8)\n",
        "  print(y.shape)\n",
        "  dna = np.append(dna, y, axis = 0)"
      ],
      "metadata": {
        "colab": {
          "base_uri": "https://localhost:8080/"
        },
        "id": "zDk9G1wphjZ4",
        "outputId": "1d17c79d-b58d-4909-d2fd-ac8c3b54e6ea"
      },
      "execution_count": null,
      "outputs": [
        {
          "output_type": "stream",
          "name": "stdout",
          "text": [
            "(673757, 200)\n",
            "(673757, 200)\n",
            "(673757, 200)\n",
            "(673757, 200)\n",
            "(673757, 200)\n",
            "(673757, 200)\n",
            "(673757, 200)\n",
            "(673757, 200)\n",
            "(673756, 200)\n",
            "(673756, 200)\n"
          ]
        }
      ]
    },
    {
      "cell_type": "code",
      "source": [
        "input_dim = int(5) # A,C,G,T,N"
      ],
      "metadata": {
        "id": "sIKQ9hwS3SaX"
      },
      "execution_count": null,
      "outputs": []
    },
    {
      "cell_type": "code",
      "source": [
        "expression = df['expression'].to_numpy()\n",
        "expression_std = np.std(expression)\n",
        "expression_mean = np.mean(expression)\n",
        "expression = (expression - expression_mean) / expression_std\n",
        "expression = tf.cast(expression, tf.float32)"
      ],
      "metadata": {
        "id": "MKSQ_CVENDXu",
        "outputId": "41961bfb-27b8-4b77-e176-6da082d025d7",
        "colab": {
          "base_uri": "https://localhost:8080/"
        }
      },
      "execution_count": null,
      "outputs": [
        {
          "output_type": "stream",
          "name": "stderr",
          "text": [
            "2022-07-15 09:31:05.843425: I tensorflow/core/platform/cpu_feature_guard.cc:142] This TensorFlow binary is optimized with oneAPI Deep Neural Network Library (oneDNN) to use the following CPU instructions in performance-critical operations:  AVX2 FMA\n",
            "To enable them in other operations, rebuild TensorFlow with the appropriate compiler flags.\n",
            "2022-07-15 09:31:07.862011: I tensorflow/core/common_runtime/gpu/gpu_device.cc:1510] Created device /job:localhost/replica:0/task:0/device:GPU:0 with 37711 MB memory:  -> device: 0, name: NVIDIA A100-SXM4-40GB, pci bus id: 0000:06:00.0, compute capability: 8.0\n",
            "2022-07-15 09:31:07.863555: I tensorflow/core/common_runtime/gpu/gpu_device.cc:1510] Created device /job:localhost/replica:0/task:0/device:GPU:1 with 37711 MB memory:  -> device: 1, name: NVIDIA A100-SXM4-40GB, pci bus id: 0000:47:00.0, compute capability: 8.0\n",
            "2022-07-15 09:31:07.864972: I tensorflow/core/common_runtime/gpu/gpu_device.cc:1510] Created device /job:localhost/replica:0/task:0/device:GPU:2 with 37711 MB memory:  -> device: 2, name: NVIDIA A100-SXM4-40GB, pci bus id: 0000:85:00.0, compute capability: 8.0\n",
            "2022-07-15 09:31:07.866308: I tensorflow/core/common_runtime/gpu/gpu_device.cc:1510] Created device /job:localhost/replica:0/task:0/device:GPU:3 with 37711 MB memory:  -> device: 3, name: NVIDIA A100-SXM4-40GB, pci bus id: 0000:c7:00.0, compute capability: 8.0\n"
          ]
        }
      ]
    },
    {
      "cell_type": "code",
      "source": [
        "base = np.zeros(dna.shape, dtype = np.uint8)\n",
        "base[dna == 4] = 0 #\n",
        "base[(dna == 0) | (dna == 2)] = 1 # A/G\n",
        "base[(dna == 1) | (dna == 3)] = 2 # C/T"
      ],
      "metadata": {
        "id": "oWaK9KlP0vvE"
      },
      "execution_count": null,
      "outputs": []
    },
    {
      "cell_type": "code",
      "source": [
        "ds = tf.data.Dataset.from_tensor_slices({\n",
        "    'seq' : dna,\n",
        "    'expression' : expression,\n",
        "    'base' : base,\n",
        "})"
      ],
      "metadata": {
        "id": "sHJqJuAZWw1A"
      },
      "execution_count": null,
      "outputs": []
    },
    {
      "cell_type": "code",
      "source": [
        "print('writing data to {}'.format(ARGS['local_data_dir']))\n",
        "tf.data.experimental.save(ds, ARGS['local_data_dir'])"
      ],
      "metadata": {
        "id": "hg76LMWys3Vp",
        "colab": {
          "base_uri": "https://localhost:8080/"
        },
        "outputId": "c3a4cf22-4df4-454c-f00a-3e74b943e58c"
      },
      "execution_count": null,
      "outputs": [
        {
          "output_type": "stream",
          "name": "stdout",
          "text": [
            "writing data to ./s3.msi.umn.edu/gongx030/projects/dream_PGE/training_data/pct_ds=1/\n"
          ]
        },
        {
          "output_type": "stream",
          "name": "stderr",
          "text": [
            "2022-07-15 09:31:21.810099: I tensorflow/compiler/mlir/mlir_graph_optimization_pass.cc:185] None of the MLIR Optimization Passes are enabled (registered 2)\n"
          ]
        }
      ]
    },
    {
      "cell_type": "markdown",
      "source": [
        "Note that to load a previously saved dataset, you need to specify element_spec -- a type signature of the elements of the saved dataset, which can be obtained via tf.data.Dataset.element_spec. This requirement exists so that shape inference of the loaded dataset does not need to perform I/O."
      ],
      "metadata": {
        "id": "DFZLScTo0OMc"
      }
    },
    {
      "cell_type": "code",
      "source": [
        "ds.element_spec"
      ],
      "metadata": {
        "colab": {
          "base_uri": "https://localhost:8080/"
        },
        "id": "1SJH-JDJz0cv",
        "outputId": "b81d52f6-95fd-4d6b-f0a5-b340962c8ae4"
      },
      "execution_count": null,
      "outputs": [
        {
          "output_type": "execute_result",
          "data": {
            "text/plain": [
              "{'seq': TensorSpec(shape=(200,), dtype=tf.uint8, name=None),\n",
              " 'expression': TensorSpec(shape=(), dtype=tf.float32, name=None),\n",
              " 'base': TensorSpec(shape=(200,), dtype=tf.uint8, name=None)}"
            ]
          },
          "metadata": {},
          "execution_count": 25
        }
      ]
    },
    {
      "cell_type": "markdown",
      "source": [
        "# SessionInfo"
      ],
      "metadata": {
        "id": "h6z-1F1D4owK"
      }
    },
    {
      "cell_type": "code",
      "source": [
        "session_info.show()"
      ],
      "metadata": {
        "id": "53wVoagb4tD8",
        "colab": {
          "base_uri": "https://localhost:8080/",
          "height": 34
        },
        "outputId": "e88dbe44-3db0-4a11-b028-9e5a75b80247"
      },
      "execution_count": null,
      "outputs": [
        {
          "output_type": "execute_result",
          "data": {
            "text/plain": [
              "<IPython.core.display.HTML object>"
            ],
            "text/html": [
              "<details>\n",
              "<summary>Click to view session information</summary>\n",
              "<pre>\n",
              "-----\n",
              "Bio                         1.79\n",
              "keras                       2.6.0\n",
              "matplotlib                  3.5.2\n",
              "numpy                       1.19.5\n",
              "pandas                      1.3.5\n",
              "scipy                       1.7.3\n",
              "session_info                1.0.0\n",
              "sklearn                     1.0.2\n",
              "tensorflow                  2.6.0\n",
              "tensorflow_probability      0.14.1\n",
              "-----\n",
              "</pre>\n",
              "<details>\n",
              "<summary>Click to view modules imported as dependencies</summary>\n",
              "<pre>\n",
              "2f7ece400a652629565c523b34ee61b04afa385c    NA\n",
              "PIL                                         9.1.1\n",
              "absl                                        NA\n",
              "astunparse                                  1.6.3\n",
              "backcall                                    0.2.0\n",
              "beta_ufunc                                  NA\n",
              "binom_ufunc                                 NA\n",
              "cached_property                             1.5.2\n",
              "certifi                                     2022.06.15\n",
              "cffi                                        1.15.0\n",
              "charset_normalizer                          2.0.12\n",
              "cloudpickle                                 2.1.0\n",
              "cycler                                      0.10.0\n",
              "cython_runtime                              NA\n",
              "dateutil                                    2.8.2\n",
              "debugpy                                     1.6.0\n",
              "decorator                                   5.1.1\n",
              "defusedxml                                  0.7.1\n",
              "entrypoints                                 0.4\n",
              "flatbuffers                                 NA\n",
              "gast                                        NA\n",
              "google                                      NA\n",
              "h5py                                        3.1.0\n",
              "idna                                        3.3\n",
              "importlib_metadata                          NA\n",
              "ipykernel                                   6.15.0\n",
              "ipython_genutils                            0.2.0\n",
              "jedi                                        0.18.1\n",
              "joblib                                      1.1.0\n",
              "keras_preprocessing                         1.1.2\n",
              "kiwisolver                                  1.4.3\n",
              "matplotlib_inline                           NA\n",
              "mpl_toolkits                                NA\n",
              "nbinom_ufunc                                NA\n",
              "opt_einsum                                  v3.3.0\n",
              "packaging                                   21.3\n",
              "parso                                       0.8.3\n",
              "pexpect                                     4.8.0\n",
              "pickleshare                                 0.7.5\n",
              "pkg_resources                               NA\n",
              "prompt_toolkit                              3.0.29\n",
              "psutil                                      5.9.1\n",
              "ptyprocess                                  0.7.0\n",
              "pydev_ipython                               NA\n",
              "pydevconsole                                NA\n",
              "pydevd                                      2.8.0\n",
              "pydevd_file_utils                           NA\n",
              "pydevd_plugins                              NA\n",
              "pydevd_tracing                              NA\n",
              "pygments                                    2.12.0\n",
              "pyparsing                                   3.0.9\n",
              "pytz                                        2022.1\n",
              "requests                                    2.28.0\n",
              "setuptools                                  62.3.4\n",
              "six                                         1.15.0\n",
              "storemagic                                  NA\n",
              "tensorboard                                 2.9.1\n",
              "termcolor                                   1.1.0\n",
              "threadpoolctl                               3.1.0\n",
              "tornado                                     6.1\n",
              "traitlets                                   5.3.0\n",
              "tree                                        0.1.7\n",
              "typing_extensions                           NA\n",
              "urllib3                                     1.26.9\n",
              "wcwidth                                     0.2.5\n",
              "wrapt                                       1.12.1\n",
              "zipp                                        NA\n",
              "zmq                                         23.1.0\n",
              "</pre>\n",
              "</details> <!-- seems like this ends pre, so might as well be explicit -->\n",
              "<pre>\n",
              "-----\n",
              "IPython             7.34.0\n",
              "jupyter_client      7.3.4\n",
              "jupyter_core        4.10.0\n",
              "notebook            6.4.12\n",
              "-----\n",
              "Python 3.7.12 | packaged by conda-forge | (default, Oct 26 2021, 06:08:21) [GCC 9.4.0]\n",
              "Linux-3.10.0-1160.66.1.el7.x86_64-x86_64-with-centos-7.9.2009-Core\n",
              "-----\n",
              "Session information updated at 2022-07-15 09:32\n",
              "</pre>\n",
              "</details>"
            ]
          },
          "metadata": {},
          "execution_count": 26
        }
      ]
    },
    {
      "cell_type": "code",
      "source": [
        ""
      ],
      "metadata": {
        "id": "tFWCf4x-5bTE"
      },
      "execution_count": null,
      "outputs": []
    }
  ]
}