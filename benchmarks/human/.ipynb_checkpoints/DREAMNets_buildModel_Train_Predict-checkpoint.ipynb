{
 "cells": [
  {
   "cell_type": "code",
   "execution_count": 1,
   "id": "3b551ab1-511f-4c44-a494-99aabea838d2",
   "metadata": {},
   "outputs": [
    {
     "name": "stderr",
     "output_type": "stream",
     "text": [
      "/home/muntakimrafi/anaconda3/envs/dream/lib/python3.10/site-packages/tqdm/auto.py:22: TqdmWarning: IProgress not found. Please update jupyter and ipywidgets. See https://ipywidgets.readthedocs.io/en/stable/user_install.html\n",
      "  from .autonotebook import tqdm as notebook_tqdm\n"
     ]
    }
   ],
   "source": [
    "import pandas as pd\n",
    "import torch\n",
    "from tqdm import tqdm\n",
    "import numpy as np\n",
    "import json"
   ]
  },
  {
   "cell_type": "markdown",
   "id": "24ea49c6-9acd-4115-b161-43d79fce0772",
   "metadata": {},
   "source": [
    "# initialize path and variables"
   ]
  },
  {
   "cell_type": "code",
   "execution_count": 24,
   "id": "2ab45982-ffa9-4ce7-8057-fbe7b9f5651d",
   "metadata": {},
   "outputs": [],
   "source": [
    "CUDA_DEVICE_ID = 0\n",
    "TRAIN_DATA_PATH = f\"data/sample_train.txt\"\n",
    "VALID_DATA_PATH = f\"data/sample_valid.txt\"\n",
    "TEST_DATA_PATH = f\"data/sample_test.txt\"\n",
    "\n",
    "MODEL_LOG_DIR = f\"model_weights\"\n",
    "TRAIN_BATCH_SIZE = 32\n",
    "N_PROCS = 4\n",
    "VALID_BATCH_SIZE = 32\n",
    "lr = 0.005 # 0.001 for DREAM-Attn, 0.005 for DREAM-CNN and DREAM-RNN\n",
    "BATCH_PER_EPOCH = len(pd.read_csv(TRAIN_DATA_PATH))//TRAIN_BATCH_SIZE\n",
    "BATCH_PER_VALIDATION = len(pd.read_csv(VALID_DATA_PATH))//TRAIN_BATCH_SIZE\n",
    "SEQ_SIZE = 230\n",
    "NUM_EPOCHS = 5 #80\n",
    "generator = torch.Generator()\n",
    "generator.manual_seed(42)\n",
    "device = torch.device(f\"cuda:{CUDA_DEVICE_ID}\")"
   ]
  },
  {
   "cell_type": "markdown",
   "id": "24657a4b-aa77-4367-8bae-f04fc0d0565a",
   "metadata": {},
   "source": [
    "# Model"
   ]
  },
  {
   "cell_type": "markdown",
   "id": "7f2e0dc4-d71f-4ac5-a557-38d591298f18",
   "metadata": {},
   "source": [
    "### DREAM-RNN"
   ]
  },
  {
   "cell_type": "code",
   "execution_count": 20,
   "id": "e15df589-41fa-45e0-8405-baa16f03c82f",
   "metadata": {},
   "outputs": [
    {
     "name": "stdout",
     "output_type": "stream",
     "text": [
      "==========================================================================================\n",
      "Layer (type:depth-idx)                   Output Shape              Param #\n",
      "==========================================================================================\n",
      "PrixFixeNet                              [1, 1]                    --\n",
      "├─BHIFirstLayersBlock: 1-1               --                        --\n",
      "│    └─ModuleList: 2-1                   --                        --\n",
      "│    │    └─ConvBlock: 3-1               [1, 160, 230]             7,360\n",
      "│    │    └─ConvBlock: 3-2               [1, 160, 230]             12,160\n",
      "├─BHICoreBlock: 1-2                      --                        --\n",
      "│    └─LSTM: 2-2                         [1, 230, 640]             1,643,520\n",
      "│    └─ModuleList: 2-3                   --                        --\n",
      "│    │    └─ConvBlock: 3-3               [1, 160, 230]             921,760\n",
      "│    │    └─ConvBlock: 3-4               [1, 160, 230]             1,536,160\n",
      "│    └─Dropout: 2-4                      [1, 320, 230]             --\n",
      "├─AutosomeFinalLayersBlock: 1-3          --                        --\n",
      "│    └─Conv1d: 2-5                       [1, 256, 230]             82,176\n",
      "│    └─Sequential: 2-6                   [1, 1]                    --\n",
      "│    │    └─Linear: 3-5                  [1, 1]                    257\n",
      "==========================================================================================\n",
      "Total params: 4,203,393\n",
      "Trainable params: 4,203,393\n",
      "Non-trainable params: 0\n",
      "Total mult-adds (M): 966.72\n",
      "==========================================================================================\n",
      "Input size (MB): 0.00\n",
      "Forward/backward pass size (MB): 2.83\n",
      "Params size (MB): 16.81\n",
      "Estimated Total Size (MB): 19.64\n",
      "==========================================================================================\n"
     ]
    }
   ],
   "source": [
    "from prixfixe.autosome import AutosomeFinalLayersBlock\n",
    "from prixfixe.bhi import BHIFirstLayersBlock\n",
    "from prixfixe.bhi import BHICoreBlock\n",
    "from prixfixe.prixfixe import PrixFixeNet\n",
    "\n",
    "# first = AutosomeFirstLayersBlock(in_channels=5,\n",
    "#                                 out_channels=256, \n",
    "#                                 seqsize=230)\n",
    "first = BHIFirstLayersBlock(\n",
    "            in_channels = 5,\n",
    "            out_channels = 320,\n",
    "            seqsize = 230,\n",
    "            kernel_sizes = [9, 15],\n",
    "            pool_size = 1,\n",
    "            dropout = 0.2\n",
    "        )\n",
    "\n",
    "core = BHICoreBlock(\n",
    "in_channels = first.out_channels,\n",
    "out_channels = 320,\n",
    "seqsize = first.infer_outseqsize(),\n",
    "lstm_hidden_channels = 320,\n",
    "kernel_sizes = [9, 15],\n",
    "pool_size = 1,\n",
    "dropout1 = 0.2,\n",
    "dropout2 = 0.5\n",
    ")\n",
    "\n",
    "final = AutosomeFinalLayersBlock(in_channels=core.out_channels)\n",
    "\n",
    "model = PrixFixeNet(\n",
    "    first=first,\n",
    "    core=core,\n",
    "    final=final,\n",
    "    generator=generator\n",
    ")\n",
    "\n",
    "from torchinfo import summary\n",
    "print(summary(model, (1, 5, 230)))"
   ]
  },
  {
   "cell_type": "markdown",
   "id": "64b54e31-a824-4c45-8238-d8fef0eb27bf",
   "metadata": {},
   "source": [
    "### DREAM-CNN"
   ]
  },
  {
   "cell_type": "code",
   "execution_count": 19,
   "id": "7060bc40-57cc-4930-8047-441c38130306",
   "metadata": {},
   "outputs": [
    {
     "name": "stdout",
     "output_type": "stream",
     "text": [
      "===============================================================================================\n",
      "Layer (type:depth-idx)                        Output Shape              Param #\n",
      "===============================================================================================\n",
      "PrixFixeNet                                   [1, 1]                    --\n",
      "├─BHIFirstLayersBlock: 1-1                    --                        --\n",
      "│    └─ModuleList: 2-1                        --                        --\n",
      "│    │    └─ConvBlock: 3-1                    [1, 160, 230]             7,360\n",
      "│    │    └─ConvBlock: 3-2                    [1, 160, 230]             12,160\n",
      "├─AutosomeCoreBlock: 1-2                      --                        --\n",
      "│    └─ModuleDict: 2-2                        --                        --\n",
      "│    │    └─Sequential: 3-3                   [1, 320, 230]             420,048\n",
      "│    │    └─Sequential: 3-4                   [1, 128, 230]             573,696\n",
      "│    │    └─Sequential: 3-5                   [1, 128, 230]             173,856\n",
      "│    │    └─Sequential: 3-6                   [1, 128, 230]             229,632\n",
      "│    │    └─Sequential: 3-7                   [1, 128, 230]             87,072\n",
      "│    │    └─Sequential: 3-8                   [1, 64, 230]              114,816\n",
      "│    │    └─Sequential: 3-9                   [1, 64, 230]              45,968\n",
      "│    │    └─Sequential: 3-10                  [1, 64, 230]              57,472\n",
      "│    │    └─Sequential: 3-11                  [1, 64, 230]              45,968\n",
      "│    │    └─Sequential: 3-12                  [1, 64, 230]              57,472\n",
      "│    │    └─Sequential: 3-13                  [1, 64, 230]              45,968\n",
      "│    │    └─Sequential: 3-14                  [1, 64, 230]              57,472\n",
      "├─AutosomeFinalLayersBlock: 1-3               --                        --\n",
      "│    └─Conv1d: 2-3                            [1, 256, 230]             16,640\n",
      "│    └─Sequential: 2-4                        [1, 1]                    --\n",
      "│    │    └─Linear: 3-15                      [1, 1]                    257\n",
      "===============================================================================================\n",
      "Total params: 1,945,857\n",
      "Trainable params: 1,945,857\n",
      "Non-trainable params: 0\n",
      "Total mult-adds (M): 408.87\n",
      "===============================================================================================\n",
      "Input size (MB): 0.00\n",
      "Forward/backward pass size (MB): 20.86\n",
      "Params size (MB): 7.78\n",
      "Estimated Total Size (MB): 28.65\n",
      "===============================================================================================\n"
     ]
    }
   ],
   "source": [
    "from prixfixe.autosome import (AutosomeCoreBlock,\n",
    "                      AutosomeFinalLayersBlock)\n",
    "from prixfixe.bhi import BHIFirstLayersBlock\n",
    "from prixfixe.prixfixe import PrixFixeNet\n",
    "\n",
    "first = BHIFirstLayersBlock(\n",
    "            in_channels = 5,\n",
    "            out_channels = 320,\n",
    "            seqsize = 230,\n",
    "            kernel_sizes = [9, 15],\n",
    "            pool_size = 1,\n",
    "            dropout = 0.2\n",
    "        )\n",
    "\n",
    "core = AutosomeCoreBlock(in_channels=first.out_channels,\n",
    "                        out_channels =64,\n",
    "                        seqsize=first.infer_outseqsize())\n",
    "\n",
    "final = AutosomeFinalLayersBlock(in_channels=core.out_channels)\n",
    "\n",
    "model = PrixFixeNet(\n",
    "    first=first,\n",
    "    core=core,\n",
    "    final=final,\n",
    "    generator=generator\n",
    ")\n",
    "\n",
    "from torchinfo import summary\n",
    "print(summary(model, (1, 5, 230)))"
   ]
  },
  {
   "cell_type": "markdown",
   "id": "996a45d3-dc56-49cc-b5b1-e9f32583178c",
   "metadata": {},
   "source": [
    "### DREAM-Attn"
   ]
  },
  {
   "cell_type": "code",
   "execution_count": 18,
   "id": "5c3f9bf3-4122-4b32-b9b0-a442cdc2cd33",
   "metadata": {},
   "outputs": [
    {
     "name": "stdout",
     "output_type": "stream",
     "text": [
      "===============================================================================================\n",
      "Layer (type:depth-idx)                        Output Shape              Param #\n",
      "===============================================================================================\n",
      "PrixFixeNet                                   [1, 1]                    --\n",
      "├─AutosomeFirstLayersBlock: 1-1               --                        --\n",
      "│    └─Sequential: 2-1                        [1, 256, 230]             --\n",
      "│    │    └─Conv1d: 3-1                       [1, 256, 230]             8,960\n",
      "│    │    └─BatchNorm1d: 3-2                  [1, 256, 230]             512\n",
      "│    │    └─SiLU: 3-3                         [1, 256, 230]             --\n",
      "├─UnlockDNACoreBlock: 1-2                     --                        --\n",
      "│    └─Embedding: 2-2                         [1, 230, 256]             58,880\n",
      "│    └─ModuleList: 2-3                        --                        --\n",
      "│    │    └─ConformerSASwiGLULayer: 3-4       [1, 256, 230]             1,121,280\n",
      "│    │    └─ConformerSASwiGLULayer: 3-5       [1, 256, 230]             1,121,280\n",
      "│    │    └─ConformerSASwiGLULayer: 3-6       [1, 256, 230]             1,121,280\n",
      "│    │    └─ConformerSASwiGLULayer: 3-7       [1, 256, 230]             1,121,280\n",
      "├─AutosomeFinalLayersBlock: 1-3               --                        --\n",
      "│    └─Conv1d: 2-4                            [1, 256, 230]             65,792\n",
      "│    └─Sequential: 2-5                        [1, 1]                    --\n",
      "│    │    └─Linear: 3-8                       [1, 1]                    257\n",
      "===============================================================================================\n",
      "Total params: 4,619,521\n",
      "Trainable params: 4,619,521\n",
      "Non-trainable params: 0\n",
      "Total mult-adds (M): 84.47\n",
      "===============================================================================================\n",
      "Input size (MB): 0.00\n",
      "Forward/backward pass size (MB): 32.03\n",
      "Params size (MB): 14.27\n",
      "Estimated Total Size (MB): 46.30\n",
      "===============================================================================================\n"
     ]
    }
   ],
   "source": [
    "from prixfixe.autosome import (\n",
    "                      AutosomeFirstLayersBlock,\n",
    "                      AutosomeFinalLayersBlock)\n",
    "from prixfixe.unlockdna import UnlockDNACoreBlock\n",
    "from prixfixe.prixfixe import PrixFixeNet\n",
    "\n",
    "first = AutosomeFirstLayersBlock(in_channels=5,\n",
    "                                out_channels=256, \n",
    "                                seqsize=230)\n",
    "core = UnlockDNACoreBlock(\n",
    "    in_channels = first.out_channels, out_channels= first.out_channels, seqsize = 230, \n",
    "    n_blocks = 4,kernel_size = 15, rate = 0.1, num_heads = 8)\n",
    "\n",
    "final = AutosomeFinalLayersBlock(in_channels=core.out_channels)\n",
    "\n",
    "model = PrixFixeNet(\n",
    "    first=first,\n",
    "    core=core,\n",
    "    final=final,\n",
    "    generator=generator\n",
    ")\n",
    "\n",
    "from torchinfo import summary\n",
    "print(summary(model, (1, 5, 230)))"
   ]
  },
  {
   "cell_type": "markdown",
   "id": "37e386b7-9b63-47c5-8707-4fa80c5c3d10",
   "metadata": {},
   "source": [
    "# DataProcessor"
   ]
  },
  {
   "cell_type": "code",
   "execution_count": 15,
   "id": "517b4726-d269-47ce-b044-eea59e891f19",
   "metadata": {},
   "outputs": [],
   "source": [
    "from prixfixe.autosome import AutosomeDataProcessor\n",
    "\n",
    "dataprocessor = AutosomeDataProcessor(\n",
    "    path_to_training_data=TRAIN_DATA_PATH,\n",
    "    path_to_validation_data=VALID_DATA_PATH,\n",
    "    train_batch_size=TRAIN_BATCH_SIZE, \n",
    "    batch_per_epoch=BATCH_PER_EPOCH,\n",
    "    train_workers=N_PROCS,\n",
    "    valid_batch_size=VALID_BATCH_SIZE,\n",
    "    valid_workers=N_PROCS,\n",
    "    shuffle_train=True,\n",
    "    shuffle_val=False,\n",
    "    seqsize=SEQ_SIZE,\n",
    "    generator=generator\n",
    ")"
   ]
  },
  {
   "cell_type": "code",
   "execution_count": 16,
   "id": "3531e8cf-3be4-42c0-9ef0-0d6df3557eb3",
   "metadata": {},
   "outputs": [
    {
     "data": {
      "text/plain": [
       "{'x': tensor([[[1., 0., 0.,  ..., 0., 0., 1.],\n",
       "          [0., 1., 1.,  ..., 0., 1., 0.],\n",
       "          [0., 0., 0.,  ..., 1., 0., 0.],\n",
       "          [0., 0., 0.,  ..., 0., 0., 0.],\n",
       "          [0., 0., 0.,  ..., 0., 0., 0.]],\n",
       " \n",
       "         [[1., 0., 0.,  ..., 0., 0., 1.],\n",
       "          [0., 1., 1.,  ..., 0., 1., 0.],\n",
       "          [0., 0., 0.,  ..., 1., 0., 0.],\n",
       "          [0., 0., 0.,  ..., 0., 0., 0.],\n",
       "          [0., 0., 0.,  ..., 0., 0., 0.]],\n",
       " \n",
       "         [[1., 0., 0.,  ..., 0., 0., 1.],\n",
       "          [0., 1., 1.,  ..., 0., 1., 0.],\n",
       "          [0., 0., 0.,  ..., 1., 0., 0.],\n",
       "          [0., 0., 0.,  ..., 0., 0., 0.],\n",
       "          [0., 0., 0.,  ..., 0., 0., 0.]],\n",
       " \n",
       "         ...,\n",
       " \n",
       "         [[1., 0., 0.,  ..., 0., 0., 1.],\n",
       "          [0., 1., 1.,  ..., 0., 1., 0.],\n",
       "          [0., 0., 0.,  ..., 1., 0., 0.],\n",
       "          [0., 0., 0.,  ..., 0., 0., 0.],\n",
       "          [0., 0., 0.,  ..., 0., 0., 0.]],\n",
       " \n",
       "         [[1., 0., 0.,  ..., 0., 0., 1.],\n",
       "          [0., 1., 1.,  ..., 0., 1., 0.],\n",
       "          [0., 0., 0.,  ..., 1., 0., 0.],\n",
       "          [0., 0., 0.,  ..., 0., 0., 0.],\n",
       "          [0., 0., 0.,  ..., 0., 0., 0.]],\n",
       " \n",
       "         [[1., 0., 0.,  ..., 0., 0., 1.],\n",
       "          [0., 1., 1.,  ..., 0., 1., 0.],\n",
       "          [0., 0., 0.,  ..., 1., 0., 0.],\n",
       "          [0., 0., 0.,  ..., 0., 0., 0.],\n",
       "          [0., 0., 0.,  ..., 0., 0., 0.]]]),\n",
       " 'y': tensor([-1.9910,  1.0250, -1.4550, -0.6630, -1.5160, -0.7140,  1.8800, -0.7510,\n",
       "         -1.4860, -1.8650,  0.7630,  0.5480, -0.5600, -1.0510, -0.3280, -1.4230,\n",
       "         -0.2430, -1.5330, -0.0500, -0.5760, -1.9070, -1.0140,  1.2460, -0.8380,\n",
       "         -0.3860, -0.3140, -1.7890, -1.9000,  0.8590, -1.2140, -1.7980, -2.1820])}"
      ]
     },
     "execution_count": 16,
     "metadata": {},
     "output_type": "execute_result"
    }
   ],
   "source": [
    "next(dataprocessor.prepare_train_dataloader())"
   ]
  },
  {
   "cell_type": "markdown",
   "id": "4e0d8249-0ec2-4bda-be7a-4e286e5c7d03",
   "metadata": {},
   "source": [
    "# Trainer"
   ]
  },
  {
   "cell_type": "code",
   "execution_count": 25,
   "id": "325c9a5c-9a92-4cbb-88e6-d2e27ccfd6cf",
   "metadata": {},
   "outputs": [
    {
     "name": "stderr",
     "output_type": "stream",
     "text": [
      "  0%|                                                                                                                                                                                                                                                       | 0/5 [00:00<?, ?it/s]\n",
      "Train epoch:   0%|                                                                                                                                                                                                                                         | 0/31 [00:00<?, ?it/s]\u001b[A\n",
      "Train epoch:  13%|█████████████████████████████                                                                                                                                                                                                    | 4/31 [00:00<00:00, 39.70it/s]\u001b[A\n",
      "Train epoch:  29%|█████████████████████████████████████████████████████████████████▎                                                                                                                                                               | 9/31 [00:00<00:00, 42.63it/s]\u001b[A\n",
      "Train epoch:  45%|█████████████████████████████████████████████████████████████████████████████████████████████████████▏                                                                                                                          | 14/31 [00:00<00:00, 43.55it/s]\u001b[A\n",
      "Train epoch:  61%|█████████████████████████████████████████████████████████████████████████████████████████████████████████████████████████████████████████▎                                                                                      | 19/31 [00:00<00:00, 45.22it/s]\u001b[A\n",
      "Train epoch:  77%|█████████████████████████████████████████████████████████████████████████████████████████████████████████████████████████████████████████████████████████████████████████████▍                                                  | 24/31 [00:00<00:00, 44.67it/s]\u001b[A\n",
      "Train epoch:  94%|█████████████████████████████████████████████████████████████████████████████████████████████████████████████████████████████████████████████████████████████████████████████████████████████████████████████████▌              | 29/31 [00:00<00:00, 44.74it/s]\u001b[A\n",
      " 20%|███████████████████████████████████████████████▊                                                                                                                                                                                               | 1/5 [00:01<00:04,  1.21s/it]\u001b[A"
     ]
    },
    {
     "name": "stdout",
     "output_type": "stream",
     "text": [
      "{'MSE': 1.2480043172836304, 'pearsonr': 0.1970202433423603, 'spearmanr': 0.15264720579640567}\n"
     ]
    },
    {
     "name": "stderr",
     "output_type": "stream",
     "text": [
      "\n",
      "Train epoch:   0%|                                                                                                                                                                                                                                         | 0/31 [00:00<?, ?it/s]\u001b[A\n",
      "Train epoch:   6%|██████████████▌                                                                                                                                                                                                                  | 2/31 [00:00<00:03,  8.54it/s]\u001b[A\n",
      "Train epoch:  23%|██████████████████████████████████████████████████▊                                                                                                                                                                              | 7/31 [00:00<00:01, 22.79it/s]\u001b[A\n",
      "Train epoch:  39%|██████████████████████████████████████████████████████████████████████████████████████▋                                                                                                                                         | 12/31 [00:00<00:00, 30.54it/s]\u001b[A\n",
      "Train epoch:  55%|██████████████████████████████████████████████████████████████████████████████████████████████████████████████████████████▊                                                                                                     | 17/31 [00:00<00:00, 35.06it/s]\u001b[A\n",
      "Train epoch:  71%|██████████████████████████████████████████████████████████████████████████████████████████████████████████████████████████████████████████████████████████████▉                                                                 | 22/31 [00:00<00:00, 38.26it/s]\u001b[A\n",
      "Train epoch:  87%|███████████████████████████████████████████████████████████████████████████████████████████████████████████████████████████████████████████████████████████████████████████████████████████████████                             | 27/31 [00:00<00:00, 40.17it/s]\u001b[A\n",
      " 40%|███████████████████████████████████████████████████████████████████████████████████████████████▌                                                                                                                                               | 2/5 [00:02<00:03,  1.28s/it]\u001b[A"
     ]
    },
    {
     "name": "stdout",
     "output_type": "stream",
     "text": [
      "{'MSE': 1.2774863243103027, 'pearsonr': 0.19398664925716047, 'spearmanr': 0.1474566402545134}\n"
     ]
    },
    {
     "name": "stderr",
     "output_type": "stream",
     "text": [
      "\n",
      "Train epoch:   0%|                                                                                                                                                                                                                                         | 0/31 [00:00<?, ?it/s]\u001b[A\n",
      "Train epoch:  13%|█████████████████████████████                                                                                                                                                                                                    | 4/31 [00:00<00:01, 13.79it/s]\u001b[A\n",
      "Train epoch:  29%|█████████████████████████████████████████████████████████████████▎                                                                                                                                                               | 9/31 [00:00<00:00, 25.17it/s]\u001b[A\n",
      "Train epoch:  45%|█████████████████████████████████████████████████████████████████████████████████████████████████████▏                                                                                                                          | 14/31 [00:00<00:00, 32.61it/s]\u001b[A\n",
      "Train epoch:  61%|█████████████████████████████████████████████████████████████████████████████████████████████████████████████████████████████████████████▎                                                                                      | 19/31 [00:00<00:00, 37.56it/s]\u001b[A\n",
      "Train epoch:  77%|█████████████████████████████████████████████████████████████████████████████████████████████████████████████████████████████████████████████████████████████████████████████▍                                                  | 24/31 [00:00<00:00, 40.79it/s]\u001b[A\n",
      "Train epoch:  94%|█████████████████████████████████████████████████████████████████████████████████████████████████████████████████████████████████████████████████████████████████████████████████████████████████████████████████▌              | 29/31 [00:00<00:00, 43.14it/s]\u001b[A\n",
      " 60%|███████████████████████████████████████████████████████████████████████████████████████████████████████████████████████████████████████████████▍                                                                                               | 3/5 [00:03<00:02,  1.31s/it]\u001b[A"
     ]
    },
    {
     "name": "stdout",
     "output_type": "stream",
     "text": [
      "{'MSE': 1.2940971851348877, 'pearsonr': 0.21242707416169698, 'spearmanr': 0.16354197362650447}\n"
     ]
    },
    {
     "name": "stderr",
     "output_type": "stream",
     "text": [
      "\n",
      "Train epoch:   0%|                                                                                                                                                                                                                                         | 0/31 [00:00<?, ?it/s]\u001b[A\n",
      "Train epoch:  16%|████████████████████████████████████▎                                                                                                                                                                                            | 5/31 [00:00<00:00, 49.48it/s]\u001b[A\n",
      "Train epoch:  32%|████████████████████████████████████████████████████████████████████████▎                                                                                                                                                       | 10/31 [00:00<00:00, 22.03it/s]\u001b[A\n",
      "Train epoch:  48%|████████████████████████████████████████████████████████████████████████████████████████████████████████████▍                                                                                                                   | 15/31 [00:00<00:00, 29.39it/s]\u001b[A\n",
      "Train epoch:  65%|████████████████████████████████████████████████████████████████████████████████████████████████████████████████████████████████████████████████▌                                                                               | 20/31 [00:00<00:00, 34.55it/s]\u001b[A\n",
      "Train epoch:  81%|████████████████████████████████████████████████████████████████████████████████████████████████████████████████████████████████████████████████████████████████████████████████████▋                                           | 25/31 [00:00<00:00, 38.42it/s]\u001b[A\n",
      "Train epoch:  97%|████████████████████████████████████████████████████████████████████████████████████████████████████████████████████████████████████████████████████████████████████████████████████████████████████████████████████████▊       | 30/31 [00:00<00:00, 41.16it/s]\u001b[A\n",
      " 80%|███████████████████████████████████████████████████████████████████████████████████████████████████████████████████████████████████████████████████████████████████████████████████████████████▏                                               | 4/5 [00:05<00:01,  1.31s/it]\u001b[A"
     ]
    },
    {
     "name": "stdout",
     "output_type": "stream",
     "text": [
      "{'MSE': 1.2423261404037476, 'pearsonr': 0.21628484702898468, 'spearmanr': 0.16665273814644563}\n"
     ]
    },
    {
     "name": "stderr",
     "output_type": "stream",
     "text": [
      "\n",
      "Train epoch:   0%|                                                                                                                                                                                                                                         | 0/31 [00:00<?, ?it/s]\u001b[A\n",
      "Train epoch:  16%|████████████████████████████████████▎                                                                                                                                                                                            | 5/31 [00:00<00:00, 45.81it/s]\u001b[A\n",
      "Train epoch:  32%|████████████████████████████████████████████████████████████████████████▎                                                                                                                                                       | 10/31 [00:00<00:00, 22.98it/s]\u001b[A\n",
      "Train epoch:  48%|████████████████████████████████████████████████████████████████████████████████████████████████████████████▍                                                                                                                   | 15/31 [00:00<00:00, 30.05it/s]\u001b[A\n",
      "Train epoch:  65%|████████████████████████████████████████████████████████████████████████████████████████████████████████████████████████████████████████████████▌                                                                               | 20/31 [00:00<00:00, 35.36it/s]\u001b[A\n",
      "Train epoch:  81%|████████████████████████████████████████████████████████████████████████████████████████████████████████████████████████████████████████████████████████████████████████████████████▋                                           | 25/31 [00:00<00:00, 39.13it/s]\u001b[A\n",
      "Train epoch:  97%|████████████████████████████████████████████████████████████████████████████████████████████████████████████████████████████████████████████████████████████████████████████████████████████████████████████████████████▊       | 30/31 [00:00<00:00, 41.78it/s]\u001b[A\n",
      "100%|███████████████████████████████████████████████████████████████████████████████████████████████████████████████████████████████████████████████████████████████████████████████████████████████████████████████████████████████████████████████| 5/5 [00:06<00:00,  1.31s/it]\u001b[A"
     ]
    },
    {
     "name": "stdout",
     "output_type": "stream",
     "text": [
      "{'MSE': 1.2267858982086182, 'pearsonr': 0.2226401278784797, 'spearmanr': 0.17402848038548505}\n"
     ]
    },
    {
     "name": "stderr",
     "output_type": "stream",
     "text": [
      "\n"
     ]
    }
   ],
   "source": [
    "from prixfixe.autosome import AutosomeTrainer\n",
    "trainer = AutosomeTrainer(\n",
    "    model,\n",
    "    device=torch.device(f\"cuda:{CUDA_DEVICE_ID}\"), \n",
    "    model_dir=MODEL_LOG_DIR,\n",
    "    dataprocessor=dataprocessor,\n",
    "    num_epochs=NUM_EPOCHS,\n",
    "    lr = lr)\n",
    "\n",
    "trainer.fit()"
   ]
  },
  {
   "cell_type": "markdown",
   "id": "be6f541a-0112-4416-8242-c0c9dd55fcc6",
   "metadata": {},
   "source": [
    "# Predict"
   ]
  },
  {
   "cell_type": "code",
   "execution_count": 31,
   "id": "aeb9c210-80c2-41c5-8029-2ef6d5c6342a",
   "metadata": {},
   "outputs": [],
   "source": [
    "model.load_state_dict(torch.load(f\"{MODEL_LOG_DIR}/model_best.pth\"))\n",
    "model.eval()\n",
    "\n",
    "test_df = pd.read_csv(TEST_DATA_PATH, sep='\\t')\n",
    "test_df['rev'] = test_df['seq_id'].str.contains('_Reversed:').astype(int)\n",
    "\n",
    "def one_hot_encode(seq):\n",
    "    mapping = {'A': [1, 0, 0, 0],\n",
    "            'G': [0, 1, 0, 0],\n",
    "            'C': [0, 0, 1, 0],\n",
    "            'T': [0, 0, 0, 1], \n",
    "            'N': [0, 0, 0, 0]}\n",
    "    return [mapping[base] for base in seq]"
   ]
  },
  {
   "cell_type": "code",
   "execution_count": 32,
   "id": "1838ff2a-feae-47c2-97f3-e25565231db3",
   "metadata": {},
   "outputs": [
    {
     "name": "stderr",
     "output_type": "stream",
     "text": [
      "1000it [00:00, 5655.39it/s]\n",
      "100%|████████████████████████████████████████████████████████████████████████████████████████████████████████████████████████████████████████████████████████████████████████████████████████████████████████████████████████████████████████| 1000/1000 [00:04<00:00, 225.82it/s]\n"
     ]
    }
   ],
   "source": [
    "# One-hot encode sequences and concatenate 'rev' column\n",
    "encoded_seqs = []\n",
    "for i, row in tqdm(test_df.iterrows()):\n",
    "    encoded_seq = one_hot_encode(row['seq'])\n",
    "    rev_value = [row['rev']] * len(encoded_seq)\n",
    "    encoded_seq_with_rev = [list(encoded_base) + [rev] for encoded_base, rev in zip(encoded_seq, rev_value)]\n",
    "    encoded_seqs.append(encoded_seq_with_rev)\n",
    "\n",
    "from tqdm import tqdm\n",
    "pred_expr = []\n",
    "for seq in tqdm(encoded_seqs):\n",
    "    pred = model(torch.tensor(np.array(seq).reshape(1,230,5).transpose(0,2,1), device = device, dtype = torch.float32)) #can also predict on batches to speed up prediction\n",
    "    pred_expr.append(pred.detach().cpu().flatten().tolist())"
   ]
  }
 ],
 "metadata": {
  "kernelspec": {
   "display_name": "Python 3 (ipykernel)",
   "language": "python",
   "name": "python3"
  },
  "language_info": {
   "codemirror_mode": {
    "name": "ipython",
    "version": 3
   },
   "file_extension": ".py",
   "mimetype": "text/x-python",
   "name": "python",
   "nbconvert_exporter": "python",
   "pygments_lexer": "ipython3",
   "version": "3.10.9"
  }
 },
 "nbformat": 4,
 "nbformat_minor": 5
}
