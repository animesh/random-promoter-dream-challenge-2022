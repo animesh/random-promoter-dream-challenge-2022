{
 "cells": [
  {
   "cell_type": "code",
   "execution_count": 1,
   "id": "219dc674-56ec-4792-a96c-1adff0eaf5d3",
   "metadata": {},
   "outputs": [
    {
     "name": "stderr",
     "output_type": "stream",
     "text": [
      "/home/muntakimrafi/anaconda3/envs/dream/lib/python3.10/site-packages/tqdm/auto.py:22: TqdmWarning: IProgress not found. Please update jupyter and ipywidgets. See https://ipywidgets.readthedocs.io/en/stable/user_install.html\n",
      "  from .autonotebook import tqdm as notebook_tqdm\n"
     ]
    }
   ],
   "source": [
    "import pandas as pd\n",
    "import torch\n",
    "from tqdm import tqdm\n",
    "import numpy as np\n",
    "from tqdm import tqdm"
   ]
  },
  {
   "cell_type": "markdown",
   "id": "38215baa-4755-464b-ac4c-0c6c3ad75e0f",
   "metadata": {},
   "source": [
    "# initialize path and varialbes"
   ]
  },
  {
   "cell_type": "code",
   "execution_count": 2,
   "id": "ec424119-0827-48b7-afc7-e7352fcde6b8",
   "metadata": {},
   "outputs": [],
   "source": [
    "TRAIN_DATA_PATH = f\"data/sample_train.txt\"\n",
    "VALID_DATA_PATH = f\"data/sample_val.txt\"\n",
    "TEST_DATA_PATH = f\"data/sample_test.txt\"\n",
    "MODEL_LOG_DIR = f\"model_weight\"\n",
    "TRAIN_BATCH_SIZE = 32\n",
    "N_PROCS = 8\n",
    "VALID_BATCH_SIZE = 32\n",
    "lr = 0.001 #0.005 for DREAM-RNN and DREAM-CNN, 0.001 for DREAM-Attn\n",
    "BATCH_PER_EPOCH = len(pd.read_csv(TRAIN_DATA_PATH))//TRAIN_BATCH_SIZE\n",
    "BATCH_PER_VALIDATION = len(pd.read_csv(VALID_DATA_PATH))//TRAIN_BATCH_SIZE\n",
    "SEQ_SIZE = 249\n",
    "NUM_EPOCHS = 5 #80\n",
    "CUDA_DEVICE_ID = 0\n",
    "generator = torch.Generator()\n",
    "generator.manual_seed(42)\n",
    "device = torch.device(f\"cuda:{CUDA_DEVICE_ID}\")"
   ]
  },
  {
   "cell_type": "markdown",
   "id": "d6ae8f03-a759-40c3-9441-e1f806001853",
   "metadata": {},
   "source": [
    "# Model"
   ]
  },
  {
   "cell_type": "markdown",
   "id": "a0d17e5a-ac0f-4a09-8360-261b0c6ee1ab",
   "metadata": {},
   "source": [
    "### DREAM-RNN"
   ]
  },
  {
   "cell_type": "code",
   "execution_count": 11,
   "id": "e01e99ac-89b7-4672-8e1f-4d5abc55128c",
   "metadata": {},
   "outputs": [
    {
     "name": "stdout",
     "output_type": "stream",
     "text": [
      "==========================================================================================\n",
      "Layer (type:depth-idx)                   Output Shape              Param #\n",
      "==========================================================================================\n",
      "PrixFixeNet                              [1, 1]                    --\n",
      "├─BHIFirstLayersBlock: 1-1               --                        --\n",
      "│    └─ModuleList: 2-1                   --                        --\n",
      "│    │    └─ConvBlock: 3-1               [1, 160, 249]             7,360\n",
      "│    │    └─ConvBlock: 3-2               [1, 160, 249]             12,160\n",
      "├─BHICoreBlock: 1-2                      --                        --\n",
      "│    └─LSTM: 2-2                         [1, 249, 640]             1,643,520\n",
      "│    └─ModuleList: 2-3                   --                        --\n",
      "│    │    └─ConvBlock: 3-3               [1, 160, 249]             921,760\n",
      "│    │    └─ConvBlock: 3-4               [1, 160, 249]             1,536,160\n",
      "│    └─Dropout: 2-4                      [1, 320, 249]             --\n",
      "├─AutosomeFinalLayersBlock: 1-3          --                        --\n",
      "│    └─Conv1d: 2-5                       [1, 256, 249]             82,176\n",
      "│    └─Sequential: 2-6                   [1, 1]                    --\n",
      "│    │    └─Linear: 3-5                  [1, 1]                    257\n",
      "│    └─Conv1d: 2-7                       [1, 256, 249]             82,176\n",
      "│    └─Sequential: 2-8                   [1, 1]                    --\n",
      "│    │    └─Linear: 3-6                  [1, 1]                    257\n",
      "==========================================================================================\n",
      "Total params: 4,285,826\n",
      "Trainable params: 4,285,826\n",
      "Non-trainable params: 0\n",
      "Total mult-adds (G): 1.07\n",
      "==========================================================================================\n",
      "Input size (MB): 0.01\n",
      "Forward/backward pass size (MB): 3.57\n",
      "Params size (MB): 17.14\n",
      "Estimated Total Size (MB): 20.72\n",
      "==========================================================================================\n"
     ]
    }
   ],
   "source": [
    "from prixfixe.autosome import AutosomeFinalLayersBlock\n",
    "from prixfixe.bhi import BHIFirstLayersBlock\n",
    "from prixfixe.bhi import BHICoreBlock\n",
    "from prixfixe.prixfixe import PrixFixeNet\n",
    "\n",
    "first = BHIFirstLayersBlock(\n",
    "            in_channels = 5,\n",
    "            out_channels = 320,\n",
    "            seqsize = 249,\n",
    "            kernel_sizes = [9, 15],\n",
    "            pool_size = 1,\n",
    "            dropout = 0.2\n",
    "        )\n",
    "\n",
    "core = BHICoreBlock(\n",
    "in_channels = first.out_channels,\n",
    "out_channels = 320,\n",
    "seqsize = first.infer_outseqsize(),\n",
    "lstm_hidden_channels = 320,\n",
    "kernel_sizes = [9, 15],\n",
    "pool_size = 1,\n",
    "dropout1 = 0.2,\n",
    "dropout2 = 0.5\n",
    ")\n",
    "\n",
    "final = AutosomeFinalLayersBlock(in_channels=core.out_channels)\n",
    "\n",
    "model = PrixFixeNet(\n",
    "    first=first,\n",
    "    core=core,\n",
    "    final=final,\n",
    "    generator=generator\n",
    ")\n",
    "\n",
    "from torchinfo import summary\n",
    "print(summary(model, (1, 5, 249)))"
   ]
  },
  {
   "cell_type": "markdown",
   "id": "9726f3e6-7254-4dcd-a587-02d824200205",
   "metadata": {},
   "source": [
    "### DREAM-CNN"
   ]
  },
  {
   "cell_type": "code",
   "execution_count": 4,
   "id": "bd5815c4-6f64-4415-8652-64ce06effc26",
   "metadata": {},
   "outputs": [
    {
     "name": "stdout",
     "output_type": "stream",
     "text": [
      "===============================================================================================\n",
      "Layer (type:depth-idx)                        Output Shape              Param #\n",
      "===============================================================================================\n",
      "PrixFixeNet                                   [1, 1]                    --\n",
      "├─BHIFirstLayersBlock: 1-1                    --                        --\n",
      "│    └─ModuleList: 2-1                        --                        --\n",
      "│    │    └─ConvBlock: 3-1                    [1, 160, 249]             7,360\n",
      "│    │    └─ConvBlock: 3-2                    [1, 160, 249]             12,160\n",
      "├─AutosomeCoreBlock: 1-2                      --                        --\n",
      "│    └─ModuleDict: 2-2                        --                        --\n",
      "│    │    └─Sequential: 3-3                   [1, 320, 249]             420,048\n",
      "│    │    └─Sequential: 3-4                   [1, 128, 249]             573,696\n",
      "│    │    └─Sequential: 3-5                   [1, 128, 249]             173,856\n",
      "│    │    └─Sequential: 3-6                   [1, 128, 249]             229,632\n",
      "│    │    └─Sequential: 3-7                   [1, 128, 249]             87,072\n",
      "│    │    └─Sequential: 3-8                   [1, 64, 249]              114,816\n",
      "│    │    └─Sequential: 3-9                   [1, 64, 249]              45,968\n",
      "│    │    └─Sequential: 3-10                  [1, 64, 249]              57,472\n",
      "│    │    └─Sequential: 3-11                  [1, 64, 249]              45,968\n",
      "│    │    └─Sequential: 3-12                  [1, 64, 249]              57,472\n",
      "│    │    └─Sequential: 3-13                  [1, 64, 249]              45,968\n",
      "│    │    └─Sequential: 3-14                  [1, 64, 249]              57,472\n",
      "├─AutosomeFinalLayersBlock: 1-3               --                        --\n",
      "│    └─Conv1d: 2-3                            [1, 256, 249]             16,640\n",
      "│    └─Sequential: 2-4                        [1, 1]                    --\n",
      "│    │    └─Linear: 3-15                      [1, 1]                    257\n",
      "│    └─Conv1d: 2-5                            [1, 256, 249]             16,640\n",
      "│    └─Sequential: 2-6                        [1, 1]                    --\n",
      "│    │    └─Linear: 3-16                      [1, 1]                    257\n",
      "===============================================================================================\n",
      "Total params: 1,962,754\n",
      "Trainable params: 1,962,754\n",
      "Non-trainable params: 0\n",
      "Total mult-adds (M): 446.78\n",
      "===============================================================================================\n",
      "Input size (MB): 0.01\n",
      "Forward/backward pass size (MB): 23.09\n",
      "Params size (MB): 7.85\n",
      "Estimated Total Size (MB): 30.95\n",
      "===============================================================================================\n"
     ]
    }
   ],
   "source": [
    "from prixfixe.autosome import (AutosomeCoreBlock,\n",
    "                      AutosomeFinalLayersBlock)\n",
    "from prixfixe.bhi import BHIFirstLayersBlock\n",
    "from prixfixe.prixfixe import PrixFixeNet\n",
    "\n",
    "first = BHIFirstLayersBlock(\n",
    "            in_channels = 5,\n",
    "            out_channels = 320,\n",
    "            seqsize = 249,\n",
    "            kernel_sizes = [9, 15],\n",
    "            pool_size = 1,\n",
    "            dropout = 0.2\n",
    "        )\n",
    "\n",
    "core = AutosomeCoreBlock(in_channels=first.out_channels,\n",
    "                        out_channels =64,\n",
    "                        seqsize=first.infer_outseqsize())\n",
    "\n",
    "final = AutosomeFinalLayersBlock(in_channels=core.out_channels)\n",
    "\n",
    "model = PrixFixeNet(\n",
    "    first=first,\n",
    "    core=core,\n",
    "    final=final,\n",
    "    generator=generator\n",
    ")\n",
    "\n",
    "from torchinfo import summary\n",
    "print(summary(model, (1, 5, 249)))"
   ]
  },
  {
   "cell_type": "markdown",
   "id": "ed749380-c677-4206-a320-a5a6831232ef",
   "metadata": {},
   "source": [
    "### DREAM-Attn"
   ]
  },
  {
   "cell_type": "code",
   "execution_count": 5,
   "id": "4885f66e-8fbc-4c15-b26b-52a5e9d18081",
   "metadata": {},
   "outputs": [
    {
     "name": "stdout",
     "output_type": "stream",
     "text": [
      "===============================================================================================\n",
      "Layer (type:depth-idx)                        Output Shape              Param #\n",
      "===============================================================================================\n",
      "PrixFixeNet                                   [1, 1]                    --\n",
      "├─AutosomeFirstLayersBlock: 1-1               --                        --\n",
      "│    └─Sequential: 2-1                        [1, 256, 249]             --\n",
      "│    │    └─Conv1d: 3-1                       [1, 256, 249]             8,960\n",
      "│    │    └─BatchNorm1d: 3-2                  [1, 256, 249]             512\n",
      "│    │    └─SiLU: 3-3                         [1, 256, 249]             --\n",
      "├─UnlockDNACoreBlock: 1-2                     --                        --\n",
      "│    └─Embedding: 2-2                         [1, 249, 256]             63,744\n",
      "│    └─ModuleList: 2-3                        --                        --\n",
      "│    │    └─ConformerSASwiGLULayer: 3-4       [1, 256, 249]             1,121,280\n",
      "│    │    └─ConformerSASwiGLULayer: 3-5       [1, 256, 249]             1,121,280\n",
      "│    │    └─ConformerSASwiGLULayer: 3-6       [1, 256, 249]             1,121,280\n",
      "│    │    └─ConformerSASwiGLULayer: 3-7       [1, 256, 249]             1,121,280\n",
      "├─AutosomeFinalLayersBlock: 1-3               --                        --\n",
      "│    └─Conv1d: 2-4                            [1, 256, 249]             65,792\n",
      "│    └─Sequential: 2-5                        [1, 1]                    --\n",
      "│    │    └─Linear: 3-8                       [1, 1]                    257\n",
      "│    └─Conv1d: 2-6                            [1, 256, 249]             65,792\n",
      "│    └─Sequential: 2-7                        [1, 1]                    --\n",
      "│    │    └─Linear: 3-9                       [1, 1]                    257\n",
      "===============================================================================================\n",
      "Total params: 4,690,434\n",
      "Trainable params: 4,690,434\n",
      "Non-trainable params: 0\n",
      "Total mult-adds (M): 107.57\n",
      "===============================================================================================\n",
      "Input size (MB): 0.01\n",
      "Forward/backward pass size (MB): 35.19\n",
      "Params size (MB): 14.55\n",
      "Estimated Total Size (MB): 49.74\n",
      "===============================================================================================\n"
     ]
    }
   ],
   "source": [
    "from prixfixe.autosome import (\n",
    "                      AutosomeFirstLayersBlock,\n",
    "                      AutosomeFinalLayersBlock)\n",
    "from prixfixe.unlockdna import UnlockDNACoreBlock\n",
    "from prixfixe.prixfixe import PrixFixeNet\n",
    "\n",
    "first = AutosomeFirstLayersBlock(in_channels=5,\n",
    "                                out_channels=256, \n",
    "                                seqsize=249)\n",
    "core = UnlockDNACoreBlock(\n",
    "    in_channels = first.out_channels, out_channels= first.out_channels, seqsize = 249, \n",
    "    n_blocks = 4,kernel_size = 15, rate = 0.1, num_heads = 8)\n",
    "\n",
    "final = AutosomeFinalLayersBlock(in_channels=core.out_channels)\n",
    "\n",
    "model = PrixFixeNet(\n",
    "    first=first,\n",
    "    core=core,\n",
    "    final=final,\n",
    "    generator=generator\n",
    ")\n",
    "\n",
    "from torchinfo import summary\n",
    "print(summary(model, (1, 5, 249)))"
   ]
  },
  {
   "cell_type": "markdown",
   "id": "8f2bf156-7a79-43e4-88f8-239243179f34",
   "metadata": {},
   "source": [
    "# DataProcessor"
   ]
  },
  {
   "cell_type": "code",
   "execution_count": 6,
   "id": "77ad8239-21dd-404b-8d99-e94491ac414d",
   "metadata": {},
   "outputs": [],
   "source": [
    "from prixfixe.autosome import AutosomeDataProcessor\n",
    "\n",
    "dataprocessor = AutosomeDataProcessor(\n",
    "    path_to_training_data=TRAIN_DATA_PATH,\n",
    "    path_to_validation_data=VALID_DATA_PATH,\n",
    "    train_batch_size=TRAIN_BATCH_SIZE, \n",
    "    batch_per_epoch=BATCH_PER_EPOCH,\n",
    "    train_workers=N_PROCS,\n",
    "    valid_batch_size=VALID_BATCH_SIZE,\n",
    "    valid_workers=N_PROCS,\n",
    "    shuffle_train=True,\n",
    "    shuffle_val=False,\n",
    "    seqsize=SEQ_SIZE,\n",
    "    generator=generator\n",
    ")"
   ]
  },
  {
   "cell_type": "code",
   "execution_count": 7,
   "id": "4956e85b-a37f-4faf-affc-f3ffd09e5211",
   "metadata": {},
   "outputs": [
    {
     "data": {
      "text/plain": [
       "{'x': tensor([[[1., 1., 1.,  ..., 0., 0., 0.],\n",
       "          [0., 0., 0.,  ..., 0., 0., 0.],\n",
       "          [0., 0., 0.,  ..., 1., 0., 0.],\n",
       "          [0., 0., 0.,  ..., 0., 1., 1.],\n",
       "          [0., 0., 0.,  ..., 0., 0., 0.]],\n",
       " \n",
       "         [[0., 0., 0.,  ..., 1., 1., 1.],\n",
       "          [1., 0., 1.,  ..., 0., 0., 0.],\n",
       "          [0., 1., 0.,  ..., 0., 0., 0.],\n",
       "          [0., 0., 0.,  ..., 0., 0., 0.],\n",
       "          [1., 1., 1.,  ..., 1., 1., 1.]],\n",
       " \n",
       "         [[0., 0., 0.,  ..., 0., 0., 0.],\n",
       "          [1., 0., 1.,  ..., 0., 1., 1.],\n",
       "          [0., 1., 0.,  ..., 0., 0., 0.],\n",
       "          [0., 0., 0.,  ..., 1., 0., 0.],\n",
       "          [1., 1., 1.,  ..., 1., 1., 1.]],\n",
       " \n",
       "         ...,\n",
       " \n",
       "         [[1., 0., 0.,  ..., 1., 0., 0.],\n",
       "          [0., 0., 0.,  ..., 0., 0., 0.],\n",
       "          [0., 0., 1.,  ..., 0., 1., 0.],\n",
       "          [0., 1., 0.,  ..., 0., 0., 1.],\n",
       "          [1., 1., 1.,  ..., 1., 1., 1.]],\n",
       " \n",
       "         [[1., 1., 1.,  ..., 0., 0., 1.],\n",
       "          [0., 0., 0.,  ..., 0., 1., 0.],\n",
       "          [0., 0., 0.,  ..., 0., 0., 0.],\n",
       "          [0., 0., 0.,  ..., 1., 0., 0.],\n",
       "          [1., 1., 1.,  ..., 1., 1., 1.]],\n",
       " \n",
       "         [[0., 0., 0.,  ..., 0., 0., 1.],\n",
       "          [0., 0., 0.,  ..., 1., 0., 0.],\n",
       "          [0., 1., 0.,  ..., 0., 1., 0.],\n",
       "          [1., 0., 1.,  ..., 0., 0., 0.],\n",
       "          [1., 1., 1.,  ..., 1., 1., 1.]]]),\n",
       " 'y': tensor([[ 1.0819,  1.1864],\n",
       "         [-1.7615,  0.9329],\n",
       "         [-2.1104,  0.2415],\n",
       "         [-2.4765, -1.0616],\n",
       "         [ 1.6039,  0.5489],\n",
       "         [ 2.7266,  5.1189],\n",
       "         [ 0.2819, -3.3028],\n",
       "         [ 1.3111, -0.3337],\n",
       "         [-0.7229, -0.6735],\n",
       "         [-2.1104, -0.4231],\n",
       "         [-0.7229, -1.9187],\n",
       "         [-0.2332,  0.2721],\n",
       "         [-0.2706, -1.9429],\n",
       "         [ 0.6445, -1.2840],\n",
       "         [-0.1210,  2.1398],\n",
       "         [ 3.4900,  0.9017],\n",
       "         [-1.0108, -3.5279],\n",
       "         [ 1.2210, -0.4955],\n",
       "         [-2.3190, -1.3090],\n",
       "         [-0.7340, -1.2991],\n",
       "         [ 1.4833,  0.1060],\n",
       "         [ 2.0695,  0.4001],\n",
       "         [-0.2508,  3.2166],\n",
       "         [-1.1040, -0.7365],\n",
       "         [ 0.5335,  0.5408],\n",
       "         [ 1.4639,  0.1826],\n",
       "         [-0.9405,  0.7818],\n",
       "         [ 0.0189, -0.5990],\n",
       "         [ 0.2819,  0.0895],\n",
       "         [ 1.2704,  0.2050],\n",
       "         [-0.3555, -0.2840],\n",
       "         [-1.4259, -1.5470]])}"
      ]
     },
     "execution_count": 7,
     "metadata": {},
     "output_type": "execute_result"
    }
   ],
   "source": [
    "next(dataprocessor.prepare_train_dataloader())"
   ]
  },
  {
   "cell_type": "markdown",
   "id": "a6e50f8d-b3b4-43b8-872f-d368746286d3",
   "metadata": {},
   "source": [
    "# Trainer"
   ]
  },
  {
   "cell_type": "code",
   "execution_count": 8,
   "id": "ee17a3a2-9b3a-4728-ab90-cf3c72bdf0f0",
   "metadata": {},
   "outputs": [
    {
     "name": "stderr",
     "output_type": "stream",
     "text": [
      "  0%|                                                                                                                                                                                                                                                       | 0/5 [00:00<?, ?it/s]\n",
      "Train epoch:   0%|                                                                                                                                                                                                                                         | 0/31 [00:00<?, ?it/s]\u001b[A\n",
      "Train epoch:   3%|███████▎                                                                                                                                                                                                                         | 1/31 [00:00<00:04,  6.21it/s]\u001b[A\n",
      "Train epoch:  13%|█████████████████████████████                                                                                                                                                                                                    | 4/31 [00:00<00:01, 15.16it/s]\u001b[A\n",
      "Train epoch:  23%|██████████████████████████████████████████████████▊                                                                                                                                                                              | 7/31 [00:00<00:01, 19.96it/s]\u001b[A\n",
      "Train epoch:  32%|████████████████████████████████████████████████████████████████████████▎                                                                                                                                                       | 10/31 [00:00<00:00, 22.77it/s]\u001b[A\n",
      "Train epoch:  42%|█████████████████████████████████████████████████████████████████████████████████████████████▉                                                                                                                                  | 13/31 [00:00<00:00, 24.52it/s]\u001b[A\n",
      "Train epoch:  52%|███████████████████████████████████████████████████████████████████████████████████████████████████████████████████▌                                                                                                            | 16/31 [00:00<00:00, 25.55it/s]\u001b[A\n",
      "Train epoch:  61%|█████████████████████████████████████████████████████████████████████████████████████████████████████████████████████████████████████████▎                                                                                      | 19/31 [00:00<00:00, 25.59it/s]\u001b[A\n",
      "Train epoch:  71%|██████████████████████████████████████████████████████████████████████████████████████████████████████████████████████████████████████████████████████████████▉                                                                 | 22/31 [00:00<00:00, 25.90it/s]\u001b[A\n",
      "Train epoch:  81%|████████████████████████████████████████████████████████████████████████████████████████████████████████████████████████████████████████████████████████████████████████████████████▋                                           | 25/31 [00:01<00:00, 26.36it/s]\u001b[A\n",
      "Train epoch:  90%|██████████████████████████████████████████████████████████████████████████████████████████████████████████████████████████████████████████████████████████████████████████████████████████████████████████▎                     | 28/31 [00:01<00:00, 26.69it/s]\u001b[A\n",
      "Train epoch: 100%|████████████████████████████████████████████████████████████████████████████████████████████████████████████████████████████████████████████████████████████████████████████████████████████████████████████████████████████████| 31/31 [00:01<00:00, 26.90it/s]\u001b[A\n",
      " 20%|███████████████████████████████████████████████▊                                                                                                                                                                                               | 1/5 [00:01<00:07,  1.97s/it]\u001b[A\n",
      "Train epoch:   0%|                                                                                                                                                                                                                                         | 0/31 [00:00<?, ?it/s]\u001b[A\n",
      "Train epoch:   6%|██████████████▌                                                                                                                                                                                                                  | 2/31 [00:00<00:04,  7.09it/s]\u001b[A\n",
      "Train epoch:  16%|████████████████████████████████████▎                                                                                                                                                                                            | 5/31 [00:00<00:01, 13.91it/s]\u001b[A\n",
      "Train epoch:  26%|██████████████████████████████████████████████████████████                                                                                                                                                                       | 8/31 [00:00<00:01, 18.33it/s]\u001b[A\n",
      "Train epoch:  35%|███████████████████████████████████████████████████████████████████████████████▍                                                                                                                                                | 11/31 [00:00<00:00, 21.28it/s]\u001b[A\n",
      "Train epoch:  45%|█████████████████████████████████████████████████████████████████████████████████████████████████████▏                                                                                                                          | 14/31 [00:00<00:00, 23.29it/s]\u001b[A\n",
      "Train epoch:  55%|██████████████████████████████████████████████████████████████████████████████████████████████████████████████████████████▊                                                                                                     | 17/31 [00:00<00:00, 24.68it/s]\u001b[A\n",
      "Train epoch:  65%|████████████████████████████████████████████████████████████████████████████████████████████████████████████████████████████████████████████████▌                                                                               | 20/31 [00:00<00:00, 25.64it/s]\u001b[A\n",
      "Train epoch:  74%|██████████████████████████████████████████████████████████████████████████████████████████████████████████████████████████████████████████████████████████████████████▏                                                         | 23/31 [00:01<00:00, 26.21it/s]\u001b[A\n",
      "Train epoch:  84%|███████████████████████████████████████████████████████████████████████████████████████████████████████████████████████████████████████████████████████████████████████████████████████████▊                                    | 26/31 [00:01<00:00, 26.43it/s]\u001b[A\n",
      "Train epoch:  94%|█████████████████████████████████████████████████████████████████████████████████████████████████████████████████████████████████████████████████████████████████████████████████████████████████████████████████▌              | 29/31 [00:01<00:00, 26.77it/s]\u001b[A\n",
      " 40%|███████████████████████████████████████████████████████████████████████████████████████████████▌                                                                                                                                               | 2/5 [00:03<00:05,  1.95s/it]\u001b[A\n",
      "Train epoch:   0%|                                                                                                                                                                                                                                         | 0/31 [00:00<?, ?it/s]\u001b[A\n",
      "Train epoch:  13%|█████████████████████████████                                                                                                                                                                                                    | 4/31 [00:00<00:02, 11.52it/s]\u001b[A\n",
      "Train epoch:  23%|██████████████████████████████████████████████████▊                                                                                                                                                                              | 7/31 [00:00<00:01, 16.51it/s]\u001b[A\n",
      "Train epoch:  32%|████████████████████████████████████████████████████████████████████████▎                                                                                                                                                       | 10/31 [00:00<00:01, 19.92it/s]\u001b[A\n",
      "Train epoch:  42%|█████████████████████████████████████████████████████████████████████████████████████████████▉                                                                                                                                  | 13/31 [00:00<00:00, 22.14it/s]\u001b[A\n",
      "Train epoch:  52%|███████████████████████████████████████████████████████████████████████████████████████████████████████████████████▌                                                                                                            | 16/31 [00:00<00:00, 24.04it/s]\u001b[A\n",
      "Train epoch:  61%|█████████████████████████████████████████████████████████████████████████████████████████████████████████████████████████████████████████▎                                                                                      | 19/31 [00:00<00:00, 25.13it/s]\u001b[A\n",
      "Train epoch:  71%|██████████████████████████████████████████████████████████████████████████████████████████████████████████████████████████████████████████████████████████████▉                                                                 | 22/31 [00:00<00:00, 25.96it/s]\u001b[A\n",
      "Train epoch:  81%|████████████████████████████████████████████████████████████████████████████████████████████████████████████████████████████████████████████████████████████████████████████████████▋                                           | 25/31 [00:01<00:00, 25.95it/s]\u001b[A\n",
      "Train epoch:  90%|██████████████████████████████████████████████████████████████████████████████████████████████████████████████████████████████████████████████████████████████████████████████████████████████████████████▎                     | 28/31 [00:01<00:00, 26.46it/s]\u001b[A\n",
      " 60%|███████████████████████████████████████████████████████████████████████████████████████████████████████████████████████████████████████████████▍                                                                                               | 3/5 [00:05<00:03,  1.90s/it]\u001b[A\n",
      "Train epoch:   0%|                                                                                                                                                                                                                                         | 0/31 [00:00<?, ?it/s]\u001b[A\n",
      "Train epoch:  10%|█████████████████████▊                                                                                                                                                                                                           | 3/31 [00:00<00:01, 27.82it/s]\u001b[A\n",
      "Train epoch:  19%|███████████████████████████████████████████▌                                                                                                                                                                                     | 6/31 [00:00<00:01, 13.09it/s]\u001b[A\n",
      "Train epoch:  29%|█████████████████████████████████████████████████████████████████▎                                                                                                                                                               | 9/31 [00:00<00:01, 17.25it/s]\u001b[A\n",
      "Train epoch:  39%|██████████████████████████████████████████████████████████████████████████████████████▋                                                                                                                                         | 12/31 [00:00<00:00, 20.13it/s]\u001b[A\n",
      "Train epoch:  48%|████████████████████████████████████████████████████████████████████████████████████████████████████████████▍                                                                                                                   | 15/31 [00:00<00:00, 22.35it/s]\u001b[A\n",
      "Train epoch:  58%|██████████████████████████████████████████████████████████████████████████████████████████████████████████████████████████████████                                                                                              | 18/31 [00:00<00:00, 23.99it/s]\u001b[A\n",
      "Train epoch:  68%|███████████████████████████████████████████████████████████████████████████████████████████████████████████████████████████████████████████████████████▋                                                                        | 21/31 [00:00<00:00, 25.08it/s]\u001b[A\n",
      "Train epoch:  77%|█████████████████████████████████████████████████████████████████████████████████████████████████████████████████████████████████████████████████████████████████████████████▍                                                  | 24/31 [00:01<00:00, 25.63it/s]\u001b[A\n",
      "Train epoch:  87%|███████████████████████████████████████████████████████████████████████████████████████████████████████████████████████████████████████████████████████████████████████████████████████████████████                             | 27/31 [00:01<00:00, 26.27it/s]\u001b[A\n",
      "Train epoch:  97%|████████████████████████████████████████████████████████████████████████████████████████████████████████████████████████████████████████████████████████████████████████████████████████████████████████████████████████▊       | 30/31 [00:01<00:00, 26.70it/s]\u001b[A\n",
      " 80%|███████████████████████████████████████████████████████████████████████████████████████████████████████████████████████████████████████████████████████████████████████████████████████████████▏                                               | 4/5 [00:07<00:01,  1.92s/it]\u001b[A\n",
      "Train epoch:   0%|                                                                                                                                                                                                                                         | 0/31 [00:00<?, ?it/s]\u001b[A\n",
      "Train epoch:  10%|█████████████████████▊                                                                                                                                                                                                           | 3/31 [00:00<00:01, 27.51it/s]\u001b[A\n",
      "Train epoch:  19%|███████████████████████████████████████████▌                                                                                                                                                                                     | 6/31 [00:00<00:00, 26.82it/s]\u001b[A\n",
      "Train epoch:  29%|█████████████████████████████████████████████████████████████████▎                                                                                                                                                               | 9/31 [00:00<00:01, 13.79it/s]\u001b[A\n",
      "Train epoch:  39%|██████████████████████████████████████████████████████████████████████████████████████▋                                                                                                                                         | 12/31 [00:00<00:01, 17.01it/s]\u001b[A\n",
      "Train epoch:  48%|████████████████████████████████████████████████████████████████████████████████████████████████████████████▍                                                                                                                   | 15/31 [00:00<00:00, 19.70it/s]\u001b[A\n",
      "Train epoch:  58%|██████████████████████████████████████████████████████████████████████████████████████████████████████████████████████████████████                                                                                              | 18/31 [00:00<00:00, 21.85it/s]\u001b[A\n",
      "Train epoch:  68%|███████████████████████████████████████████████████████████████████████████████████████████████████████████████████████████████████████████████████████▋                                                                        | 21/31 [00:01<00:00, 23.51it/s]\u001b[A\n",
      "Train epoch:  77%|█████████████████████████████████████████████████████████████████████████████████████████████████████████████████████████████████████████████████████████████████████████████▍                                                  | 24/31 [00:01<00:00, 24.64it/s]\u001b[A\n",
      "Train epoch:  87%|███████████████████████████████████████████████████████████████████████████████████████████████████████████████████████████████████████████████████████████████████████████████████████████████████                             | 27/31 [00:01<00:00, 25.41it/s]\u001b[A\n",
      "Train epoch:  97%|████████████████████████████████████████████████████████████████████████████████████████████████████████████████████████████████████████████████████████████████████████████████████████████████████████████████████████▊       | 30/31 [00:01<00:00, 25.60it/s]\u001b[A\n",
      "100%|███████████████████████████████████████████████████████████████████████████████████████████████████████████████████████████████████████████████████████████████████████████████████████████████████████████████████████████████████████████████| 5/5 [00:09<00:00,  1.93s/it]\u001b[A\n"
     ]
    }
   ],
   "source": [
    "from prixfixe.autosome import AutosomeTrainer\n",
    "trainer = AutosomeTrainer(\n",
    "    model,\n",
    "    device=torch.device(f\"cuda:{CUDA_DEVICE_ID}\"), \n",
    "    model_dir=MODEL_LOG_DIR,\n",
    "    dataprocessor=dataprocessor,\n",
    "    num_epochs=NUM_EPOCHS,\n",
    "    lr = lr)\n",
    "\n",
    "trainer.fit()"
   ]
  },
  {
   "cell_type": "markdown",
   "id": "d9d4156b-2c60-4549-996b-76d4c6d82607",
   "metadata": {},
   "source": [
    "# Prediction"
   ]
  },
  {
   "cell_type": "code",
   "execution_count": 9,
   "id": "8af71e21-b3de-4330-99aa-9aac0a36d017",
   "metadata": {},
   "outputs": [],
   "source": [
    "test_df = pd.read_csv(TEST_DATA_PATH, sep='\\t')\n",
    "test_df['rev'] = test_df['ID'].str.contains('\\-_').astype(int)\n",
    "\n",
    "model.load_state_dict(torch.load(f\"{MODEL_LOG_DIR}/model_best_MSE.pth\"))\n",
    "model.eval()\n",
    "\n",
    "def one_hot_encode(seq):\n",
    "    mapping = {'A': [1, 0, 0, 0],\n",
    "            'G': [0, 1, 0, 0],\n",
    "            'C': [0, 0, 1, 0],\n",
    "            'T': [0, 0, 0, 1],\n",
    "            'N': [0, 0, 0, 0]}\n",
    "    return [mapping[base] for base in seq]"
   ]
  },
  {
   "cell_type": "code",
   "execution_count": 10,
   "id": "c13946a7-d113-470c-8d8c-4961aff423cd",
   "metadata": {},
   "outputs": [
    {
     "name": "stderr",
     "output_type": "stream",
     "text": [
      "1000it [00:00, 4750.92it/s]\n",
      "100%|████████████████████████████████████████████████████████████████████████████████████████████████████████████████████████████████████████████████████████████████████████████████████████████████████████████████████████████████████████| 1000/1000 [00:03<00:00, 308.39it/s]\n"
     ]
    }
   ],
   "source": [
    "# One-hot encode sequences and concatenate 'rev' column\n",
    "encoded_seqs = []\n",
    "Y_test_dev = []\n",
    "Y_test_hk = []\n",
    "\n",
    "for i, row in tqdm(test_df.iterrows()):\n",
    "    encoded_seq = one_hot_encode(row['Sequence'])\n",
    "    rev_value = [row['rev']] * len(encoded_seq)\n",
    "    encoded_seq_with_rev = [list(encoded_base) + [rev] for encoded_base, rev in zip(encoded_seq, rev_value)]\n",
    "    encoded_seqs.append(encoded_seq_with_rev)\n",
    "    Y_test_dev.append(row['Dev_log2_enrichment'])\n",
    "    Y_test_hk.append(row['Hk_log2_enrichment'])\n",
    "\n",
    "pred_expr_dev = []\n",
    "pred_expr_hk = []\n",
    "\n",
    "for seq in tqdm(encoded_seqs):\n",
    "    pred = model(torch.tensor(np.array(seq).reshape(1,249,5).transpose(0,2,1), device = device, dtype = torch.float32)) # #can also predict on batches to speed up prediction\n",
    "    pred_expr_dev.append(pred[0].detach().cpu().flatten().tolist())\n",
    "    pred_expr_hk.append(pred[1].detach().cpu().flatten().tolist())"
   ]
  }
 ],
 "metadata": {
  "kernelspec": {
   "display_name": "Python 3 (ipykernel)",
   "language": "python",
   "name": "python3"
  },
  "language_info": {
   "codemirror_mode": {
    "name": "ipython",
    "version": 3
   },
   "file_extension": ".py",
   "mimetype": "text/x-python",
   "name": "python",
   "nbconvert_exporter": "python",
   "pygments_lexer": "ipython3",
   "version": "3.10.9"
  }
 },
 "nbformat": 4,
 "nbformat_minor": 5
}
